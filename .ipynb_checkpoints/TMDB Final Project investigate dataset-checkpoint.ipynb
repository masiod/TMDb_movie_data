{
 "cells": [
  {
   "cell_type": "markdown",
   "id": "5cc3a1c7",
   "metadata": {},
   "source": [
    "## Gathering Data form External CSV File "
   ]
  },
  {
   "cell_type": "code",
<<<<<<< HEAD
   "execution_count": 80,
=======
<<<<<<< HEAD
   "execution_count": 57,
=======
   "execution_count": 1,
>>>>>>> c80783df9a01ec299e7d3275f4c1b4676de3a744
>>>>>>> 4079c0ad63675620bce988b983472ebd33a1b993
   "id": "d3602d3b",
   "metadata": {},
   "outputs": [],
   "source": [
    "#import libraries and load dataset\n",
    "\n",
    "import pandas as pd\n",
    "import numpy as np\n",
    "%matplotlib inline\n",
    "import matplotlib.pylab as plt\n",
<<<<<<< HEAD
=======
    "import seaborn as sns\n",
>>>>>>> c80783df9a01ec299e7d3275f4c1b4676de3a744
    "\n",
    "df=pd.read_csv('./tmdb-movies.csv')\n",
    "\n",
    "    "
   ]
  },
  {
   "cell_type": "markdown",
   "id": "187f30a2",
   "metadata": {},
   "source": [
    "# Define Question\n",
<<<<<<< HEAD
    ">> #### Visualize budget and revenue each\n",
    "\n",
    ">> #### Is there any correlation between budget and revenue?\n",
    "\n",
    ">> #### What are the top 10 revenue categories based on genres?\n",
    "\n",
    ">> #### What are the top 10 movies in terms of revenue from ten years ago?\n",
    "\n",
    ">> #### How does the result from the previous question compare to the revenue of the same movies in the last year?\n",
    "\n",
    ">> #### How do budget and revenue compare over the last ten years?\n",
    "\n",
    ">> #### Is there any correlation between vote_count and budget_ads, reflecting people's satisfaction?\n",
    "\n",
    ">> #### Is there any correlation between budget_adj and revenue_adj, and what is the magnitude of the difference?\n",
    "\n",
    ">> #### \n",
=======
    "> #### is there any colleration between budget and revenue?\n",
    "> #### what is biggest 10 category revenue based on genres ?\n",
<<<<<<< HEAD
    "> #### what is  10 movies reached hiahest revenue befer ten years?\n",
=======
    "> #### what is  10 movies reached hiahest revenue befor ten years?\n",
>>>>>>> c80783df9a01ec299e7d3275f4c1b4676de3a744
    "> #### compare the result from last question to last year now ?\n",
    "> #### compare budget and revenue over last ten years ?\n",
    "> #### based on vote_count is sastified of people is there any corr between vote_count and budget_ads\n",
    "> #### is there any corr between budget_adj and revenue_adj? and how mach the diff ?\n",
>>>>>>> 4079c0ad63675620bce988b983472ebd33a1b993
    "\n"
   ]
  },
  {
   "cell_type": "code",
<<<<<<< HEAD
   "execution_count": 81,
=======
<<<<<<< HEAD
   "execution_count": 48,
=======
   "execution_count": 2,
>>>>>>> c80783df9a01ec299e7d3275f4c1b4676de3a744
>>>>>>> 4079c0ad63675620bce988b983472ebd33a1b993
   "id": "7882ca87",
   "metadata": {},
   "outputs": [
    {
     "data": {
      "text/html": [
       "<div>\n",
       "<style scoped>\n",
       "    .dataframe tbody tr th:only-of-type {\n",
       "        vertical-align: middle;\n",
       "    }\n",
       "\n",
       "    .dataframe tbody tr th {\n",
       "        vertical-align: top;\n",
       "    }\n",
       "\n",
       "    .dataframe thead th {\n",
       "        text-align: right;\n",
       "    }\n",
       "</style>\n",
       "<table border=\"1\" class=\"dataframe\">\n",
       "  <thead>\n",
       "    <tr style=\"text-align: right;\">\n",
       "      <th></th>\n",
       "      <th>id</th>\n",
       "      <th>imdb_id</th>\n",
       "      <th>popularity</th>\n",
       "      <th>budget</th>\n",
       "      <th>revenue</th>\n",
       "      <th>original_title</th>\n",
       "      <th>cast</th>\n",
       "      <th>homepage</th>\n",
       "      <th>director</th>\n",
       "      <th>tagline</th>\n",
       "      <th>keywords</th>\n",
       "      <th>overview</th>\n",
       "      <th>runtime</th>\n",
       "      <th>genres</th>\n",
       "      <th>production_companies</th>\n",
       "      <th>release_date</th>\n",
       "      <th>vote_count</th>\n",
       "      <th>vote_average</th>\n",
       "      <th>release_year</th>\n",
       "      <th>budget_adj</th>\n",
       "      <th>revenue_adj</th>\n",
       "    </tr>\n",
       "  </thead>\n",
       "  <tbody>\n",
       "    <tr>\n",
       "      <th>0</th>\n",
       "      <td>135397</td>\n",
       "      <td>tt0369610</td>\n",
       "      <td>32.985763</td>\n",
       "      <td>150000000</td>\n",
       "      <td>1513528810</td>\n",
       "      <td>Jurassic World</td>\n",
       "      <td>Chris Pratt|Bryce Dallas Howard|Irrfan Khan|Vi...</td>\n",
       "      <td>http://www.jurassicworld.com/</td>\n",
       "      <td>Colin Trevorrow</td>\n",
       "      <td>The park is open.</td>\n",
       "      <td>monster|dna|tyrannosaurus rex|velociraptor|island</td>\n",
       "      <td>Twenty-two years after the events of Jurassic ...</td>\n",
       "      <td>124</td>\n",
       "      <td>Action|Adventure|Science Fiction|Thriller</td>\n",
       "      <td>Universal Studios|Amblin Entertainment|Legenda...</td>\n",
       "      <td>6/9/15</td>\n",
       "      <td>5562</td>\n",
       "      <td>6.5</td>\n",
       "      <td>2015</td>\n",
       "      <td>1.379999e+08</td>\n",
       "      <td>1.392446e+09</td>\n",
       "    </tr>\n",
       "    <tr>\n",
       "      <th>1</th>\n",
       "      <td>76341</td>\n",
       "      <td>tt1392190</td>\n",
       "      <td>28.419936</td>\n",
       "      <td>150000000</td>\n",
       "      <td>378436354</td>\n",
       "      <td>Mad Max: Fury Road</td>\n",
       "      <td>Tom Hardy|Charlize Theron|Hugh Keays-Byrne|Nic...</td>\n",
       "      <td>http://www.madmaxmovie.com/</td>\n",
       "      <td>George Miller</td>\n",
       "      <td>What a Lovely Day.</td>\n",
       "      <td>future|chase|post-apocalyptic|dystopia|australia</td>\n",
       "      <td>An apocalyptic story set in the furthest reach...</td>\n",
       "      <td>120</td>\n",
       "      <td>Action|Adventure|Science Fiction|Thriller</td>\n",
       "      <td>Village Roadshow Pictures|Kennedy Miller Produ...</td>\n",
       "      <td>5/13/15</td>\n",
       "      <td>6185</td>\n",
       "      <td>7.1</td>\n",
       "      <td>2015</td>\n",
       "      <td>1.379999e+08</td>\n",
       "      <td>3.481613e+08</td>\n",
       "    </tr>\n",
       "    <tr>\n",
       "      <th>2</th>\n",
       "      <td>262500</td>\n",
       "      <td>tt2908446</td>\n",
       "      <td>13.112507</td>\n",
       "      <td>110000000</td>\n",
       "      <td>295238201</td>\n",
       "      <td>Insurgent</td>\n",
       "      <td>Shailene Woodley|Theo James|Kate Winslet|Ansel...</td>\n",
       "      <td>http://www.thedivergentseries.movie/#insurgent</td>\n",
       "      <td>Robert Schwentke</td>\n",
       "      <td>One Choice Can Destroy You</td>\n",
       "      <td>based on novel|revolution|dystopia|sequel|dyst...</td>\n",
       "      <td>Beatrice Prior must confront her inner demons ...</td>\n",
       "      <td>119</td>\n",
       "      <td>Adventure|Science Fiction|Thriller</td>\n",
       "      <td>Summit Entertainment|Mandeville Films|Red Wago...</td>\n",
       "      <td>3/18/15</td>\n",
       "      <td>2480</td>\n",
       "      <td>6.3</td>\n",
       "      <td>2015</td>\n",
       "      <td>1.012000e+08</td>\n",
       "      <td>2.716190e+08</td>\n",
       "    </tr>\n",
       "    <tr>\n",
       "      <th>3</th>\n",
       "      <td>140607</td>\n",
       "      <td>tt2488496</td>\n",
       "      <td>11.173104</td>\n",
       "      <td>200000000</td>\n",
       "      <td>2068178225</td>\n",
       "      <td>Star Wars: The Force Awakens</td>\n",
       "      <td>Harrison Ford|Mark Hamill|Carrie Fisher|Adam D...</td>\n",
       "      <td>http://www.starwars.com/films/star-wars-episod...</td>\n",
       "      <td>J.J. Abrams</td>\n",
       "      <td>Every generation has a story.</td>\n",
       "      <td>android|spaceship|jedi|space opera|3d</td>\n",
       "      <td>Thirty years after defeating the Galactic Empi...</td>\n",
       "      <td>136</td>\n",
       "      <td>Action|Adventure|Science Fiction|Fantasy</td>\n",
       "      <td>Lucasfilm|Truenorth Productions|Bad Robot</td>\n",
       "      <td>12/15/15</td>\n",
       "      <td>5292</td>\n",
       "      <td>7.5</td>\n",
       "      <td>2015</td>\n",
       "      <td>1.839999e+08</td>\n",
       "      <td>1.902723e+09</td>\n",
       "    </tr>\n",
       "    <tr>\n",
       "      <th>4</th>\n",
       "      <td>168259</td>\n",
       "      <td>tt2820852</td>\n",
       "      <td>9.335014</td>\n",
       "      <td>190000000</td>\n",
       "      <td>1506249360</td>\n",
       "      <td>Furious 7</td>\n",
       "      <td>Vin Diesel|Paul Walker|Jason Statham|Michelle ...</td>\n",
       "      <td>http://www.furious7.com/</td>\n",
       "      <td>James Wan</td>\n",
       "      <td>Vengeance Hits Home</td>\n",
       "      <td>car race|speed|revenge|suspense|car</td>\n",
       "      <td>Deckard Shaw seeks revenge against Dominic Tor...</td>\n",
       "      <td>137</td>\n",
       "      <td>Action|Crime|Thriller</td>\n",
       "      <td>Universal Pictures|Original Film|Media Rights ...</td>\n",
       "      <td>4/1/15</td>\n",
       "      <td>2947</td>\n",
       "      <td>7.3</td>\n",
       "      <td>2015</td>\n",
       "      <td>1.747999e+08</td>\n",
       "      <td>1.385749e+09</td>\n",
       "    </tr>\n",
       "  </tbody>\n",
       "</table>\n",
       "</div>"
      ],
      "text/plain": [
       "       id    imdb_id  popularity  ...  release_year    budget_adj   revenue_adj\n",
       "0  135397  tt0369610   32.985763  ...          2015  1.379999e+08  1.392446e+09\n",
       "1   76341  tt1392190   28.419936  ...          2015  1.379999e+08  3.481613e+08\n",
       "2  262500  tt2908446   13.112507  ...          2015  1.012000e+08  2.716190e+08\n",
       "3  140607  tt2488496   11.173104  ...          2015  1.839999e+08  1.902723e+09\n",
       "4  168259  tt2820852    9.335014  ...          2015  1.747999e+08  1.385749e+09\n",
       "\n",
       "[5 rows x 21 columns]"
      ]
     },
<<<<<<< HEAD
     "execution_count": 81,
=======
<<<<<<< HEAD
     "execution_count": 48,
=======
     "execution_count": 2,
>>>>>>> c80783df9a01ec299e7d3275f4c1b4676de3a744
>>>>>>> 4079c0ad63675620bce988b983472ebd33a1b993
     "metadata": {},
     "output_type": "execute_result"
    }
   ],
   "source": [
    "df.head()"
   ]
  },
  {
   "cell_type": "markdown",
   "id": "669684e8",
   "metadata": {},
   "source": [
    "#  data Wrangling >  data Gathering >  data Assessting > data cleaning \n",
    "\n",
    "\n"
   ]
  },
  {
   "cell_type": "code",
<<<<<<< HEAD
   "execution_count": 82,
=======
<<<<<<< HEAD
   "execution_count": 28,
=======
   "execution_count": 3,
>>>>>>> c80783df9a01ec299e7d3275f4c1b4676de3a744
>>>>>>> 4079c0ad63675620bce988b983472ebd33a1b993
   "id": "41fc65b0",
   "metadata": {
    "scrolled": true
   },
   "outputs": [],
   "source": [
    "#deleted columns that's we don't need it \n",
    "df.drop(['cast','overview','tagline'],axis=1,inplace=True)"
   ]
  },
  {
   "cell_type": "code",
<<<<<<< HEAD
   "execution_count": 83,
=======
<<<<<<< HEAD
   "execution_count": 29,
=======
   "execution_count": 4,
>>>>>>> c80783df9a01ec299e7d3275f4c1b4676de3a744
>>>>>>> 4079c0ad63675620bce988b983472ebd33a1b993
   "id": "69d86762",
   "metadata": {},
   "outputs": [
    {
     "data": {
      "text/html": [
       "<div>\n",
       "<style scoped>\n",
       "    .dataframe tbody tr th:only-of-type {\n",
       "        vertical-align: middle;\n",
       "    }\n",
       "\n",
       "    .dataframe tbody tr th {\n",
       "        vertical-align: top;\n",
       "    }\n",
       "\n",
       "    .dataframe thead th {\n",
       "        text-align: right;\n",
       "    }\n",
       "</style>\n",
       "<table border=\"1\" class=\"dataframe\">\n",
       "  <thead>\n",
       "    <tr style=\"text-align: right;\">\n",
       "      <th></th>\n",
       "      <th>id</th>\n",
       "      <th>imdb_id</th>\n",
       "      <th>popularity</th>\n",
       "      <th>budget</th>\n",
       "      <th>revenue</th>\n",
       "      <th>original_title</th>\n",
       "      <th>homepage</th>\n",
       "      <th>director</th>\n",
       "      <th>keywords</th>\n",
       "      <th>runtime</th>\n",
       "      <th>genres</th>\n",
       "      <th>production_companies</th>\n",
       "      <th>release_date</th>\n",
       "      <th>vote_count</th>\n",
       "      <th>vote_average</th>\n",
       "      <th>release_year</th>\n",
       "      <th>budget_adj</th>\n",
       "      <th>revenue_adj</th>\n",
       "    </tr>\n",
       "  </thead>\n",
       "  <tbody>\n",
       "    <tr>\n",
       "      <th>0</th>\n",
       "      <td>135397</td>\n",
       "      <td>tt0369610</td>\n",
       "      <td>32.985763</td>\n",
       "      <td>150000000</td>\n",
       "      <td>1513528810</td>\n",
       "      <td>Jurassic World</td>\n",
       "      <td>http://www.jurassicworld.com/</td>\n",
       "      <td>Colin Trevorrow</td>\n",
       "      <td>monster|dna|tyrannosaurus rex|velociraptor|island</td>\n",
       "      <td>124</td>\n",
       "      <td>Action|Adventure|Science Fiction|Thriller</td>\n",
       "      <td>Universal Studios|Amblin Entertainment|Legenda...</td>\n",
       "      <td>6/9/15</td>\n",
       "      <td>5562</td>\n",
       "      <td>6.5</td>\n",
       "      <td>2015</td>\n",
       "      <td>1.379999e+08</td>\n",
       "      <td>1.392446e+09</td>\n",
       "    </tr>\n",
       "    <tr>\n",
       "      <th>1</th>\n",
       "      <td>76341</td>\n",
       "      <td>tt1392190</td>\n",
       "      <td>28.419936</td>\n",
       "      <td>150000000</td>\n",
       "      <td>378436354</td>\n",
       "      <td>Mad Max: Fury Road</td>\n",
       "      <td>http://www.madmaxmovie.com/</td>\n",
       "      <td>George Miller</td>\n",
       "      <td>future|chase|post-apocalyptic|dystopia|australia</td>\n",
       "      <td>120</td>\n",
       "      <td>Action|Adventure|Science Fiction|Thriller</td>\n",
       "      <td>Village Roadshow Pictures|Kennedy Miller Produ...</td>\n",
       "      <td>5/13/15</td>\n",
       "      <td>6185</td>\n",
       "      <td>7.1</td>\n",
       "      <td>2015</td>\n",
       "      <td>1.379999e+08</td>\n",
       "      <td>3.481613e+08</td>\n",
       "    </tr>\n",
       "    <tr>\n",
       "      <th>2</th>\n",
       "      <td>262500</td>\n",
       "      <td>tt2908446</td>\n",
       "      <td>13.112507</td>\n",
       "      <td>110000000</td>\n",
       "      <td>295238201</td>\n",
       "      <td>Insurgent</td>\n",
       "      <td>http://www.thedivergentseries.movie/#insurgent</td>\n",
       "      <td>Robert Schwentke</td>\n",
       "      <td>based on novel|revolution|dystopia|sequel|dyst...</td>\n",
       "      <td>119</td>\n",
       "      <td>Adventure|Science Fiction|Thriller</td>\n",
       "      <td>Summit Entertainment|Mandeville Films|Red Wago...</td>\n",
       "      <td>3/18/15</td>\n",
       "      <td>2480</td>\n",
       "      <td>6.3</td>\n",
       "      <td>2015</td>\n",
       "      <td>1.012000e+08</td>\n",
       "      <td>2.716190e+08</td>\n",
       "    </tr>\n",
       "    <tr>\n",
       "      <th>3</th>\n",
       "      <td>140607</td>\n",
       "      <td>tt2488496</td>\n",
       "      <td>11.173104</td>\n",
       "      <td>200000000</td>\n",
       "      <td>2068178225</td>\n",
       "      <td>Star Wars: The Force Awakens</td>\n",
       "      <td>http://www.starwars.com/films/star-wars-episod...</td>\n",
       "      <td>J.J. Abrams</td>\n",
       "      <td>android|spaceship|jedi|space opera|3d</td>\n",
       "      <td>136</td>\n",
       "      <td>Action|Adventure|Science Fiction|Fantasy</td>\n",
       "      <td>Lucasfilm|Truenorth Productions|Bad Robot</td>\n",
       "      <td>12/15/15</td>\n",
       "      <td>5292</td>\n",
       "      <td>7.5</td>\n",
       "      <td>2015</td>\n",
       "      <td>1.839999e+08</td>\n",
       "      <td>1.902723e+09</td>\n",
       "    </tr>\n",
       "    <tr>\n",
       "      <th>4</th>\n",
       "      <td>168259</td>\n",
       "      <td>tt2820852</td>\n",
       "      <td>9.335014</td>\n",
       "      <td>190000000</td>\n",
       "      <td>1506249360</td>\n",
       "      <td>Furious 7</td>\n",
       "      <td>http://www.furious7.com/</td>\n",
       "      <td>James Wan</td>\n",
       "      <td>car race|speed|revenge|suspense|car</td>\n",
       "      <td>137</td>\n",
       "      <td>Action|Crime|Thriller</td>\n",
       "      <td>Universal Pictures|Original Film|Media Rights ...</td>\n",
       "      <td>4/1/15</td>\n",
       "      <td>2947</td>\n",
       "      <td>7.3</td>\n",
       "      <td>2015</td>\n",
       "      <td>1.747999e+08</td>\n",
       "      <td>1.385749e+09</td>\n",
       "    </tr>\n",
       "  </tbody>\n",
       "</table>\n",
       "</div>"
      ],
      "text/plain": [
<<<<<<< HEAD
       "       id    imdb_id  popularity  ...  release_year    budget_adj   revenue_adj\n",
       "0  135397  tt0369610   32.985763  ...          2015  1.379999e+08  1.392446e+09\n",
       "1   76341  tt1392190   28.419936  ...          2015  1.379999e+08  3.481613e+08\n",
       "2  262500  tt2908446   13.112507  ...          2015  1.012000e+08  2.716190e+08\n",
       "3  140607  tt2488496   11.173104  ...          2015  1.839999e+08  1.902723e+09\n",
       "4  168259  tt2820852    9.335014  ...          2015  1.747999e+08  1.385749e+09\n",
       "\n",
       "[5 rows x 18 columns]"
      ]
     },
     "execution_count": 29,
=======
       "       id    imdb_id  popularity     budget     revenue  \\\n",
       "0  135397  tt0369610   32.985763  150000000  1513528810   \n",
       "1   76341  tt1392190   28.419936  150000000   378436354   \n",
       "2  262500  tt2908446   13.112507  110000000   295238201   \n",
       "3  140607  tt2488496   11.173104  200000000  2068178225   \n",
       "4  168259  tt2820852    9.335014  190000000  1506249360   \n",
       "\n",
       "                 original_title  \\\n",
       "0                Jurassic World   \n",
       "1            Mad Max: Fury Road   \n",
       "2                     Insurgent   \n",
       "3  Star Wars: The Force Awakens   \n",
       "4                     Furious 7   \n",
       "\n",
       "                                            homepage          director  \\\n",
       "0                      http://www.jurassicworld.com/   Colin Trevorrow   \n",
       "1                        http://www.madmaxmovie.com/     George Miller   \n",
       "2     http://www.thedivergentseries.movie/#insurgent  Robert Schwentke   \n",
       "3  http://www.starwars.com/films/star-wars-episod...       J.J. Abrams   \n",
       "4                           http://www.furious7.com/         James Wan   \n",
       "\n",
       "                                            keywords  runtime  \\\n",
       "0  monster|dna|tyrannosaurus rex|velociraptor|island      124   \n",
       "1   future|chase|post-apocalyptic|dystopia|australia      120   \n",
       "2  based on novel|revolution|dystopia|sequel|dyst...      119   \n",
       "3              android|spaceship|jedi|space opera|3d      136   \n",
       "4                car race|speed|revenge|suspense|car      137   \n",
       "\n",
       "                                      genres  \\\n",
       "0  Action|Adventure|Science Fiction|Thriller   \n",
       "1  Action|Adventure|Science Fiction|Thriller   \n",
       "2         Adventure|Science Fiction|Thriller   \n",
       "3   Action|Adventure|Science Fiction|Fantasy   \n",
       "4                      Action|Crime|Thriller   \n",
       "\n",
       "                                production_companies release_date  vote_count  \\\n",
       "0  Universal Studios|Amblin Entertainment|Legenda...       6/9/15        5562   \n",
       "1  Village Roadshow Pictures|Kennedy Miller Produ...      5/13/15        6185   \n",
       "2  Summit Entertainment|Mandeville Films|Red Wago...      3/18/15        2480   \n",
       "3          Lucasfilm|Truenorth Productions|Bad Robot     12/15/15        5292   \n",
       "4  Universal Pictures|Original Film|Media Rights ...       4/1/15        2947   \n",
       "\n",
       "   vote_average  release_year    budget_adj   revenue_adj  \n",
       "0           6.5          2015  1.379999e+08  1.392446e+09  \n",
       "1           7.1          2015  1.379999e+08  3.481613e+08  \n",
       "2           6.3          2015  1.012000e+08  2.716190e+08  \n",
       "3           7.5          2015  1.839999e+08  1.902723e+09  \n",
       "4           7.3          2015  1.747999e+08  1.385749e+09  "
      ]
     },
<<<<<<< HEAD
     "execution_count": 83,
=======
     "execution_count": 4,
>>>>>>> c80783df9a01ec299e7d3275f4c1b4676de3a744
>>>>>>> 4079c0ad63675620bce988b983472ebd33a1b993
     "metadata": {},
     "output_type": "execute_result"
    }
   ],
   "source": [
    "df.head()"
   ]
  },
  {
   "cell_type": "code",
<<<<<<< HEAD
   "execution_count": 84,
=======
<<<<<<< HEAD
   "execution_count": 30,
=======
   "execution_count": 5,
>>>>>>> c80783df9a01ec299e7d3275f4c1b4676de3a744
>>>>>>> 4079c0ad63675620bce988b983472ebd33a1b993
   "id": "7c14f660",
   "metadata": {},
   "outputs": [
    {
     "data": {
      "text/plain": [
       "(10866, 18)"
      ]
     },
<<<<<<< HEAD
     "execution_count": 84,
=======
<<<<<<< HEAD
     "execution_count": 30,
=======
     "execution_count": 5,
>>>>>>> c80783df9a01ec299e7d3275f4c1b4676de3a744
>>>>>>> 4079c0ad63675620bce988b983472ebd33a1b993
     "metadata": {},
     "output_type": "execute_result"
    }
   ],
   "source": [
    "#counts rows and columns \n",
    "df.shape"
   ]
  },
  {
<<<<<<< HEAD
=======
   "cell_type": "code",
<<<<<<< HEAD
   "execution_count": 31,
=======
   "execution_count": 6,
>>>>>>> c80783df9a01ec299e7d3275f4c1b4676de3a744
   "id": "6b692e5a",
   "metadata": {},
   "outputs": [
    {
     "name": "stdout",
     "output_type": "stream",
     "text": [
      "<class 'pandas.core.frame.DataFrame'>\n",
      "RangeIndex: 10866 entries, 0 to 10865\n",
      "Data columns (total 18 columns):\n",
      " #   Column                Non-Null Count  Dtype  \n",
      "---  ------                --------------  -----  \n",
      " 0   id                    10866 non-null  int64  \n",
      " 1   imdb_id               10856 non-null  object \n",
      " 2   popularity            10866 non-null  float64\n",
      " 3   budget                10866 non-null  int64  \n",
      " 4   revenue               10866 non-null  int64  \n",
      " 5   original_title        10866 non-null  object \n",
      " 6   homepage              2936 non-null   object \n",
      " 7   director              10822 non-null  object \n",
      " 8   keywords              9373 non-null   object \n",
      " 9   runtime               10866 non-null  int64  \n",
      " 10  genres                10843 non-null  object \n",
      " 11  production_companies  9836 non-null   object \n",
      " 12  release_date          10866 non-null  object \n",
      " 13  vote_count            10866 non-null  int64  \n",
      " 14  vote_average          10866 non-null  float64\n",
      " 15  release_year          10866 non-null  int64  \n",
      " 16  budget_adj            10866 non-null  float64\n",
      " 17  revenue_adj           10866 non-null  float64\n",
      "dtypes: float64(4), int64(6), object(8)\n",
      "memory usage: 1.5+ MB\n"
     ]
    }
   ],
   "source": [
    "#info for check datatype incorrect and misssing data\n",
    "df.info()"
   ]
  },
  {
>>>>>>> 4079c0ad63675620bce988b983472ebd33a1b993
   "cell_type": "markdown",
   "id": "7d9af928",
   "metadata": {},
   "source": [
    "### data cleaning\n",
    "\n",
    "> * there is missing data in ['homepage','tagline','keywords','production_companies','genres','director','imdb_id']\n",
    " \n",
    "> * we have to optimize the dataset its 1.6+ MB like ['runtime','vote_count','vote_average']\n",
    " \n",
    "> * to more optimize dataset we have to change datatype of some column to category datatype like ['geners','production_companies']\n",
    " \n",
    "> * we have to change incorrect datatype like ['release_date']"
   ]
  },
  {
   "cell_type": "code",
<<<<<<< HEAD
   "execution_count": 85,
=======
<<<<<<< HEAD
   "execution_count": 32,
=======
   "execution_count": 7,
>>>>>>> c80783df9a01ec299e7d3275f4c1b4676de3a744
>>>>>>> 4079c0ad63675620bce988b983472ebd33a1b993
   "id": "c7df33d5",
   "metadata": {},
   "outputs": [
    {
     "data": {
      "text/plain": [
       "array(['http://www.jurassicworld.com/', 'http://www.madmaxmovie.com/',\n",
       "       'http://www.thedivergentseries.movie/#insurgent', ...,\n",
       "       'http://www.animalhouse.com/',\n",
       "       'http://www.mgm.com/#/our-titles/1092/The-Last-Waltz/',\n",
       "       'http://en.wikipedia.org/wiki/Hooper_(film)'], dtype=object)"
      ]
     },
<<<<<<< HEAD
     "execution_count": 85,
=======
<<<<<<< HEAD
     "execution_count": 32,
=======
     "execution_count": 7,
>>>>>>> c80783df9a01ec299e7d3275f4c1b4676de3a744
>>>>>>> 4079c0ad63675620bce988b983472ebd33a1b993
     "metadata": {},
     "output_type": "execute_result"
    }
   ],
   "source": [
    "df.homepage.unique()"
   ]
  },
  {
   "cell_type": "code",
<<<<<<< HEAD
   "execution_count": 86,
=======
<<<<<<< HEAD
   "execution_count": 33,
=======
   "execution_count": 8,
>>>>>>> c80783df9a01ec299e7d3275f4c1b4676de3a744
>>>>>>> 4079c0ad63675620bce988b983472ebd33a1b993
   "id": "848f011a",
   "metadata": {},
   "outputs": [
    {
     "data": {
      "text/plain": [
       "1"
      ]
     },
<<<<<<< HEAD
     "execution_count": 86,
=======
<<<<<<< HEAD
     "execution_count": 33,
=======
     "execution_count": 8,
>>>>>>> c80783df9a01ec299e7d3275f4c1b4676de3a744
>>>>>>> 4079c0ad63675620bce988b983472ebd33a1b993
     "metadata": {},
     "output_type": "execute_result"
    }
   ],
   "source": [
    "#first remove duplecates rows \n",
    "df.duplicated().sum()"
   ]
  },
  {
   "cell_type": "code",
<<<<<<< HEAD
   "execution_count": 87,
=======
<<<<<<< HEAD
   "execution_count": 34,
=======
   "execution_count": 9,
>>>>>>> c80783df9a01ec299e7d3275f4c1b4676de3a744
>>>>>>> 4079c0ad63675620bce988b983472ebd33a1b993
   "id": "3782f53d",
   "metadata": {},
   "outputs": [],
   "source": [
    "#remove duplicated data\n",
    "df.drop_duplicates(inplace=True)"
   ]
  },
  {
   "cell_type": "code",
<<<<<<< HEAD
   "execution_count": 88,
=======
<<<<<<< HEAD
   "execution_count": 35,
=======
   "execution_count": 10,
>>>>>>> c80783df9a01ec299e7d3275f4c1b4676de3a744
>>>>>>> 4079c0ad63675620bce988b983472ebd33a1b993
   "id": "d91fed07",
   "metadata": {},
   "outputs": [
    {
     "data": {
      "text/plain": [
       "0"
      ]
     },
<<<<<<< HEAD
     "execution_count": 88,
=======
<<<<<<< HEAD
     "execution_count": 35,
=======
     "execution_count": 10,
>>>>>>> c80783df9a01ec299e7d3275f4c1b4676de3a744
>>>>>>> 4079c0ad63675620bce988b983472ebd33a1b993
     "metadata": {},
     "output_type": "execute_result"
    }
   ],
   "source": [
    "#recheck if we removed duplecates rows \n",
    "df.duplicated().sum()"
   ]
  },
  {
   "cell_type": "code",
<<<<<<< HEAD
   "execution_count": 89,
=======
<<<<<<< HEAD
   "execution_count": 36,
=======
   "execution_count": 11,
>>>>>>> c80783df9a01ec299e7d3275f4c1b4676de3a744
>>>>>>> 4079c0ad63675620bce988b983472ebd33a1b993
   "id": "b24272ef",
   "metadata": {},
   "outputs": [],
   "source": [
    "#dealing with missing data  \n",
    "df.dropna(how='any',axis=0,inplace=True)"
   ]
  },
  {
   "cell_type": "code",
<<<<<<< HEAD
   "execution_count": 90,
   "id": "3cd11e29",
   "metadata": {},
   "outputs": [],
=======
<<<<<<< HEAD
   "execution_count": 40,
   "id": "3cd11e29",
   "metadata": {},
   "outputs": [],
=======
   "execution_count": 12,
   "id": "3cd11e29",
   "metadata": {},
   "outputs": [
    {
     "name": "stderr",
     "output_type": "stream",
     "text": [
      "C:\\Users\\abda1\\AppData\\Local\\Temp\\ipykernel_16652\\4221999696.py:4: UserWarning: Could not infer format, so each element will be parsed individually, falling back to `dateutil`. To ensure parsing is consistent and as-expected, please specify a format.\n",
      "  df['release_date'] = pd.to_datetime(df['release_date'])\n"
     ]
    }
   ],
>>>>>>> c80783df9a01ec299e7d3275f4c1b4676de3a744
>>>>>>> 4079c0ad63675620bce988b983472ebd33a1b993
   "source": [
    "#change datatype for incorrct datatype columns and optimize dataset to reduce the size of dataset\n",
    "df['genres']= df['genres'].astype('category')\n",
    "df['production_companies']= df['production_companies'].astype('category')\n",
    "df['release_date'] = pd.to_datetime(df['release_date'])\n"
   ]
  },
  {
   "cell_type": "code",
<<<<<<< HEAD
   "execution_count": 91,
=======
<<<<<<< HEAD
   "execution_count": 38,
=======
   "execution_count": 13,
>>>>>>> c80783df9a01ec299e7d3275f4c1b4676de3a744
>>>>>>> 4079c0ad63675620bce988b983472ebd33a1b993
   "id": "55cfb1ec",
   "metadata": {},
   "outputs": [],
   "source": [
    "#optimize more column from int64 and float64\n",
    "df['runtime']= df['runtime'].astype('int8')\n",
    "df['vote_count']= df['vote_count'].astype('int32')\n",
    "df['vote_average']= df['vote_average'].astype('float32')\n"
   ]
  },
  {
   "cell_type": "markdown",
   "id": "13777499",
   "metadata": {},
   "source": [
    "df.info()"
   ]
  },
  {
   "cell_type": "markdown",
   "id": "54718d98",
   "metadata": {},
   "source": [
    "## Exploratory Data Analysis (EDA)\n"
   ]
  },
  {
   "cell_type": "code",
<<<<<<< HEAD
   "execution_count": 112,
=======
<<<<<<< HEAD
   "execution_count": 41,
=======
   "execution_count": 14,
>>>>>>> c80783df9a01ec299e7d3275f4c1b4676de3a744
>>>>>>> 4079c0ad63675620bce988b983472ebd33a1b993
   "id": "c4e3170a",
   "metadata": {},
   "outputs": [
    {
     "data": {
      "text/html": [
       "<div>\n",
       "<style scoped>\n",
       "    .dataframe tbody tr th:only-of-type {\n",
       "        vertical-align: middle;\n",
       "    }\n",
       "\n",
       "    .dataframe tbody tr th {\n",
       "        vertical-align: top;\n",
       "    }\n",
       "\n",
       "    .dataframe thead th {\n",
       "        text-align: right;\n",
       "    }\n",
       "</style>\n",
       "<table border=\"1\" class=\"dataframe\">\n",
       "  <thead>\n",
       "    <tr style=\"text-align: right;\">\n",
       "      <th></th>\n",
       "      <th>id</th>\n",
       "      <th>imdb_id</th>\n",
       "      <th>popularity</th>\n",
       "      <th>budget</th>\n",
       "      <th>revenue</th>\n",
       "      <th>original_title</th>\n",
       "      <th>homepage</th>\n",
       "      <th>director</th>\n",
       "      <th>keywords</th>\n",
       "      <th>runtime</th>\n",
       "      <th>genres</th>\n",
       "      <th>production_companies</th>\n",
       "      <th>release_date</th>\n",
       "      <th>vote_count</th>\n",
       "      <th>vote_average</th>\n",
       "      <th>release_year</th>\n",
       "      <th>budget_adj</th>\n",
       "      <th>revenue_adj</th>\n",
       "    </tr>\n",
       "  </thead>\n",
       "  <tbody>\n",
       "    <tr>\n",
       "      <th>0</th>\n",
       "      <td>135397</td>\n",
       "      <td>tt0369610</td>\n",
       "      <td>32.985763</td>\n",
       "      <td>150000000</td>\n",
       "      <td>1513528810</td>\n",
       "      <td>Jurassic World</td>\n",
       "      <td>http://www.jurassicworld.com/</td>\n",
       "      <td>Colin Trevorrow</td>\n",
       "      <td>monster|dna|tyrannosaurus rex|velociraptor|island</td>\n",
       "      <td>124</td>\n",
       "      <td>Action|Adventure|Science Fiction|Thriller</td>\n",
       "      <td>Universal Studios|Amblin Entertainment|Legenda...</td>\n",
       "      <td>2015-06-09</td>\n",
       "      <td>5562</td>\n",
       "      <td>6.5</td>\n",
       "      <td>2015</td>\n",
       "      <td>1.379999e+08</td>\n",
       "      <td>1.392446e+09</td>\n",
       "    </tr>\n",
       "    <tr>\n",
       "      <th>1</th>\n",
       "      <td>76341</td>\n",
       "      <td>tt1392190</td>\n",
       "      <td>28.419936</td>\n",
       "      <td>150000000</td>\n",
       "      <td>378436354</td>\n",
       "      <td>Mad Max: Fury Road</td>\n",
       "      <td>http://www.madmaxmovie.com/</td>\n",
       "      <td>George Miller</td>\n",
       "      <td>future|chase|post-apocalyptic|dystopia|australia</td>\n",
       "      <td>120</td>\n",
       "      <td>Action|Adventure|Science Fiction|Thriller</td>\n",
       "      <td>Village Roadshow Pictures|Kennedy Miller Produ...</td>\n",
       "      <td>2015-05-13</td>\n",
       "      <td>6185</td>\n",
       "      <td>7.1</td>\n",
       "      <td>2015</td>\n",
       "      <td>1.379999e+08</td>\n",
       "      <td>3.481613e+08</td>\n",
       "    </tr>\n",
       "    <tr>\n",
       "      <th>2</th>\n",
       "      <td>262500</td>\n",
       "      <td>tt2908446</td>\n",
       "      <td>13.112507</td>\n",
       "      <td>110000000</td>\n",
       "      <td>295238201</td>\n",
       "      <td>Insurgent</td>\n",
       "      <td>http://www.thedivergentseries.movie/#insurgent</td>\n",
       "      <td>Robert Schwentke</td>\n",
       "      <td>based on novel|revolution|dystopia|sequel|dyst...</td>\n",
       "      <td>119</td>\n",
       "      <td>Adventure|Science Fiction|Thriller</td>\n",
       "      <td>Summit Entertainment|Mandeville Films|Red Wago...</td>\n",
       "      <td>2015-03-18</td>\n",
       "      <td>2480</td>\n",
       "      <td>6.3</td>\n",
       "      <td>2015</td>\n",
       "      <td>1.012000e+08</td>\n",
       "      <td>2.716190e+08</td>\n",
       "    </tr>\n",
       "    <tr>\n",
       "      <th>3</th>\n",
       "      <td>140607</td>\n",
       "      <td>tt2488496</td>\n",
       "      <td>11.173104</td>\n",
       "      <td>200000000</td>\n",
       "      <td>2068178225</td>\n",
       "      <td>Star Wars: The Force Awakens</td>\n",
       "      <td>http://www.starwars.com/films/star-wars-episod...</td>\n",
       "      <td>J.J. Abrams</td>\n",
       "      <td>android|spaceship|jedi|space opera|3d</td>\n",
       "      <td>-120</td>\n",
       "      <td>Action|Adventure|Science Fiction|Fantasy</td>\n",
       "      <td>Lucasfilm|Truenorth Productions|Bad Robot</td>\n",
       "      <td>2015-12-15</td>\n",
       "      <td>5292</td>\n",
       "      <td>7.5</td>\n",
       "      <td>2015</td>\n",
       "      <td>1.839999e+08</td>\n",
       "      <td>1.902723e+09</td>\n",
       "    </tr>\n",
       "    <tr>\n",
       "      <th>4</th>\n",
       "      <td>168259</td>\n",
       "      <td>tt2820852</td>\n",
       "      <td>9.335014</td>\n",
       "      <td>190000000</td>\n",
       "      <td>1506249360</td>\n",
       "      <td>Furious 7</td>\n",
       "      <td>http://www.furious7.com/</td>\n",
       "      <td>James Wan</td>\n",
       "      <td>car race|speed|revenge|suspense|car</td>\n",
       "      <td>-119</td>\n",
       "      <td>Action|Crime|Thriller</td>\n",
       "      <td>Universal Pictures|Original Film|Media Rights ...</td>\n",
       "      <td>2015-04-01</td>\n",
       "      <td>2947</td>\n",
       "      <td>7.3</td>\n",
       "      <td>2015</td>\n",
       "      <td>1.747999e+08</td>\n",
       "      <td>1.385749e+09</td>\n",
       "    </tr>\n",
       "  </tbody>\n",
       "</table>\n",
       "</div>"
      ],
      "text/plain": [
       "       id    imdb_id  popularity  ...  release_year    budget_adj   revenue_adj\n",
       "0  135397  tt0369610   32.985763  ...          2015  1.379999e+08  1.392446e+09\n",
       "1   76341  tt1392190   28.419936  ...          2015  1.379999e+08  3.481613e+08\n",
       "2  262500  tt2908446   13.112507  ...          2015  1.012000e+08  2.716190e+08\n",
       "3  140607  tt2488496   11.173104  ...          2015  1.839999e+08  1.902723e+09\n",
       "4  168259  tt2820852    9.335014  ...          2015  1.747999e+08  1.385749e+09\n",
       "\n",
       "[5 rows x 18 columns]"
      ]
     },
<<<<<<< HEAD
     "execution_count": 112,
=======
<<<<<<< HEAD
     "execution_count": 41,
=======
     "execution_count": 14,
>>>>>>> c80783df9a01ec299e7d3275f4c1b4676de3a744
>>>>>>> 4079c0ad63675620bce988b983472ebd33a1b993
     "metadata": {},
     "output_type": "execute_result"
    }
   ],
   "source": [
    "df.head()"
   ]
  },
  {
   "cell_type": "markdown",
   "id": "cbbcd0b6",
   "metadata": {},
   "source": [
<<<<<<< HEAD
    "## Visualize budget and revenue over decade?\n"
=======
<<<<<<< HEAD
    "## is there any correlation between budget and revenue?"
=======
    "> ## is there any correlation between budget and revenue?"
>>>>>>> c80783df9a01ec299e7d3275f4c1b4676de3a744
>>>>>>> 4079c0ad63675620bce988b983472ebd33a1b993
   ]
  },
  {
   "cell_type": "code",
<<<<<<< HEAD
   "execution_count": 120,
   "id": "151251af",
   "metadata": {},
   "outputs": [],
   "source": [
    "#Ten_years func would help us to visualize budget \n",
    "def create_box_plot(data, x_col, y_col, title, x_label, y_label, palette='viridis'):\n",
    "    # Filter the data for the specified range of years\n",
    "    filtered_data = data[(data[x_col] >= 2005) & (data[x_col] <= 2015)]\n",
    "    \n",
    "    sns.set(style=\"whitegrid\")\n",
    "    \n",
    "    plt.figure(figsize=(10, 6))\n",
    "    sns.boxplot(x=x_col, y=y_col, data=filtered_data, palette=palette)\n",
    "\n",
    "    plt.title(title)\n",
    "    plt.xlabel(x_label)\n",
    "    plt.ylabel(y_label)\n",
    "\n",
    "    plt.show()"
   ]
  },
  {
   "cell_type": "code",
   "execution_count": 121,
   "id": "3d3af7b7",
   "metadata": {},
   "outputs": [
    {
     "data": {
      "image/png": "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\n",
      "text/plain": [
       "<Figure size 1000x600 with 1 Axes>"
      ]
     },
     "metadata": {},
     "output_type": "display_data"
    }
   ],
   "source": [
    "# Example usage for 'budget'\n",
    "create_box_plot(df, 'release_year', 'budget', 'Box Plot of Budget Over Ten Years (2005-2015)', 'Release Year', 'Budget')\n"
   ]
  },
  {
   "cell_type": "code",
   "execution_count": 122,
   "id": "260cf441",
   "metadata": {},
   "outputs": [
    {
     "data": {
      "image/png": "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\n",
      "text/plain": [
       "<Figure size 1000x600 with 1 Axes>"
      ]
     },
     "metadata": {},
     "output_type": "display_data"
    }
   ],
   "source": [
    "\n",
    "# Example usage for 'revenue'\n",
    "create_box_plot(df, 'release_year', 'revenue', 'Box Plot of Revenue Over Ten Years (2005-2015)', 'Release Year', 'Revenue')"
   ]
  },
  {
   "cell_type": "markdown",
   "id": "9c80a5e8",
   "metadata": {},
   "source": [
    "> ## Is there any correlation between budget and revenue?"
   ]
  },
  {
   "cell_type": "code",
   "execution_count": 93,
=======
<<<<<<< HEAD
   "execution_count": 56,
=======
   "execution_count": 15,
>>>>>>> c80783df9a01ec299e7d3275f4c1b4676de3a744
>>>>>>> 4079c0ad63675620bce988b983472ebd33a1b993
   "id": "9e41dcd1",
   "metadata": {},
   "outputs": [
    {
     "data": {
      "text/plain": [
<<<<<<< HEAD
       "0.7556517416104743"
      ]
     },
     "execution_count": 93,
=======
<<<<<<< HEAD
       "0.7349006819076118"
      ]
     },
     "execution_count": 56,
=======
       "0.7556517416104735"
      ]
     },
     "execution_count": 15,
>>>>>>> c80783df9a01ec299e7d3275f4c1b4676de3a744
>>>>>>> 4079c0ad63675620bce988b983472ebd33a1b993
     "metadata": {},
     "output_type": "execute_result"
    }
   ],
   "source": [
    "#calculate Correltion between budget and revenue \n",
    "correlation_matrix=df['budget'].corr(df['revenue'])\n",
    "correlation_matrix"
   ]
  },
  {
   "cell_type": "code",
<<<<<<< HEAD
   "execution_count": 94,
   "id": "c65bd952",
   "metadata": {},
   "outputs": [],
   "source": [
    "#function to visualize out data without repeating our Codes\n",
    "def scatter_chart(column_one,column_two,title):\n",
    "    plt.figure(figsize=(10,6))\n",
    "    plt.scatter(df[column_one],df[column_two])\n",
    "    plt.xlabel(column_one , fontsize=14)\n",
    "    plt.ylabel(column_two,fontsize=12)\n",
    "    plt.title(title,fontsize=12)\n",
    "    plt.grid(True)\n",
    "    plt.show()"
   ]
  },
  {
   "cell_type": "code",
   "execution_count": 95,
=======
<<<<<<< HEAD
   "execution_count": 59,
=======
   "execution_count": 16,
>>>>>>> c80783df9a01ec299e7d3275f4c1b4676de3a744
>>>>>>> 4079c0ad63675620bce988b983472ebd33a1b993
   "id": "4d030479",
   "metadata": {},
   "outputs": [
    {
     "data": {
<<<<<<< HEAD
      "image/png": "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\n",
=======
<<<<<<< HEAD
      "image/png": "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",
=======
      "image/png": "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",
>>>>>>> c80783df9a01ec299e7d3275f4c1b4676de3a744
>>>>>>> 4079c0ad63675620bce988b983472ebd33a1b993
      "text/plain": [
       "<Figure size 1000x600 with 1 Axes>"
      ]
     },
     "metadata": {},
     "output_type": "display_data"
    }
   ],
   "source": [
    "#visualize the relationship between budget and revenue by our func scatter_chart we will recall it \n",
    "scatter_chart('budget','revenue','Scatter Plot Of Budget VS Revenue')\n",
    "\n"
   ]
  },
  {
<<<<<<< HEAD
   "cell_type": "markdown",
   "id": "74abd4cf",
=======
   "cell_type": "code",
   "execution_count": 96,
   "id": "3fd18d94",
>>>>>>> c80783df9a01ec299e7d3275f4c1b4676de3a744
   "metadata": {},
   "outputs": [
    {
     "data": {
      "text/plain": [
       "\"There is a positive correlation of 0.76 between 'budget' and 'revenue'. This suggests that, on average, higher budget allocations are associated with higher revenue.\""
      ]
     },
     "execution_count": 96,
     "metadata": {},
     "output_type": "execute_result"
    }
   ],
   "source": [
<<<<<<< HEAD
=======
<<<<<<< HEAD
    "## there is no correlation between budget and revenue"
   ]
=======
    "#statistical signigicance \n",
    "from scipy.stats import pearsonr\n",
>>>>>>> 4079c0ad63675620bce988b983472ebd33a1b993
    "\n",
    "\n",
    "# Calculate the correlation\n",
    "correlation_value = df['budget'].corr(df['revenue'])\n",
    "\n",
    "# Insert the conclusion based on the correlation\n",
    "if correlation_value > 0:\n",
    "    conclusion = f\"There is a positive correlation of {correlation_value:.2f} between 'budget' and 'revenue'. This suggests that, on average, higher budget allocations are associated with higher revenue.\"\n",
    "elif correlation_value < 0:\n",
    "    conclusion = f\"There is a negative correlation of {correlation_value:.2f} between 'budget' and 'revenue'. This suggests that, on average, higher budget allocations are associated with lower revenue.\"\n",
    "else:\n",
    "    conclusion = \"There is no significant correlation between 'budget' and 'revenue'. This suggests that the budget allocations and revenue are not strongly related.\"\n",
    "\n",
    "\n",
    "conclusion\n"
   ]
  },
  {
   "cell_type": "markdown",
   "id": "74abd4cf",
   "metadata": {},
   "source": [
    "### answer Q1 : is there any correlation between budget and revenue?\n",
    ">> #### There is a positive correlation of 0.76 between 'budget' and 'revenue'. This suggests that, on average, higher budget allocations are associated with higher revenue."
   ]
  },
  {
   "cell_type": "markdown",
   "id": "5284883b",
   "metadata": {},
   "source": [
    "> ## What are the top 10 revenue categories based on genres?"
   ]
  },
  {
   "cell_type": "code",
   "execution_count": 97,
   "id": "71a39601",
   "metadata": {},
   "outputs": [
    {
     "data": {
      "text/html": [
       "<div>\n",
       "<style scoped>\n",
       "    .dataframe tbody tr th:only-of-type {\n",
       "        vertical-align: middle;\n",
       "    }\n",
       "\n",
       "    .dataframe tbody tr th {\n",
       "        vertical-align: top;\n",
       "    }\n",
       "\n",
       "    .dataframe thead th {\n",
       "        text-align: right;\n",
       "    }\n",
       "</style>\n",
       "<table border=\"1\" class=\"dataframe\">\n",
       "  <thead>\n",
       "    <tr style=\"text-align: right;\">\n",
       "      <th></th>\n",
       "      <th>genres</th>\n",
       "      <th>level_1</th>\n",
       "      <th>revenue</th>\n",
       "    </tr>\n",
       "  </thead>\n",
       "  <tbody>\n",
       "    <tr>\n",
       "      <th>0</th>\n",
       "      <td>Action</td>\n",
       "      <td>25</td>\n",
       "      <td>682330139</td>\n",
       "    </tr>\n",
       "    <tr>\n",
       "      <th>1</th>\n",
       "      <td>Action</td>\n",
       "      <td>1938</td>\n",
       "      <td>310669540</td>\n",
       "    </tr>\n",
       "    <tr>\n",
       "      <th>2</th>\n",
       "      <td>Action</td>\n",
       "      <td>6260</td>\n",
       "      <td>162944923</td>\n",
       "    </tr>\n",
       "    <tr>\n",
       "      <th>3</th>\n",
       "      <td>Action</td>\n",
       "      <td>1975</td>\n",
       "      <td>136000000</td>\n",
       "    </tr>\n",
       "    <tr>\n",
       "      <th>4</th>\n",
       "      <td>Action</td>\n",
       "      <td>1456</td>\n",
       "      <td>87784194</td>\n",
       "    </tr>\n",
       "    <tr>\n",
       "      <th>...</th>\n",
       "      <td>...</td>\n",
       "      <td>...</td>\n",
       "      <td>...</td>\n",
       "    </tr>\n",
       "    <tr>\n",
       "      <th>1660</th>\n",
       "      <td>War|Drama|History|Action</td>\n",
       "      <td>715</td>\n",
       "      <td>154984035</td>\n",
       "    </tr>\n",
       "    <tr>\n",
       "      <th>1661</th>\n",
       "      <td>War|Drama|History|Thriller</td>\n",
       "      <td>1563</td>\n",
       "      <td>0</td>\n",
       "    </tr>\n",
       "    <tr>\n",
       "      <th>1662</th>\n",
       "      <td>Western</td>\n",
       "      <td>7443</td>\n",
       "      <td>70016220</td>\n",
       "    </tr>\n",
       "    <tr>\n",
       "      <th>1663</th>\n",
       "      <td>Western|Animation|Family|Comedy|Music</td>\n",
       "      <td>7046</td>\n",
       "      <td>103951461</td>\n",
       "    </tr>\n",
       "    <tr>\n",
       "      <th>1664</th>\n",
       "      <td>Western|Drama|Adventure|Thriller</td>\n",
       "      <td>5</td>\n",
       "      <td>532950503</td>\n",
       "    </tr>\n",
       "  </tbody>\n",
       "</table>\n",
       "<p>1665 rows × 3 columns</p>\n",
       "</div>"
      ],
      "text/plain": [
       "                                     genres  level_1    revenue\n",
       "0                                    Action       25  682330139\n",
       "1                                    Action     1938  310669540\n",
       "2                                    Action     6260  162944923\n",
       "3                                    Action     1975  136000000\n",
       "4                                    Action     1456   87784194\n",
       "...                                     ...      ...        ...\n",
       "1660               War|Drama|History|Action      715  154984035\n",
       "1661             War|Drama|History|Thriller     1563          0\n",
       "1662                                Western     7443   70016220\n",
       "1663  Western|Animation|Family|Comedy|Music     7046  103951461\n",
       "1664       Western|Drama|Adventure|Thriller        5  532950503\n",
       "\n",
       "[1665 rows x 3 columns]"
      ]
     },
     "execution_count": 97,
     "metadata": {},
     "output_type": "execute_result"
    }
   ],
   "source": [
    "df_sorted_revenue=df.groupby('genres')['revenue'].nlargest(10).reset_index()\n",
    "df_sorted_revenue_d=pd.DataFrame(df_sorted_revenue)\n",
    "df_sorted_revenue_d\n"
   ]
  },
  {
   "cell_type": "code",
   "execution_count": 98,
   "id": "de3d2b46",
   "metadata": {
    "scrolled": true
   },
   "outputs": [
    {
     "data": {
      "text/plain": [
       "genres\n",
       "Action                                               1567297806\n",
       "Action|Adventure                                        7500000\n",
       "Action|Adventure|Animation                                    0\n",
       "Action|Adventure|Animation|Family                             0\n",
       "Action|Adventure|Animation|Family|Science Fiction     631442092\n",
       "                                                        ...    \n",
       "War|Drama|History|Action                              154984035\n",
       "War|Drama|History|Thriller                                    0\n",
       "Western                                                70016220\n",
       "Western|Animation|Family|Comedy|Music                 103951461\n",
       "Western|Drama|Adventure|Thriller                      532950503\n",
       "Name: revenue, Length: 774, dtype: int64"
      ]
     },
     "execution_count": 98,
     "metadata": {},
     "output_type": "execute_result"
    }
   ],
   "source": [
    "#now sum the value group by genres to find the highest revenue and use idxmax \n",
    "total_revenue_by_genre=df_sorted_revenue_d.groupby('genres')['revenue'].sum()\n",
    "total_revenue_by_genre"
   ]
  },
  {
   "cell_type": "code",
   "execution_count": 99,
   "id": "3a40543f",
   "metadata": {},
   "outputs": [
    {
     "data": {
      "text/html": [
       "<div>\n",
       "<style scoped>\n",
       "    .dataframe tbody tr th:only-of-type {\n",
       "        vertical-align: middle;\n",
       "    }\n",
       "\n",
       "    .dataframe tbody tr th {\n",
       "        vertical-align: top;\n",
       "    }\n",
       "\n",
       "    .dataframe thead th {\n",
       "        text-align: right;\n",
       "    }\n",
       "</style>\n",
       "<table border=\"1\" class=\"dataframe\">\n",
       "  <thead>\n",
       "    <tr style=\"text-align: right;\">\n",
       "      <th></th>\n",
       "      <th>Genres</th>\n",
       "      <th>Total_Revenue</th>\n",
       "    </tr>\n",
       "  </thead>\n",
       "  <tbody>\n",
       "    <tr>\n",
       "      <th>192</th>\n",
       "      <td>Adventure|Fantasy|Action</td>\n",
       "      <td>7380147493</td>\n",
       "    </tr>\n",
       "    <tr>\n",
       "      <th>143</th>\n",
       "      <td>Adventure|Action|Science Fiction</td>\n",
       "      <td>4839902747</td>\n",
       "    </tr>\n",
       "    <tr>\n",
       "      <th>33</th>\n",
       "      <td>Action|Adventure|Science Fiction</td>\n",
       "      <td>4657777088</td>\n",
       "    </tr>\n",
       "    <tr>\n",
       "      <th>29</th>\n",
       "      <td>Action|Adventure|Fantasy|Science Fiction</td>\n",
       "      <td>4474490465</td>\n",
       "    </tr>\n",
       "    <tr>\n",
       "      <th>244</th>\n",
       "      <td>Animation|Family</td>\n",
       "      <td>3981404005</td>\n",
       "    </tr>\n",
       "    <tr>\n",
       "      <th>204</th>\n",
       "      <td>Adventure|Fantasy|Family</td>\n",
       "      <td>3801753979</td>\n",
       "    </tr>\n",
       "    <tr>\n",
       "      <th>145</th>\n",
       "      <td>Adventure|Action|Thriller</td>\n",
       "      <td>3612469413</td>\n",
       "    </tr>\n",
       "    <tr>\n",
       "      <th>659</th>\n",
       "      <td>Science Fiction|Action|Adventure</td>\n",
       "      <td>3245494492</td>\n",
       "    </tr>\n",
       "    <tr>\n",
       "      <th>107</th>\n",
       "      <td>Action|Science Fiction|Adventure</td>\n",
       "      <td>3234256634</td>\n",
       "    </tr>\n",
       "    <tr>\n",
       "      <th>382</th>\n",
       "      <td>Drama</td>\n",
       "      <td>2993328535</td>\n",
       "    </tr>\n",
       "  </tbody>\n",
       "</table>\n",
       "</div>"
      ],
      "text/plain": [
       "                                       Genres  Total_Revenue\n",
       "192                  Adventure|Fantasy|Action     7380147493\n",
       "143          Adventure|Action|Science Fiction     4839902747\n",
       "33           Action|Adventure|Science Fiction     4657777088\n",
       "29   Action|Adventure|Fantasy|Science Fiction     4474490465\n",
       "244                          Animation|Family     3981404005\n",
       "204                  Adventure|Fantasy|Family     3801753979\n",
       "145                 Adventure|Action|Thriller     3612469413\n",
       "659          Science Fiction|Action|Adventure     3245494492\n",
       "107          Action|Science Fiction|Adventure     3234256634\n",
       "382                                     Drama     2993328535"
      ]
     },
     "execution_count": 99,
     "metadata": {},
     "output_type": "execute_result"
    }
   ],
   "source": [
    "#new dataframe to plot the date from series total_revenue_by_genres\n",
    "\n",
    "plt_total_revenue_by_genre=pd.DataFrame(total_revenue_by_genre).reset_index()\n",
    "plt_total_revenue_by_genre.columns=['Genres','Total_Revenue']\n",
    "plt_genres_revenue=plt_total_revenue_by_genre.sort_values(by='Total_Revenue',ascending=False).head(10)\n",
    "plt_genres_revenue\n"
   ]
  },
  {
   "cell_type": "code",
   "execution_count": 100,
   "id": "fb04a2c7",
   "metadata": {},
   "outputs": [
    {
     "name": "stdout",
     "output_type": "stream",
     "text": [
      "Genres                                    Total_Revenue\n",
      "Action|Adventure|Fantasy|Science Fiction  4474490465       1\n",
      "Action|Adventure|Science Fiction          4657777088       1\n",
      "Action|Science Fiction|Adventure          3234256634       1\n",
      "Adventure|Action|Science Fiction          4839902747       1\n",
      "Adventure|Action|Thriller                 3612469413       1\n",
      "Adventure|Fantasy|Action                  7380147493       1\n",
      "Adventure|Fantasy|Family                  3801753979       1\n",
      "Animation|Family                          3981404005       1\n",
      "Drama                                     2993328535       1\n",
      "Science Fiction|Action|Adventure          3245494492       1\n",
      "dtype: int64\n"
     ]
    },
    {
     "data": {
      "image/png": "iVBORw0KGgoAAAANSUhEUgAACU8AAATXCAYAAADUAxY+AAAAOXRFWHRTb2Z0d2FyZQBNYXRwbG90bGliIHZlcnNpb24zLjUuMiwgaHR0cHM6Ly9tYXRwbG90bGliLm9yZy8qNh9FAAAACXBIWXMAAA9hAAAPYQGoP6dpAAChd0lEQVR4nOzdebTe473//9dOdmZJkAFJQwxJK4aKcgglgjTEmJaWRA3hrCJOgujB4VtzhB7zXNUkppDWUG2PMcRMo2Z1HENCUENMEZqtyd6/P7rsX3ej7B175ybX47HWvZbPdX+G9737X9az16eqrq6uLgAAAAAAAAAAAIVpVekBAAAAAAAAAAAAKkE8BQAAAAAAAAAAFEk8BQAAAAAAAAAAFEk8BQAAAAAAAAAAFEk8BQAAAAAAAAAAFEk8BQAAAAAAAAAAFEk8BQAAAAAAAAAAFEk8BQAAAAAAAAAAFEk8BQAAAAAAAAAAFEk8BQAAAPAlVVVVNeozY8aML7zXhAkTcuONN37peY4//vgmz92lS5dsttlmmTp16pd6/rJs8uTJqaqqyiOPPLJUnnffffdlzz33zKqrrpp27dqlU6dOWWeddTJ+/Pj87//+71KZAQAAAGBZVl3pAQAAAAC+7h588MEGxyeddFLuuuuu3HnnnQ3WBwwY8IX3mjBhQnbbbbfsuuuuzTniv7Tbbrtl/Pjxqaury6xZszJhwoSMHDkydXV1GTly5FKZgc927LHH5pRTTsmgQYNy7LHHpl+/flm4cGGefPLJTJkyJWeeeWYWLlyY1q1bV3pUAAAAgK8t8RQAAADAl7Tppps2OO7Ro0datWq12PpX0UorrVQ/56BBg7L55punb9++ueSSS8RTFTR16tSccsopOfDAA3PhhRemqqqq/ruhQ4fm8MMPz4UXXrjU56qrq8uCBQvSoUOHpf5sAAAAgJbgtX0AAAAAS8G7776bgw8+OL17907btm2zxhpr5JhjjklNTU39OVVVVfnoo48yZcqU+lfpbbXVVkmSt99+OwcffHAGDBiQ5ZZbLj179szWW2+de++9t1nnXG211dKjR4+8+eabDdbnzZuXI444Iquvvnratm2b3r1759BDD81HH31Uf87AgQOzxRZbLHbPRYsWpXfv3vn+979fv/bJJ5/k5JNPzre+9a20a9cuPXr0yH777Ze33367wbV9+/bNjjvumFtuuSUbbrhhOnTokG9961v51a9+1eC8448/vkFg9KlPX7M3e/bsBuvXXnttBg0alE6dOmW55ZbLsGHD8thjjzX67/Tee+9lv/32y4orrphOnTplp512yksvvVT//UknnZTq6urMmTNnsWtHjx6dbt26ZcGCBf/y/ieffHK6d++es8466zN/V1VVVcaMGbPYrlN33HFHttlmm3Tp0iUdO3bM5ptvnunTpzc459O/1TPPPJM999wzXbt2zUorrZTRo0fngw8+WOw5hxxySC6++OKsvfbaadeuXaZMmZIkef755zNy5Mj07Nkz7dq1y9prr50LLrjgi/94AAAAAF8h4ikAAACAFrZgwYIMGTIkl19+eQ4//PD84Q9/yF577ZXTTz+9QVD04IMPpkOHDhk+fHgefPDBPPjgg/W7C7377rtJkuOOOy5/+MMfMmnSpKyxxhrZaqutMmPGjGab9YMPPsi7776b/v371699/PHHGTx4cKZMmZKxY8fm5ptvzpFHHpnJkydn5513Tl1dXZJkv/32y3333Zfnn3++wT1vu+22vP7669lvv/2SJLW1tdlll10yceLEjBw5Mn/4wx8yceLE3H777dlqq63y17/+tcH1TzzxRMaPH5/DDjssv/3tb7P++utn//33zz333LNEv3HChAnZc889M2DAgEybNi1XXHFFPvzww2yxxRb585//3Kh77L///mnVqlWuvvrqnH322fnjH/+YrbbaKu+//36S5Cc/+Umqq6tzySWXNLju3XffzTXXXJP9998/7du3/8x7v/766/nzn/+coUOH/stzPsuVV16Z733ve+nSpUumTJmSadOmZcUVV8ywYcMWC6iS5Ac/+EH69++f6667LkcddVSuvvrqHHbYYYudd+ONN+aiiy7Kz372s9x66631f6eNN944Tz/9dM4444z8/ve/zw477JCxY8fmhBNOaPTMAAAAAJXmtX0AAAAALWzKlCl58sknM23atOy+++5J/v7qteWWWy5HHnlkbr/99gwdOjSbbrppWrVqlR49eiz2yr9vfvObDV7TtmjRogwbNiyzZ8/OueeeW79DVVPV1dVl4cKFqaury+zZs3PEEUekY8eOOe644+rPOffcc/Pkk0/m4YcfzkYbbZQk2WabbdK7d+/stttuueWWW7L99ttn1KhR+elPf5rJkyfnlFNOqb9+8uTJWWmllbL99tsnSaZNm5Zbbrkl1113XYN47Nvf/nY23njjTJ48OQcddFD9+ty5c3P//fdn1VVXTZJsueWWmT59eq6++upsueWWTfq9c+bMyXHHHZdDDjkk5557bv360KFD069fv5xwwgm59tprv/A+G220US677LL643XWWSebb755LrjgghxzzDHp2bNn9thjj1x66aX52c9+lrZt2yZJfvnLX6ampiYHH3zw586Y/H0XsH+2aNGi+lgtSVq3bp2qqqp8/PHHGTduXHbcccfccMMN9d8PHz48G264Yf7rv/4rDz/8cIN77b///vnpT3+aJNl2223zwgsv5Fe/+lUuu+yyBrtdzZ8/P0899VRWWGGF+rXtttsunTt3zn333ZcuXbrU/w1ramoyceLEjB07tsH5AAAAAF9Vy8zOU/fcc0922mmn9OrVK1VVVbnxxhubfI9p06Zlgw02SMeOHbPaaqvl5z//efMPCgAAABTnzjvvTKdOnbLbbrs1WN93332T5DN3BfosF198cTbccMO0b98+1dXVadOmTaZPn55nn312iWe78MIL06ZNm7Rt2zb9+/fPzTffnKlTp+Y73/lO/Tm///3vs+6662aDDTbIwoUL6z/Dhg1LVVVV/c5X3bp1y0477ZQpU6aktrY2yd9fb/fb3/42e++9d6qrq+vvt/zyy2ennXZqcL8NNtggK6+88mI7aW2wwQb14VSStG/fPv3798/LL7/c5N976623ZuHChdl7770bPLt9+/YZPHhwo3fxGjVqVIPjzTbbLKuttlruuuuu+rVx48blrbfeyq9//eskf99x66KLLsoOO+yQvn37Nnn25O9/4zZt2tR/rrvuuiTJAw88kHfffTf77LNPg99VW1ub7bbbLjNnzmzwisUk2XnnnRscr7/++lmwYEHeeuutButbb711gxBqwYIFmT59ekaMGJGOHTs2eN7w4cOzYMGCPPTQQ0v0+wAAAACWtmUmnvroo4/y7W9/O+eff/4SXX/zzTdn1KhROfDAA/P000/nwgsvzJlnnrnE9wMAAAD41DvvvJOVV165wW4+SdKzZ89UV1fnnXfe+cJ7nHnmmTnooIOyySab5LrrrstDDz2UmTNnZrvttlvsNXdN8cMf/jAzZ87MAw88kEsuuSSdO3fOHnvs0eDVe2+++WaefPLJBtFOmzZt0rlz59TV1WXu3Ln1544ePTqvvfZabr/99iTJ1KlTU1NTUx+KfXq/999/P23btl3snm+88UaD+yV/D4b+Wbt27Zbod7/55ptJko033nixZ1977bWLPftfWXnllT9z7R//txw4cGC22GKLXHDBBUn+Ho3Nnj07hxxyyOfeu0+fPknymXHYjBkzMnPmzFx88cWf+bt22223xX7Xaaedlrq6uvpXP37qn/+u7dq1S5LF/q6rrLJKg+N33nknCxcuzHnnnbfYs4YPH54kjf47AgAAAFTaMvPavu23375+6/fP8sknn+TYY4/NVVddlffffz/rrrtuTjvttPot7a+44orsuuuuOfDAA5Mka6yxRo488sicdtppGTNmzGL/uAkAAADQWN26dcvDDz+curq6Bv/G8NZbb2XhwoXp3r37F97jyiuvzFZbbZWLLrqowfqHH374pWbr0aNH/av4Bg0alLXXXjuDBw/OYYcdlt///vdJku7du6dDhw751a9+9Zn3+Mf5hw0bll69emXSpEkZNmxYJk2alE022SQDBgxocH63bt1yyy23fOb9Onfu3OTf0b59+yRJTU1NfQSULB7xfDrrb37zm898LV5jvfHGG5+5ttZaazVYGzt2bHbfffc8+uijOf/889O/f/8MHTr0c+/dq1evrLPOOrn99tuzYMGC+t+W/H0XruTvr9L7R5/+rvPOO2+xVz5+aqWVVvrC3/VZ/vnfxVZYYYW0bt06P/7xjzNmzJjPvGb11VdfomcBAAAALG3LTDz1Rfbbb7/Mnj0711xzTXr16pUbbrgh2223XZ566qn069cvNTU16dixY4NrOnTokFdffTUvv/zyEm+lDgAAALDNNttk2rRpufHGGzNixIj69csvv7z++0/9qx2VqqqqGkRBSfLkk0/mwQcfrN+pqDlsscUW2XvvvTNlypQ8+OCDGTRoUHbcccdMmDAh3bp1+8Io5tOo5uyzz869996bRx55JJdcckmDc3bcccdcc801WbRoUTbZZJNmmfvTf7t58skns/HGG9ev/+53v2tw3rBhw1JdXZ0XX3wxP/jBD5b4eVdddVWD6x944IG8/PLLOeCAAxqcN2LEiKy66qoZP3587r777px11lmN+j/pHXPMMRk5cmQOP/zwXHDBBV94zeabb57ll18+f/7zn79wZ6svq2PHjhkyZEgee+yxrL/++mnbtm2LPg8AAACgJRURT7344ouZOnVqXn311fTq1StJcsQRR+SWW27JpEmTMmHChAwbNiyHHXZY9t133wwZMiQvvPBCzj777CTJX/7yF/EUAAAAsMT23nvvXHDBBdlnn30ye/bsrLfeernvvvsyYcKEDB8+PNtuu239ueutt15mzJiR3/3ud1lllVXSuXPnfPOb38yOO+6Yk046Kccdd1wGDx6c5557LieeeGJWX331LFy4sFnnPemkk3Lttdfm//2//5c77rgjhx56aK677rpsueWWOeyww7L++uuntrY2r7zySm677baMHz++QQQ1evTonHbaaRk5cmQ6dOiQH/3oRw3uv8cee+Sqq67K8OHDM27cuPzbv/1b2rRpk1dffTV33XVXdtlllwaRWWMMHz48K664Yvbff/+ceOKJqa6uzuTJkzNnzpwG5/Xt2zcnnnhijjnmmLz00kvZbrvtssIKK+TNN9/MH//4x3Tq1CknnHDCFz7vkUceyQEHHJDdd989c+bMyTHHHJPevXvn4IMPbnBe69atM2bMmBx55JHp1KlTg9cXfp4999wzzzzzTE455ZQ88cQT2XfffdOvX7/U1tZmzpw5ueKKK5L8/7t0LbfccjnvvPOyzz775N13381uu+2Wnj175u23384TTzyRt99+e7Fdy76Mc845J9/97nezxRZb5KCDDkrfvn3z4Ycf5oUXXsjvfve73Hnnnc32LAAAAICWVEQ89eijj6auri79+/dvsF5TU5Nu3bolSf793/89L774Ynbcccf87W9/S5cuXTJu3Lgcf/zxad26dSXGBgAAAJYR7du3z1133ZVjjjkmP//5z/P222+nd+/eOeKII3Lcccc1OPecc87JmDFjsscee+Tjjz/O4MGDM2PGjBxzzDH5+OOPc9lll+X000/PgAEDcvHFF+eGG27IjBkzmnXePn365D/+4z/y85//PPfcc0+23HLL3HvvvZk4cWJ+8YtfZNasWenQoUNWXXXVbLvttov9n8769++fzTbbLA888EBGjRqVrl27Nvi+devWuemmm3LOOefkiiuuyKmnnprq6up84xvfyODBg7Peeus1eeYuXbrklltuyaGHHpq99toryy+/fA444IBsv/32i+0GdfTRR2fAgAE555xzMnXq1NTU1GTllVfOxhtvnAMPPLBRz7vssstyxRVXZI899khNTU2GDBmSc845JyuuuOJi5/7oRz/KkUcemR//+MeL/S0+z8knn5xhw4blggsuyIknnpg333wzbdq0Sd++fTN48OCcdtpp+c53vlN//l577ZVVV101p59+en7yk5/kww8/TM+ePbPBBhs0OtpqrAEDBuTRRx/NSSedlGOPPTZvvfVWll9++fTr1y/Dhw9v1mcBAAAAtKSqurq6ukoP0dyqqqpyww03ZNddd02SXHvttRk1alSeeeaZxUKo5ZZbLiuvvHL98aJFi/LGG2+kR48emT59eoYPH54333wzPXv2XJo/AQAAAIBlxHnnnZexY8fm6aefzjrrrFPpcQAAAAD4B0XsPDVw4MAsWrQob731VrbYYovPPbd169bp3bt3kmTq1KkZNGiQcAoAAACAJnvssccya9asnHjiidlll12EUwAAAABfQctMPDV//vy88MIL9cezZs3K448/nhVXXDH9+/fPqFGjsvfee+eMM87IwIEDM3fu3Nx5551Zb731Mnz48MydOze/+c1vstVWW2XBggWZNGlSfv3rX+fuu++u4K8CAAAA4OtqxIgReeONN7LFFlvk4osvrvQ4AAAAAHyGZea1fTNmzMiQIUMWW99nn30yefLk/O1vf8vJJ5+cyy+/PK+99lq6deuWQYMG5YQTTsh6662XuXPnZqeddspTTz2Vurq6DBo0KKeccko22WSTCvwaAAAAAAAAAACgpS0z8RQAAAAAAAAAAEBTtKr0AAAAAAAAAAAAAJUgngIAAAAAAAAAAIpUXekBvoza2tq8/vrr6dy5c6qqqio9DgAAAAAAAAAAUGF1dXX58MMP06tXr7Rq9fl7S32t46nXX389ffr0qfQYAAAAAAAAAADAV8ycOXPyjW9843PP+VrHU507d07y9x/apUuXCk8DAAAAAAAAAABU2rx589KnT5/6tujzfK3jqU9f1delSxfxFAAAAAAAAAAAUO/TtujzfP5L/QAAAAAAAAAAAJZR4ikAAAAAAAAAAKBI4ikAAAAAAAAAAKBI4ikAAAAAAAAAAKBI4ikAAAAAAAAAAKBI4ikAAAAAAAAAAKBI4ikAAAAAAAAAAKBI4ikAAAAAAAAAAKBI4ikAAAAAAAAAAKBI4ikAAAAAAAAAAKBI4ikAAAAAAAAAAKBI4ikAAAAAAAAAAKBI4ikAAAAAAAAAAKBI4ikAAAAAAAAAAKBI4ikAAAAAAAAAAKBI4ikAAAAAAAAAAKBI4ikAAAAAAAAAAKBI4ikAAAAAAAAAAKBI4ikAAAAAAAAAAKBI4ikAAAAAAAAAAKBI4ikAAAAAAAAAAKBI4ikAAAAAAAAAAKBI4ikAAAAAAAAAAKBI4ikAAAAAAAAAAKBI4ikAAAAAAAAAAKBI4ikAAAAAAAAAAKBI4ikAAAAAAAAAAKBI4ikAAAAAAAAAAKBI4ikAAAAAAAAAAKBI4ikAAAAAAAAAAKBI4ikAAAAAAAAAAKBI4ikAAAAAAAAAAKBI4ikAAAAAAAAAAKBI4ikAAAAAAAAAAKBI4ikAAAAAAAAAAKBI4ikAAAAAAAAAAKBI4ikAAAAAAAAAAKBI4ikAAAAAAAAAAKBI4ikAAAAAAAAAAKBI4ikAAAAAAAAAAKBI4ikAAAAAAAAAAKBI4ikAAAAAAAAAAKBI4ikAAAAAAAAAAKBI4ikAAAAAAAAAAKBI4ikAAAAAAAAAAKBI4ikAAAAAAAAAAKBI4ikAAAAAAAAAAKBI4ikAAAAAAAAAAKBI4ikAAAAAAAAAAKBI4ikAAAAAAAAAAKBI4ikAAAAAAAAAAKBI4ikAAAAAAAAAAKBI1ZUegDJMfGxupUeAJjlqYPdKjwAAAAAAAAAAtDA7TwEAAAAAAAAAAEUSTwEAAAAAAAAAAEUSTwEAAAAAAAAAAEUSTwEAAAAAAAAAAEUSTwEAAAAAAAAAAEUSTwEAAAAAAAAAAEUSTwEAAAAAAAAAAEUSTwEAAAAAAAAAAEUSTwEAAAAAAAAAAEUSTwEAAAAAAAAAAEUSTwEAAAAAAAAAAEUSTwEAAAAAAAAAAEUSTwEAAAAAAAAAAEUSTwEAAAAAAAAAAEUSTwEAAAAAAAAAAEUSTwEAAAAAAAAAAEUSTwEAAAAAAAAAAEUSTwEAAAAAAAAAAEUSTwEAAAAAAAAAAEUSTwEAAAAAAAAAAEUSTwEAAAAAAAAAAEUSTwEAAAAAAAAAAEUSTwEAAAAAAAAAAEUSTwEAAAAAAAAAAEUSTwEAAAAAAAAAAEUSTwEAAAAAAAAAAEUSTwEAAAAAAAAAAEUSTwEAAAAAAAAAAEUSTwEAAAAAAAAAAEUSTwEAAAAAAAAAAEUSTwEAAAAAAAAAAEUSTwEAAAAAAAAAAEUSTwEAAAAAAAAAAEUSTwEAAAAAAAAAAEUSTwEAAAAAAAAAAEUSTwEAAAAAAAAAAEUSTwEAAAAAAAAAAEUSTwEAAAAAAAAAAEUSTwEAAAAAAAAAAEUSTwEAAAAAAAAAAEUSTwEAAAAAAAAAAEUSTwEAAAAAAAAAAEUSTwEAAAAAAAAAAEUSTwEAAAAAAAAAAEUSTwEAAAAAAAAAAEUSTwEAAAAAAAAAAEUSTwEAAAAAAAAAAEUSTwEAAAAAAAAAAEUSTwEAAAAAAAAAAEUSTwEAAAAAAAAAAEUSTwEAAAAAAAAAAEWqaDzVt2/fVFVVLfYZM2ZMJccCAAAAAAAAAAAKUF3Jh8+cOTOLFi2qP3766aczdOjQ7L777hWcCgAAAAAAAAAAKEFF46kePXo0OJ44cWLWXHPNDB48uEITAQAAAAAAAAAApajoa/v+0SeffJIrr7wyo0ePTlVVVaXHAQAAAAAAAAAAlnEV3XnqH9144415//33s++++/7Lc2pqalJTU1N/PG/evKUwGQAAAAAAAAAAsCz6yuw8ddlll2X77bdPr169/uU5p556arp27Vr/6dOnz1KcEAAAAAAAAAAAWJZ8JeKpl19+OXfccUcOOOCAzz3v6KOPzgcffFD/mTNnzlKaEAAAAAAAAAAAWNZ8JV7bN2nSpPTs2TM77LDD557Xrl27tGvXbilNBQAAAAAAAAAALMsqvvNUbW1tJk2alH322SfV1V+JlgsAAAAAAAAAAChAxeOpO+64I6+88kpGjx5d6VEAAAAAAAAAAICCVHyrp+9973upq6ur9BgAAAAAAAAAAEBhKr7zFAAAAAAAAAAAQCWIpwAAAAAAAAAAgCKJpwAAAAAAAAAAgCKJpwAAAAAAAAAAgCKJpwAAAAAAAAAAgCKJpwAAAAAAAAAAgCKJpwAAAAAAAAAAgCKJpwAAAAAAAAAAgCKJpwAAAAAAAAAAgCKJpwAAAAAAAAAAgCKJpwAAAAAAAAAAgCKJpwAAAAAAAAAAgCKJpwAAAAAAAAAAgCKJpwAAAAAAAAAAgCKJpwAAAAAAAAAAgCKJpwAAAAAAAAAAgCKJpwAAAAAAAAAAgCKJpwAAAAAAAAAAgCKJpwAAAAAAAAAAgCKJpwAAAAAAAAAAgCKJpwAAAAAAAAAAgCKJpwAAAAAAAAAAgCKJpwAAAAAAAAAAgCKJpwAAAAAAAAAAgCKJpwAAAAAAAAAAgCKJpwAAAAAAAAAAgCKJpwAAAAAAAAAAgCKJpwAAAAAAAAAAgCKJpwAAAAAAAAAAgCKJpwAAAAAAAAAAgCKJpwAAAAAAAAAAgCKJpwAAAAAAAAAAgCKJpwAAAAAAAAAAgCKJpwAAAAAAAAAAgCKJpwAAAAAAAAAAgCKJpwAAAAAAAAAAgCKJpwAAAAAAAAAAgCKJpwAAAAAAAAAAgCKJpwAAAAAAAAAAgCKJpwAAAAAAAAAAgCKJpwAAAAAAAAAAgCKJpwAAAAAAAAAAgCKJpwAAAAAAAAAAgCKJpwAAAAAAAAAAgCKJpwAAAAAAAAAAgCKJpwAAAAAAAAAAgCKJpwAAAAAAAAAAgCKJpwAAAAAAAAAAgCKJpwAAAAAAAAAAgCKJpwAAAAAAAAAAgCKJpwAAAAAAAAAAgCKJpwAAAAAAAAAAgCKJpwAAAAAAAAAAgCKJpwAAAAAAAAAAgCKJpwAAAAAAAAAAgCKJpwAAAAAAAAAAgCKJpwAAAAAAAAAAgCKJpwAAAAAAAAAAgCKJpwAAAAAAAAAAgCKJpwAAAAAAAAAAgCKJpwAAAAAAAAAAgCKJpwAAAAAAAAAAgCKJpwAAAAAAAAAAgCKJpwAAAAAAAAAAgCKJpwAAAAAAAAAAgCKJpwAAAAAAAAAAgCKJpwAAAAAAAAAAgCKJpwAAAAAAAAAAgCKJpwAAAAAAAAAAgCKJpwAAAAAAAAAAgCKJpwAAAAAAAAAAgCKJpwAAAAAAAAAAgCKJpwAAAAAAAAAAgCKJpwAAAAAAAAAAgCKJpwAAAAAAAAAAgCKJpwAAAAAAAAAAgCKJpwAAAAAAAAAAgCKJpwAAAAAAAAAAgCKJpwAAAAAAAAAAgCKJpwAAAAAAAAAAgCKJpwAAAAAAAAAAgCKJpwAAAAAAAAAAgCKJpwAAAAAAAAAAgCKJpwAAAAAAAAAAgCKJpwAAAAAAAAAAgCKJpwAAAAAAAAAAgCKJpwAAAAAAAAAAgCKJpwAAAAAAAAAAgCKJpwAAAAAAAAAAgCKJpwAAAAAAAAAAgCKJpwAAAAAAAAAAgCKJpwAAAAAAAAAAgCKJpwAAAAAAAAAAgCKJpwAAAAAAAAAAgCKJpwAAAAAAAAAAgCKJpwAAAAAAAAAAgCKJpwAAAAAAAAAAgCKJpwAAAAAAAAAAgCKJpwAAAAAAAAAAgCKJpwAAAAAAAAAAgCKJpwAAAAAAAAAAgCKJpwAAAAAAAAAAgCKJpwAAAAAAAAAAgCKJpwAAAAAAAAAAgCKJpwAAAAAAAAAAgCKJpwAAAAAAAAAAgCKJpwAAAAAAAAAAgCKJpwAAAAAAAAAAgCKJpwAAAAAAAAAAgCKJpwAAAAAAAAAAgCKJpwAAAAAAAAAAgCKJpwAAAAAAAAAAgCKJpwAAAAAAAAAAgCKJpwAAAAAAAAAAgCKJpwAAAAAAAAAAgCKJpwAAAAAAAAAAgCKJpwAAAAAAAAAAgCKJpwAAAAAAAAAAgCKJpwAAAAAAAAAAgCKJpwAAAAAAAAAAgCKJpwAAAAAAAAAAgCKJpwAAAAAAAAAAgCKJpwAAAAAAAAAAgCKJpwAAAAAAAAAAgCKJpwAAAAAAAAAAgCKJpwAAAAAAAAAAgCKJpwAAAAAAAAAAgCKJpwAAAAAAAAAAgCKJpwAAAAAAAAAAgCKJpwAAAAAAAAAAgCKJpwAAAAAAAAAAgCKJpwAAAAAAAAAAgCKJpwAAAAAAAAAAgCKJpwAAAAAAAAAAgCKJpwAAAAAAAAAAgCKJpwAAAAAAAAAAgCKJpwAAAAAAAAAAgCKJpwAAAAAAAAAAgCKJpwAAAAAAAAAAgCJVPJ567bXXstdee6Vbt27p2LFjNthgg/zpT3+q9FgAAAAAAAAAAMAyrrqSD3/vvfey+eabZ8iQIbn55pvTs2fPvPjii1l++eUrORYAAAAAAAAAAFCAisZTp512Wvr06ZNJkybVr/Xt27dyAwEAAAAAAAAAAMWo6Gv7brrppmy00UbZfffd07NnzwwcODCXXnrpvzy/pqYm8+bNa/ABAAAAAAAAAABYEhWNp1566aVcdNFF6devX2699dYceOCBGTt2bC6//PLPPP/UU09N165d6z99+vRZyhMDAAAAAAAAAADLiqq6urq6Sj28bdu22WijjfLAAw/Ur40dOzYzZ87Mgw8+uNj5NTU1qampqT+eN29e+vTpkw8++CBdunRZKjOzZCY+NrfSI0CTHDWwe6VHAAAAAAAAAACWwLx589K1a9dGNUUV3XlqlVVWyYABAxqsrb322nnllVc+8/x27dqlS5cuDT4AAAAAAAAAAABLoqLx1Oabb57nnnuuwdr//d//ZbXVVqvQRAAAAAAAAAAAQCkqGk8ddthheeihhzJhwoS88MILufrqq/OLX/wiY8aMqeRYAAAAAAAAAABAASoaT2288ca54YYbMnXq1Ky77ro56aSTcvbZZ2fUqFGVHAsAAAAAAAAAAChAdaUH2HHHHbPjjjtWegwAAAAAAAAAAKAwFd15CgAAAAAAAAAAoFLEUwAAAAAAAAAAQJHEUwAAAAAAAAAAQJHEUwAAAAAAAAAAQJHEUwAAAAAAAAAAQJHEUwAAAAAAAAAAQJHEUwAAAAAAAAAAQJHEUwAAAAAAAAAAQJHEUwAAAAAAAAAAQJHEUwAAAAAAAAAAQJHEUwAAAAAAAAAAQJHEUwAAAAAAAAAAQJHEUwAAAAAAAAAAQJHEUwAAAAAAAAAAQJHEUwAAAAAAAAAAQJHEUwAAAAAAAAAAQJHEUwAAAAAAAAAAQJHEUwAAAAAAAAAAQJHEUwAAAAAAAAAAQJHEUwAAAAAAAAAAQJHEUwAAAAAAAAAAQJHEUwAAAAAAAAAAQJHEUwAAAAAAAAAAQJHEUwAAAAAAAAAAQJHEUwAAAAAAAAAAQJHEUwAAAAAAAAAAQJHEUwAAAAAAAAAAQJHEUwAAAAAAAAAAQJHEUwAAAAAAAAAAQJHEUwAAAAAAAAAAQJHEUwAAAAAAAAAAQJHEUwAAAAAAAAAAQJHEUwAAAAAAAAAAQJHEUwAAAAAAAAAAQJHEUwAAAAAAAAAAQJHEUwAAAAAAAAAAQJHEUwAAAAAAAAAAQJHEUwAAAAAAAAAAQJHEUwAAAAAAAAAAQJHEUwAAAAAAAAAAQJHEUwAAAAAAAAAAQJHEUwAAAAAAAAAAQJHEUwAAAAAAAAAAQJHEUwAAAAAAAAAAQJHEUwAAAAAAAAAAQJHEUwAAAAAAAAAAQJHEUwAAAAAAAAAAQJHEUwAAAAAAAAAAQJHEUwAAAAAAAAAAQJHEUwAAAAAAAAAAQJHEUwAAAAAAAAAAQJHEUwAAAAAAAAAAQJHEUwAAAAAAAAAAQJHEUwAAAAAAAAAAQJHEUwAAAAAAAAAAQJHEUwAAAAAAAAAAQJHEUwAAAAAAAAAAQJHEUwAAAAAAAAAAQJHEUwAAAAAAAAAAQJHEUwAAAAAAAAAAQJHEUwAAAAAAAAAAQJHEUwAAAAAAAAAAQJHEUwAAAAAAAAAAQJHEUwAAAAAAAAAAQJHEUwAAAAAAAAAAQJHEUwAAAAAAAAAAQJHEUwAAAAAAAAAAQJHEUwAAAAAAAAAAQJHEUwAAAAAAAAAAQJHEUwAAAAAAAAAAQJHEUwAAAAAAAAAAQJHEUwAAAAAAAAAAQJHEUwAAAAAAAAAAQJHEUwAAAAAAAAAAQJHEUwAAAAAAAAAAQJHEUwAAAAAAAAAAQJHEUwAAAAAAAAAAQJHEUwAAAAAAAAAAQJHEUwAAAAAAAAAAQJHEUwAAAAAAAAAAQJHEUwAAAAAAAAAAQJHEUwAAAAAAAAAAQJHEUwAAAAAAAAAAQJHEUwAAAAAAAAAAQJHEUwAAAAAAAAAAQJHEUwAAAAAAAAAAQJHEUwAAAAAAAAAAQJHEUwAAAAAAAAAAQJHEUwAAAAAAAAAAQJHEUwAAAAAAAAAAQJHEUwAAAAAAAAAAQJHEUwAAAAAAAAAAQJHEUwAAAAAAAAAAQJHEUwAAAAAAAAAAQJHEUwAAAAAAAAAAQJHEUwAAAAAAAAAAQJHEUwAAAAAAAAAAQJHEUwAAAAAAAAAAQJHEUwAAAAAAAAAAQJHEUwAAAAAAAAAAQJHEUwAAAAAAAAAAQJHEUwAAAAAAAAAAQJHEUwAAAAAAAAAAQJHEUwAAAAAAAAAAQJHEUwAAAAAAAAAAQJHEUwAAAAAAAAAAQJHEUwAAAAAAAAAAQJHEUwAAAAAAAAAAQJHEUwAAAAAAAAAAQJHEUwAAAAAAAAAAQJHEUwAAAAAAAAAAQJHEUwAAAAAAAAAAQJHEUwAAAAAAAAAAQJHEUwAAAAAAAAAAQJHEUwAAAAAAAAAAQJHEUwAAAAAAAAAAQJHEUwAAAAAAAAAAQJHEUwAAAAAAAAAAQJHEUwAAAAAAAAAAQJHEUwAAAAAAAAAAQJHEUwAAAAAAAAAAQJHEUwAAAAAAAAAAQJHEUwAAAAAAAAAAQJHEUwAAAAAAAAAAQJHEUwAAAAAAAAAAQJHEUwAAAAAAAAAAQJHEUwAAAAAAAAAAQJHEUwAAAAAAAAAAQJHEUwAAAAAAAAAAQJHEUwAAAAAAAAAAQJHEUwAAAAAAAAAAQJHEUwAAAAAAAAAAQJHEUwAAAAAAAAAAQJHEUwAAAAAAAAAAQJHEUwAAAAAAAAAAQJHEUwAAAAAAAAAAQJHEUwAAAAAAAAAAQJHEUwAAAAAAAAAAQJEqGk8df/zxqaqqavBZeeWVKzkSAAAAAAAAAABQiOpKD7DOOuvkjjvuqD9u3bp1BacBAAAAAAAAAABKUfF4qrq62m5TAAAAAAAAAADAUlfR1/YlyfPPP59evXpl9dVXzx577JGXXnrpX55bU1OTefPmNfgAAAAAAAAAAAAsiYrGU5tsskkuv/zy3Hrrrbn00kvzxhtvZLPNNss777zzmeefeuqp6dq1a/2nT58+S3liAAAAAAAAAABgWVFVV1dXV+khPvXRRx9lzTXXzH/+53/m8MMPX+z7mpqa1NTU1B/Pmzcvffr0yQcffJAuXboszVFpoomPza30CNAkRw3sXukRAAAAAAAAAIAlMG/evHTt2rVRTVH1UpqpUTp16pT11lsvzz///Gd+365du7Rr124pTwUAAAAAAAAAACyLKvravn9WU1OTZ599NqusskqlRwEAAAAAAAAAAJZxFY2njjjiiNx9992ZNWtWHn744ey2226ZN29e9tlnn0qOBQAAAAAAAAAAFKCir+179dVXs+eee2bu3Lnp0aNHNt100zz00ENZbbXVKjkWAAAAAAAAAABQgIrGU9dcc00lHw8AAAAAAAAAABSsoq/tAwAAAAAAAAAAqBTxFAAAAAAAAAAAUCTxFAAAAAAAAAAAUCTxFAAAAAAAAAAAUCTxFAAAAAAAAAAAUCTxFAAAAAAAAAAAUCTxFAAAAAAAAAAAUCTxFAAAAAAAAAAAUCTxFAAAAAAAAAAAUCTxFAAAAAAAAAAAUCTxFAAAAAAAAAAAUCTxFAAAAAAAAAAAUCTxFAAAAAAAAAAAUCTxFAAAAAAAAAAAUCTxFAAAAAAAAAAAUCTxFAAAAAAAAAAAUCTxFAAAAAAAAAAAUKTqSg8AwJcz8bG5lR4BGu2ogd0rPQIAAAAAAABAPTtPAQAAAAAAAAAARRJPAQAAAAAAAAAARRJPAQAAAAAAAAAARRJPAQAAAAAAAAAARRJPAQAAAAAAAAAARRJPAQAAAAAAAAAARRJPAQAAAAAAAAAARRJPAQAAAAAAAAAARRJPAQAAAAAAAAAARRJPAQAAAAAAAAAARRJPAQAAAAAAAAAARRJPAQAAAAAAAAAARRJPAQAAAAAAAAAARRJPAQAAAAAAAAAARRJPAQAAAAAAAAAARRJPAQAAAAAAAAAARRJPAQAAAAAAAAAARRJPAQAAAAAAAAAARRJPAQAAAAAAAAAARRJPAQAAAAAAAAAARRJPAQAAAAAAAAAARRJPAQAAAAAAAAAARRJPAQAAAAAAAAAARRJPAQAAAAAAAAAARRJPAQAAAAAAAAAARRJPAQAAAAAAAAAARaqu9AAAAF9FEx+bW+kRoEmOGti90iMAAAAAAAB87dh5CgAAAAAAAAAAKJJ4CgAAAAAAAAAAKJJ4CgAAAAAAAAAAKJJ4CgAAAAAAAAAAKJJ4CgAAAAAAAAAAKJJ4CgAAAAAAAAAAKJJ4CgAAAAAAAAAAKJJ4CgAAAAAAAAAAKJJ4CgAAAAAAAAAAKJJ4CgAAAAAAAAAAKJJ4CgAAAAAAAAAAKJJ4CgAAAAAAAAAAKJJ4CgAAAAAAAAAAKJJ4CgAAAAAAAAAAKJJ4CgAAAAAAAAAAKJJ4CgAAAAAAAAAAKJJ4CgAAAAAAAAAAKJJ4CgAAAAAAAAAAKJJ4CgAAAAAAAAAAKJJ4CgAAAAAAAAAAKJJ4CgAAAAAAAAAAKJJ4CgAAAAAAAAAAKJJ4CgAAAAAAAAAAKJJ4CgAAAAAAAAAAKJJ4CgAAAAAAAAAAKJJ4CgAAAAAAAAAAKFJ1pQcAAADKMvGxuZUeAZrkqIHdKz0CAAAAAAAtxM5TAAAAAAAAAABAkcRTAAAAAAAAAABAkcRTAAAAAAAAAABAkcRTAAAAAAAAAABAkcRTAAAAAAAAAABAkcRTAAAAAAAAAABAkcRTAAAAAAAAAABAkcRTAAAAAAAAAABAkcRTAAAAAAAAAABAkcRTAAAAAAAAAABAkcRTAAAAAAAAAABAkcRTAAAAAAAAAABAkcRTAAAAAAAAAABAkcRTAAAAAAAAAABAkcRTAAAAAAAAAABAkcRTAAAAAAAAAABAkcRTAAAAAAAAAABAkcRTAAAAAAAAAABAkcRTAAAAAAAAAABAkcRTAAAAAAAAAABAkcRTAAAAAAAAAABAkcRTAAAAAAAAAABAkcRTAAAAAAAAAABAkcRTAAAAAAAAAABAkcRTAAAAAAAAAABAkcRTAAAAAAAAAABAkcRTAAAAAAAAAABAkcRTAAAAAAAAAABAkcRTAAAAAAAAAABAkcRTAAAAAAAAAABAkcRTAAAAAAAAAABAkcRTAAAAAAAAAABAkcRTAAAAAAAAAABAkcRTAAAAAAAAAABAkcRTAAAAAAAAAABAkcRTAAAAAAAAAABAkcRTAAAAAAAAAABAkcRTAAAAAAAAAABAkcRTAAAAAAAAAABAkcRTAAAAAAAAAABAkZYonlq4cGHuuOOOXHLJJfnwww+TJK+//nrmz5/frMMBAAAAAAAAAAC0lOqmXvDyyy9nu+22yyuvvJKampoMHTo0nTt3zumnn54FCxbk4osvbok5AQAAAAAAAAAAmlWTd54aN25cNtpoo7z33nvp0KFD/fqIESMyffr0Zh0OAAAAAAAAAACgpTR556n77rsv999/f9q2bdtgfbXVVstrr73WbIMBAAAAAAAAAAC0pCbvPFVbW5tFixYttv7qq6+mc+fOzTIUAAAAAAAAAABAS2tyPDV06NCcffbZ9cdVVVWZP39+jjvuuAwfPrw5ZwMAAAAAAAAAAGgxTX5t31lnnZUhQ4ZkwIABWbBgQUaOHJnnn38+3bt3z9SpU1tiRgAAAAAAAAAAgGbX5HiqV69eefzxxzN16tQ8+uijqa2tzf77759Ro0alQ4cOLTEjAAAAAAAAAABAs2tyPJUkHTp0yOjRozN69OjmngcAAAAAAAAAAGCpaHI8dfnll3/u93vvvfcSDwMAAAAAAAAAALC0NDmeGjduXIPjv/3tb/n444/Ttm3bdOzYUTwFAAAAAAAAAAB8LbRq6gXvvfdeg8/8+fPz3HPP5bvf/W6mTp3aEjMCAAAAAAAAAAA0uybHU5+lX79+mThx4mK7UgEAAAAAAAAAAHxVNUs8lSStW7fO66+/3ly3AwAAAAAAAAAAaFHVTb3gpptuanBcV1eXv/zlLzn//POz+eabN9tgAAAAAAAAAAAALanJ8dSuu+7a4Liqqio9evTI1ltvnTPOOKO55gIAAAAAAAAAAGhRTY6namtrW2IOAAAAAAAAAACApapVpQcAAAAAAAAAAACohCbvPLVo0aJMnjw506dPz1tvvbXYTlR33nlnsw0HAAAAAAAAAADQUpocT40bNy6TJ0/ODjvskHXXXTdVVVUtMRcAAAAAAAAAAECLanI8dc0112TatGkZPnx4S8wDAAAAAAAAAACwVLRq6gVt27bNWmut1RKzAAAAAAAAAAAALDVNjqfGjx+fc845J3V1dS0xDwAAAAAAAAAAwFLR5Nf23Xfffbnrrrty8803Z5111kmbNm0afH/99dc323AAAAAAAAAAAAAtpcnx1PLLL58RI0a0xCwAAAAAAAAAAABLTZPjqUmTJrXEHAAAAAAAAAAAAEtVqyW5aOHChbnjjjtyySWX5MMPP0ySvP7665k/f/4SD3Lqqaemqqoqhx566BLfAwAAAAAAAAAAoLGavPPUyy+/nO222y6vvPJKampqMnTo0HTu3Dmnn356FixYkIsvvrjJQ8ycOTO/+MUvsv766zf5WgAAAAAAAAAAgCXR5J2nxo0bl4022ijvvfdeOnToUL8+YsSITJ8+vckDzJ8/P6NGjcqll16aFVZYocnXAwAAAAAAAAAALIkmx1P33Xdfjj322LRt27bB+mqrrZbXXnutyQOMGTMmO+ywQ7bddtsvPLempibz5s1r8AEAAAAAAAAAAFgSTX5tX21tbRYtWrTY+quvvprOnTs36V7XXHNN/vSnP+WRRx5p1PmnnnpqTjjhhCY9AwAAAAAAAAAA4LM0eeepoUOH5uyzz64/rqqqyvz583Pcccdl+PDhjb7PnDlzMm7cuFx11VVp3759o645+uij88EHH9R/5syZ09TxAQAAAAAAAAAAkizBzlNnnXVWhgwZkgEDBmTBggUZOXJknn/++XTv3j1Tp05t9H3+9Kc/5a233sp3vvOd+rVFixblnnvuyfnnn5+ampq0bt26wTXt2rVLu3btmjoyAAAAAAAAAADAYpocT/Xq1SuPP/54pk6dmkcffTS1tbXZf//9M2rUqHTo0KHR99lmm23y1FNPNVjbb7/98q1vfStHHnnkYuEUAAAA8PkmPja30iNAox01sHulRwAAAACApsdTH3/8cTp27JjRo0dn9OjRS/zgzp07Z911122w1qlTp3Tr1m2xdQAAAAAAAAAAgObWqqkX9OzZM3vttVduvfXW1NbWtsRMAAAAAAAAAAAALa7J8dTll1+empqajBgxIr169cq4ceMyc+bMZhlmxowZOfvss5vlXgAAAAAAAAAAAJ+nyfHU97///fz617/Om2++mVNPPTXPPvtsNttss/Tv3z8nnnhiS8wIAAAAAAAAAADQ7JocT32qc+fO2W+//XLbbbfliSeeSKdOnXLCCSc052wAAAAAAAAAAAAtZonjqQULFmTatGnZdddds+GGG+add97JEUcc0ZyzAQAAAAAAAAAAtJjqpl5w22235aqrrsqNN96Y1q1bZ7fddsutt96awYMHt8R8AAAAAAAAAAAALaLJ8dSuu+6aHXbYIVOmTMkOO+yQNm3atMRcAAAAAAAAAAAALarJ8dQbb7yRLl26tMQsAAAAAAAAAAAAS02rpl7QpUuXvPjiizn22GOz55575q233kqS3HLLLXnmmWeafUAAAAAAAAAAAICW0OR46u677856662Xhx9+ONdff33mz5+fJHnyySdz3HHHNfuAAAAAAAAAAAAALaHJ8dRRRx2Vk08+Obfffnvatm1bvz5kyJA8+OCDzTocAAAAAAAAAABAS2lyPPXUU09lxIgRi6336NEj77zzTrMMBQAAAAAAAAAA0NKaHE8tv/zy+ctf/rLY+mOPPZbevXs3y1AAAAAAAAAAAAAtrcnx1MiRI3PkkUfmjTfeSFVVVWpra3P//ffniCOOyN57790SMwIAAAAAAAAAADS7JsdTp5xySlZdddX07t078+fPz4ABA7Lllltms802yzHHHNMSMwIAAAAAAAAAADS76qZe0KZNm1x11VU58cQT89hjj6W2tjYDBw5Mv379WmI+AAAAAAAAAACAFtHkeOpTa665ZtZcc8364+uvvz7HH398nnzyyWYZDAAAAAAAAAAAoCU16bV9l156aXbfffeMHDkyDz/8cJLkzjvvzMCBA7PXXntl0KBBLTIkAAAAAAAAAABAc2t0PPXf//3fGTNmTGbNmpXf/va32XrrrTNhwoT88Ic/zK677ppXXnkll1xySUvOCgAAAAAAAAAA0Gwa/dq+yy67LBdffHFGjx6dGTNmZOutt86dd96ZF154Icsvv3wLjggAAAAAAAAAAND8Gr3z1Msvv5xtt902SbLVVlulTZs2OeWUU4RTAAAAAAAAAADA11Kj46kFCxakffv29cdt27ZNjx49WmQoAAAAAAAAAACAltbo1/YlyS9/+csst9xySZKFCxdm8uTJ6d69e4Nzxo4d23zTAQAAAAAAAAAAtJBGx1OrrrpqLr300vrjlVdeOVdccUWDc6qqqsRTAAAAAAAAAADA10Kj46nZs2e34BgAAAAAAAAAAABLV5Ne29cU6623Xv7nf/4nffr0aalHAAAAAECLm/jY3EqPAE1y1MDulR4BAAAAvjZatdSNZ8+enb/97W8tdXsAAAAAAAAAAIAvpcXiKQAAAAAAAAAAgK8y8RQAAAAAAAAAAFAk8RQAAAAAAAAAAFAk8RQAAAAAAAAAAFAk8RQAAAAAAAAAAFCkFounLrnkkqy00kotdXsAAAAAAAAAAIAvpboxJ5177rmNvuHYsWOTJCNHjlyyiQAAAAAAAAAAAJaCRsVTZ511VqNuVlVVVR9PAQAAAAAAAAAAfJU1Kp6aNWtWS88BAAAAAAAAAACwVLWq9AAAAAAAAAAAAACV0Kidp/7Zq6++mptuuimvvPJKPvnkkwbfnXnmmc0yGAAAAAAAAAAAQEtqcjw1ffr07Lzzzll99dXz3HPPZd11183s2bNTV1eXDTfcsCVmBAAAAAAAAAAAaHZNfm3f0UcfnfHjx+fpp59O+/btc91112XOnDkZPHhwdt9995aYEQAAAAAAAAAAoNk1OZ569tlns88++yRJqqur89e//jXLLbdcTjzxxJx22mnNPiAAAAAAAAAAAEBLaHI81alTp9TU1CRJevXqlRdffLH+u7lz5zbfZAAAAAAAAAAAAC2ouqkXbLrpprn//vszYMCA7LDDDhk/fnyeeuqpXH/99dl0001bYkYAAAAAAAAAAIBm1+R46swzz8z8+fOTJMcff3zmz5+fa6+9NmuttVbOOuusZh8QAAAAAAAAAACgJTQ5nlpjjTXq/7tjx4658MILm3UgAAAAAAAAAACApaFVUy9YY4018s477yy2/v777zcIqwAAAAAAAAAAAL7KmhxPzZ49O4sWLVpsvaamJq+99lqzDAUAAAAAAAAAANDSGv3avptuuqn+v2+99dZ07dq1/njRokWZPn16+vbt26zDAQAAAAAAAAAAtJRGx1O77rprkqSqqir77LNPg+/atGmTvn375owzzmjW4QAAAAAAAAAAAFpKo+Op2traJMnqq6+emTNnpnv37i02FAAAAAAAAAAAQEtrdDz1qVmzZrXEHAAAAAAAAAAAAEtVqyW56O67785OO+2UtdZaK/369cvOO++ce++9t7lnAwAAAAAAAAAAaDFNjqeuvPLKbLvttunYsWPGjh2bQw45JB06dMg222yTq6++uiVmBAAAAAAAAAAAaHZNfm3fKaecktNPPz2HHXZY/dq4ceNy5pln5qSTTsrIkSObdUAAAAAAAJZNEx+bW+kRoEmOGti90iMAAADNrMk7T7300kvZaaedFlvfeeedM2vWrGYZCgAAAAAAAAAAoKU1OZ7q06dPpk+fvtj69OnT06dPn2YZCgAAAAAAAAAAoKU1+rV9o0ePzjnnnJPx48dn7Nixefzxx7PZZpulqqoq9913XyZPnpxzzjmnJWcFAAAAAAAAAABoNo2Op6ZMmZKJEyfmoIMOysorr5wzzjgj06ZNS5Ksvfbaufbaa7PLLru02KAAAAAAAAAAAADNqdHxVF1dXf1/jxgxIiNGjGiRgQAAAAAAAAAAAJaGVk05uaqqqqXmAAAAAAAAAAAAWKoavfNUkvTv3/8LA6p33333Sw0EAAAAAAAAAACwNDQpnjrhhBPStWvXlpoFAAAAAAAAAABgqWlSPLXHHnukZ8+eLTULAAAAAAAAAADAUtOqsSd+0ev6AAAAAAAAAAAAvk4aHU/V1dW15BwAAAAAAAAAAABLVaNf21dbW9uScwAAAAAAAAAAACxVjd55CgAAAAAAAAAAYFkingIAAAAAAAAAAIokngIAAAAAAAAAAIokngIAAAAAAAAAAIokngIAAAAAAAAAAIokngIAAAAAAAAAAIokngIAAAAAAAAAAIokngIAAAAAAAAAAIokngIAAAAAAAAAAIokngIAAAAAAAAAAIokngIAAAAAAAAAAIokngIAAAAAAAAAAIokngIAAAAAAAAAAIokngIAAAAAAAAAAIokngIAAAAAAAAAAIokngIAAAAAAAAAAIokngIAAAAAAAAAAIokngIAAAAAAAAAAIokngIAAAAAAAAAAIokngIAAAAAAAAAAIokngIAAAAAAAAAAIokngIAAAAAAAAAAIokngIAAAAAAAAAAIokngIAAAAAAAAAAIokngIAAAAAAAAAAIokngIAAAAAAAAAAIokngIAAAAAAAAAAIokngIAAAAAAAAAAIokngIAAAAAAAAAAIokngIAAAAAAAAAAIokngIAAAAAAAAAAIokngIAAAAAAAAAAIokngIAAAAAAAAAAIr0/7F332FWVPf/wD9LW3pTqhAQUQSsIBpUikZF/doiRmwIFmLvUaNGwRYsMbYYNYaixva1YUeUiBqNigULUhTFihUB0Z9IOb8/fPZ+97LLssAuC8zr9Tz7wL137syZmXPmnjn3PXOFpwAAAAAAAAAAgEwSngIAAAAAAAAAADJJeAoAAAAAAAAAAMgk4SkAAAAAAAAAACCThKcAAAAAAAAAAIBMEp4CAAAAAAAAAAAySXgKAAAAAAAAAADIJOEpAAAAAAAAAAAgk2pUdQEAAAAAAACoWJe98U1VFwHK7Y9br1/VRQAAMsydpwAAAAAAAAAAgExy5ykAAAAAAACAcnBXN9Y27uwGsHzuPAUAAAAAAAAAAGSS8BQAAAAAAAAAAJBJwlMAAAAAAAAAAEAmCU8BAAAAAAAAAACZJDwFAAAAAAAAAABkkvAUAAAAAAAAAACQScJTAAAAAAAAAABAJglPAQAAAAAAAAAAmSQ8BQAAAAAAAAAAZJLwFAAAAAAAAAAAkEnCUwAAAAAAAAAAQCYJTwEAAAAAAAAAAJkkPAUAAAAAAAAAAGSS8BQAAAAAAAAAAJBJwlMAAAAAAAAAAEAmCU8BAAAAAAAAAACZJDwFAAAAAAAAAABkkvAUAAAAAAAAAACQScJTAAAAAAAAAABAJglPAQAAAAAAAAAAmSQ8BQAAAAAAAAAAZJLwFAAAAAAAAAAAkEnCUwAAAAAAAAAAQCYJTwEAAAAAAAAAAJkkPAUAAAAAAAAAAGSS8BQAAAAAAAAAAJBJwlMAAAAAAAAAAEAmCU8BAAAAAAAAAACZJDwFAAAAAAAAAABkkvAUAAAAAAAAAACQSVUanrrxxhtjiy22iIYNG0bDhg2jZ8+e8cQTT1RlkQAAAAAAAAAAgIyo0vBUmzZt4rLLLotXX301Xn311dh5551j3333jcmTJ1dlsQAAAAAAAAAAgAyoUZUL33vvvfMeX3rppXHjjTfGSy+9FF27dq2iUgEAAAAAAAAAAFlQpeGp4hYvXhz33ntv/PDDD9GzZ89Sp1mwYEEsWLAg93jevHmrq3gAAAAAAAAAAMA6pkp/ti8i4u2334769etHYWFhHHvssfHggw9Gly5dSp12+PDh0ahRo9xf27ZtV3NpAQAAAAAAAACAdUWV33mqU6dOMWnSpJgzZ07cf//9MWjQoHj22WdLDVCdc845cfrpp+cez5s3T4AKAAAAAAAAANZyl73xTVUXAVbIH7dev6qLQAWp8vBUrVq1omPHjhERsc0228TEiRPj2muvjZtvvrnEtIWFhVFYWLi6iwgAAAAAAAAAAKyDqvxn+5aWUooFCxZUdTEAAAAAAAAAAIB1XJXeeercc8+NPfbYI9q2bRvff/993H333TFhwoQYO3ZsVRYLAAAAAAAAAADIgCoNT3355ZcxcODAmDVrVjRq1Ci22GKLGDt2bOy6665VWSwAAAAAAAAAACADqjQ8NWLEiKpcPAAAAAAAAAAAkGHVqroAAAAAAAAAAAAAVUF4CgAAAAAAAAAAyCThKQAAAAAAAAAAIJOEpwAAAAAAAAAAgEwSngIAAAAAAAAAADJJeAoAAAAAAAAAAMgk4SkAAAAAAAAAACCThKcAAAAAAAAAAIBMEp4CAAAAAAAAAAAySXgKAAAAAAAAAADIJOEpAAAAAAAAAAAgk4SnAAAAAAAAAACATBKeAgAAAAAAAAAAMkl4CgAAAAAAAAAAyCThKQAAAAAAAAAAIJOEpwAAAAAAAAAAgEwSngIAAAAAAAAAADJJeAoAAAAAAAAAAMgk4SkAAAAAAAAAACCThKcAAAAAAAAAAIBMEp4CAAAAAAAAAAAySXgKAAAAAAAAAADIJOEpAAAAAAAAAAAgk4SnAAAAAAAAAACATBKeAgAAAAAAAAAAMkl4CgAAAAAAAAAAyCThKQAAAAAAAAAAIJOEpwAAAAAAAAAAgEwSngIAAAAAAAAAADJJeAoAAAAAAAAAAMgk4SkAAAAAAAAAACCThKcAAAAAAAAAAIBMEp4CAAAAAAAAAAAySXgKAAAAAAAAAADIJOEpAAAAAAAAAAAgk4SnAAAAAAAAAACATBKeAgAAAAAAAAAAMkl4CgAAAAAAAAAAyCThKQAAAAAAAAAAIJOEpwAAAAAAAAAAgEwSngIAAAAAAAAAADJJeAoAAAAAAAAAAMgk4SkAAAAAAAAAACCThKcAAAAAAAAAAIBMEp4CAAAAAAAAAAAySXgKAAAAAAAAAADIJOEpAAAAAAAAAAAgk4SnAAAAAAAAAACATBKeAgAAAAAAAAAAMkl4CgAAAAAAAAAAyCThKQAAAAAAAAAAIJOEpwAAAAAAAAAAgEwSngIAAAAAAAAAADJJeAoAAAAAAAAAAMgk4SkAAAAAAAAAACCThKcAAAAAAAAAAIBMEp4CAAAAAAAAAAAySXgKAAAAAAAAAADIJOEpAAAAAAAAAAAgk4SnAAAAAAAAAACATBKeAgAAAAAAAAAAMkl4CgAAAAAAAAAAyCThKQAAAAAAAAAAIJOEpwAAAAAAAAAAgEwSngIAAAAAAAAAADJJeAoAAAAAAAAAAMgk4SkAAAAAAAAAACCThKcAAAAAAAAAAIBMEp4CAAAAAAAAAAAySXgKAAAAAAAAAADIJOEpAAAAAAAAAAAgk4SnAAAAAAAAAACATBKeAgAAAAAAAAAAMkl4CgAAAAAAAAAAyCThKQAAAAAAAAAAIJOEpwAAAAAAAAAAgEwSngIAAAAAAAAAADJJeAoAAAAAAAAAAMgk4SkAAAAAAAAAACCThKcAAAAAAAAAAIBMEp4CAAAAAAAAAAAySXgKAAAAAAAAAADIJOEpAAAAAAAAAAAgk4SnAAAAAAAAAACATBKeAgAAAAAAAAAAMkl4CgAAAAAAAAAAyCThKQAAAAAAAAAAIJOEpwAAAAAAAAAAgEwSngIAAAAAAAAAADJJeAoAAAAAAAAAAMgk4SkAAAAAAAAAACCThKcAAAAAAAAAAIBMEp4CAAAAAAAAAAAySXgKAAAAAAAAAADIJOEpAAAAAAAAAAAgk4SnAAAAAAAAAACATBKeAgAAAAAAAAAAMkl4CgAAAAAAAAAAyCThKQAAAAAAAAAAIJOEpwAAAAAAAAAAgEwSngIAAAAAAAAAADJJeAoAAAAAAAAAAMgk4SkAAAAAAAAAACCThKcAAAAAAAAAAIBMEp4CAAAAAAAAAAAySXgKAAAAAAAAAADIJOEpAAAAAAAAAAAgk4SnAAAAAAAAAACATBKeAgAAAAAAAAAAMkl4CgAAAAAAAAAAyCThKQAAAAAAAAAAIJOEpwAAAAAAAAAAgEwSngIAAAAAAAAAADJJeAoAAAAAAAAAAMgk4SkAAAAAAAAAACCThKcAAAAAAAAAAIBMEp4CAAAAAAAAAAAySXgKAAAAAAAAAADIJOEpAAAAAAAAAAAgk4SnAAAAAAAAAACATBKeAgAAAAAAAAAAMkl4CgAAAAAAAAAAyCThKQAAAAAAAAAAIJOEpwAAAAAAAAAAgEwSngIAAAAAAAAAADJJeAoAAAAAAAAAAMgk4SkAAAAAAAAAACCThKcAAAAAAAAAAIBMEp4CAAAAAAAAAAAySXgKAAAAAAAAAADIJOEpAAAAAAAAAAAgk4SnAAAAAAAAAACATBKeAgAAAAAAAAAAMkl4CgAAAAAAAAAAyCThKQAAAAAAAAAAIJOEpwAAAAAAAAAAgEwSngIAAAAAAAAAADJJeAoAAAAAAAAAAMikKg1PDR8+PHr06BENGjSI5s2bx3777RfTpk2ryiIBAAAAAAAAAAAZUaXhqWeffTZOOOGEeOmll+Kpp56KRYsWxW677RY//PBDVRYLAAAAAAAAAADIgBpVufCxY8fmPR41alQ0b948Xnvttejdu3cVlQoAAAAAAAAAAMiCKg1PLW3u3LkREdG0adNSX1+wYEEsWLAg93jevHmrpVwAAAAAAAAAAMC6p0p/tq+4lFKcfvrpseOOO8Zmm21W6jTDhw+PRo0a5f7atm27mksJAAAAAAAAAACsK9aY8NSJJ54Yb731Vtx1113LnOacc86JuXPn5v4++eST1VhCAAAAAAAAAABgXbJG/GzfSSedFA8//HA899xz0aZNm2VOV1hYGIWFhauxZAAAAAAAAAAAwLqqSsNTKaU46aST4sEHH4wJEybEhhtuWJXFAQAAAAAAAAAAMqRKw1MnnHBC3HnnnfHQQw9FgwYN4osvvoiIiEaNGkWdOnWqsmgAAAAAAAAAAMA6rlpVLvzGG2+MuXPnRt++faNVq1a5v3vuuacqiwUAAAAAAAAAAGRAlf9sHwAAAAAAAAAAQFWo0jtPAQAAAAAAAAAAVBXhKQAAAAAAAAAAIJOEpwAAAAAAAAAAgEwSngIAAAAAAAAAADJJeAoAAAAAAAAAAMgk4SkAAAAAAAAAACCThKcAAAAAAAAAAIBMEp4CAAAAAAAAAAAySXgKAAAAAAAAAADIJOEpAAAAAAAAAAAgk4SnAAAAAAAAAACATBKeAgAAAAAAAAAAMkl4CgAAAAAAAAAAyCThKQAAAAAAAAAAIJOEpwAAAAAAAAAAgEwSngIAAAAAAAAAADJJeAoAAAAAAAAAAMgk4SkAAAAAAAAAACCThKcAAAAAAAAAAIBMEp4CAAAAAAAAAAAySXgKAAAAAAAAAADIJOEpAAAAAAAAAAAgk4SnAAAAAAAAAACATBKeAgAAAAAAAAAAMkl4CgAAAAAAAAAAyCThKQAAAAAAAAAAIJOEpwAAAAAAAAAAgEwSngIAAAAAAAAAADJJeAoAAAAAAAAAAMgk4SkAAAAAAAAAACCThKcAAAAAAAAAAIBMEp4CAAAAAAAAAAAySXgKAAAAAAAAAADIJOEpAAAAAAAAAAAgk4SnAAAAAAAAAACATBKeAgAAAAAAAAAAMkl4CgAAAAAAAAAAyCThKQAAAAAAAAAAIJOEpwAAAAAAAAAAgEwSngIAAAAAAAAAADJJeAoAAAAAAAAAAMgk4SkAAAAAAAAAACCThKcAAAAAAAAAAIBMEp4CAAAAAAAAAAAySXgKAAAAAAAAAADIJOEpAAAAAAAAAAAgk4SnAAAAAAAAAACATBKeAgAAAAAAAAAAMkl4CgAAAAAAAAAAyCThKQAAAAAAAAAAIJOEpwAAAAAAAAAAgEwSngIAAAAAAAAAADJJeAoAAAAAAAAAAMgk4SkAAAAAAAAAACCThKcAAAAAAAAAAIBMEp4CAAAAAAAAAAAySXgKAAAAAAAAAADIJOEpAAAAAAAAAAAgk4SnAAAAAAAAAACATBKeAgAAAAAAAAAAMkl4CgAAAAAAAAAAyCThKQAAAAAAAAAAIJOEpwAAAAAAAAAAgEwSngIAAAAAAAAAADJJeAoAAAAAAAAAAMgk4SkAAAAAAAAAACCThKcAAAAAAAAAAIBMEp4CAAAAAAAAAAAySXgKAAAAAAAAAADIJOEpAAAAAAAAAAAgk4SnAAAAAAAAAACATBKeAgAAAAAAAAAAMkl4CgAAAAAAAAAAyCThKQAAAAAAAAAAIJOEpwAAAAAAAAAAgEwSngIAAAAAAAAAADJJeAoAAAAAAAAAAMgk4SkAAAAAAAAAACCThKcAAAAAAAAAAIBMEp4CAAAAAAAAAAAySXgKAAAAAAAAAADIJOEpAAAAAAAAAAAgk4SnAAAAAAAAAACATBKeAgAAAAAAAAAAMkl4CgAAAAAAAAAAyCThKQAAAAAAAAAAIJOEpwAAAAAAAAAAgEwSngIAAAAAAAAAADJJeAoAAAAAAAAAAMgk4SkAAAAAAAAAACCThKcAAAAAAAAAAIBMEp4CAAAAAAAAAAAySXgKAAAAAAAAAADIJOEpAAAAAAAAAAAgk4SnAAAAAAAAAACATBKeAgAAAAAAAAAAMkl4CgAAAAAAAAAAyCThKQAAAAAAAAAAIJOEpwAAAAAAAAAAgEwSngIAAAAAAAAAADJJeAoAAAAAAAAAAMgk4SkAAAAAAAAAACCThKcAAAAAAAAAAIBMEp4CAAAAAAAAAAAySXgKAAAAAAAAAADIJOEpAAAAAAAAAAAgk4SnAAAAAAAAAACATBKeAgAAAAAAAAAAMkl4CgAAAAAAAAAAyCThKQAAAAAAAAAAIJOEpwAAAAAAAAAAgEwSngIAAAAAAAAAADJJeAoAAAAAAAAAAMgk4SkAAAAAAAAAACCThKcAAAAAAAAAAIBMEp4CAAAAAAAAAAAySXgKAAAAAAAAAADIJOEpAAAAAAAAAAAgk4SnAAAAAAAAAACATBKeAgAAAAAAAAAAMkl4CgAAAAAAAAAAyCThKQAAAAAAAAAAIJOEpwAAAAAAAAAAgEwSngIAAAAAAAAAADJJeAoAAAAAAAAAAMgk4SkAAAAAAAAAACCThKcAAAAAAAAAAIBMEp4CAAAAAAAAAAAySXgKAAAAAAAAAADIJOEpAAAAAAAAAAAgk4SnAAAAAAAAAACATBKeAgAAAAAAAAAAMkl4CgAAAAAAAAAAyCThKQAAAAAAAAAAIJOEpwAAAAAAAAAAgEwSngIAAAAAAAAAADJJeAoAAAAAAAAAAMgk4SkAAAAAAAAAACCTqjQ89dxzz8Xee+8drVu3joKCghgzZkxVFgcAAAAAAAAAAMiQKg1P/fDDD7HlllvG3/72t6osBgAAAAAAAAAAkEE1qnLhe+yxR+yxxx5VWQQAAAAAAAAAACCjqjQ8taIWLFgQCxYsyD2eN29eFZYGAAAAAAAAAABYm1Xpz/atqOHDh0ejRo1yf23btq3qIgEAAAAAAAAAAGuptSo8dc4558TcuXNzf5988klVFwkAAAAAAAAAAFhLrVU/21dYWBiFhYVVXQwAAAAAAAAAAGAdsFbdeQoAAAAAAAAAAKCiVOmdp+bPnx/vv/9+7vGHH34YkyZNiqZNm8avfvWrKiwZAAAAAAAAAACwrqvS8NSrr74aO+20U+7x6aefHhERgwYNitGjR1dRqQAAAAAAAAAAgCyo0vBU3759I6VUlUUAAAAAAAAAAAAyqlpVFwAAAAAAAAAAAKAqCE8BAAAAAAAAAACZJDwFAAAAAAAAAABkkvAUAAAAAAAAAACQScJTAAAAAAAAAABAJglPAQAAAAAAAAAAmSQ8BQAAAAAAAAAAZJLwFAAAAAAAAAAAkEnCUwAAAAAAAAAAQCYJTwEAAAAAAAAAAJkkPAUAAAAAAAAAAGSS8BQAAAAAAAAAAJBJwlMAAAAAAAAAAEAmCU8BAAAAAAAAAACZJDwFAAAAAAAAAABkkvAUAAAAAAAAAACQScJTAAAAAAAAAABAJglPAQAAAAAAAAAAmSQ8BQAAAAAAAAAAZJLwFAAAAAAAAAAAkEnCUwAAAAAAAAAAQCYJTwEAAAAAAAAAAJkkPAUAAAAAAAAAAGSS8BQAAAAAAAAAAJBJwlMAAAAAAAAAAEAmCU8BAAAAAAAAAACZJDwFAAAAAAAAAABkkvAUAAAAAAAAAACQScJTAAAAAAAAAABAJglPAQAAAAAAAAAAmSQ8BQAAAAAAAAAAZJLwFAAAAAAAAAAAkEnCUwAAAAAAAAAAQCYJTwEAAAAAAAAAAJkkPAUAAAAAAAAAAGSS8BQAAAAAAAAAAJBJwlMAAAAAAAAAAEAmCU8BAAAAAAAAAACZJDwFAAAAAAAAAABkkvAUAAAAAAAAAACQScJTAAAAAAAAAABAJglPAQAAAAAAAAAAmSQ8BQAAAAAAAAAAZJLwFAAAAAAAAAAAkEnCUwAAAAAAAAAAQCYJTwEAAAAAAAAAAJkkPAUAAAAAAAAAAGSS8BQAAAAAAAAAAJBJwlMAAAAAAAAAAEAmCU8BAAAAAAAAAACZJDwFAAAAAAAAAABkkvAUAAAAAAAAAACQScJTAAAAAAAAAABAJglPAQAAAAAAAAAAmSQ8BQAAAAAAAAAAZJLwFAAAAAAAAAAAkEnCUwAAAAAAAAAAQCYJTwEAAAAAAAAAAJkkPAUAAAAAAAAAAGSS8BQAAAAAAAAAAJBJwlMAAAAAAAAAAEAmCU8BAAAAAAAAAACZJDwFAAAAAAAAAABkkvAUAAAAAAAAAACQScJTAAAAAAAAAABAJglPAQAAAAAAAAAAmSQ8BQAAAAAAAAAAZJLwFAAAAAAAAAAAkEnCUwAAAAAAAAAAQCYJTwEAAAAAAAAAAJkkPAUAAAAAAAAAAGSS8BQAAAAAAAAAAJBJwlMAAAAAAAAAAEAmCU8BAAAAAAAAAACZJDwFAAAAAAAAAABkkvAUAAAAAAAAAACQScJTAAAAAAAAAABAJglPAQAAAAAAAAAAmSQ8BQAAAAAAAAAAZJLwFAAAAAAAAAAAkEnCUwAAAAAAAAAAQCYJTwEAAAAAAAAAAJkkPAUAAAAAAAAAAGSS8BQAAAAAAAAAAJBJwlMAAAAAAAAAAEAmCU8BAAAAAAAAAACZJDwFAAAAAAAAAABkkvAUAAAAAAAAAACQScJTAAAAAAAAAABAJglPAQAAAAAAAAAAmSQ8BQAAAAAAAAAAZJLwFAAAAAAAAAAAkEnCUwAAAAAAAAAAQCYJTwEAAAAAAAAAAJkkPAUAAAAAAAAAAGSS8BQAAAAAAAAAAJBJwlMAAAAAAAAAAEAmCU8BAAAAAAAAAACZJDwFAAAAAAAAAABkkvAUAAAAAAAAAACQScJTAAAAAAAAAABAJglPAQAAAAAAAAAAmSQ8BQAAAAAAAAAAZJLwFAAAAAAAAAAAkEnCUwAAAAAAAAAAQCYJTwEAAAAAAAAAAJkkPAUAAAAAAAAAAGSS8BQAAAAAAAAAAJBJwlMAAAAAAAAAAEAmCU8BAAAAAAAAAACZJDwFAAAAAAAAAABkkvAUAAAAAAAAAACQScJTAAAAAAAAAABAJglPAQAAAAAAAAAAmSQ8BQAAAAAAAAAAZJLwFAAAAAAAAAAAkEnCUwAAAAAAAAAAQCYJTwEAAAAAAAAAAJkkPAUAAAAAAAAAAGSS8BQAAAAAAAAAAJBJwlMAAAAAAAAAAEAmCU8BAAAAAAAAAACZJDwFAAAAAAAAAABkkvAUAAAAAAAAAACQScJTAAAAAAAAAABAJglPAQAAAAAAAAAAmSQ8BQAAAAAAAAAAZJLwFAAAAAAAAAAAkEnCUwAAAAAAAAAAQCYJTwEAAAAAAAAAAJkkPAUAAAAAAAAAAGSS8BQAAAAAAAAAAJBJwlMAAAAAAAAAAEAmCU8BAAAAAAAAAACZJDwFAAAAAAAAAABkkvAUAAAAAAAAAACQScJTAAAAAAAAAABAJglPAQAAAAAAAAAAmbRGhKf+/ve/x4Ybbhi1a9eO7t27x/PPP1/VRQIAAAAAAAAAANZxVR6euueee+LUU0+N8847L954443o1atX7LHHHvHxxx9XddEAAAAAAAAAAIB1WJWHp/7617/GUUcdFUcffXR07tw5rrnmmmjbtm3ceOONVV00AAAAAAAAAABgHVajKhf+888/x2uvvRZ//OMf857fbbfd4sUXXywx/YIFC2LBggW5x3Pnzo2IiHnz5lVuQVllP83/vqqLACtk3rxaVV2EctO+WJtoW1B5tC+oPNoXVA5tCyqP9gWVR/uCyqFtQeXRvqDyrE3tK4uKskQppeVOW5DKM1Ul+fzzz2ODDTaIF154Ibbffvvc83/+85/j1ltvjWnTpuVNP2zYsLjwwgtXdzEBAAAAAAAAAIC1zCeffBJt2rQpc5oqvfNUkYKCgrzHKaUSz0VEnHPOOXH66afnHi9ZsiRmz54d6623XqnTw7ps3rx50bZt2/jkk0+iYcOGVV0cWKdoX1B5tC+oHNoWVB7tCyqP9gWVQ9uCyqN9QeXRvqByaFtkWUopvv/++2jduvVyp63S8NT6668f1atXjy+++CLv+a+++ipatGhRYvrCwsIoLCzMe65x48aVWURY4zVs2NAHHVQS7Qsqj/YFlUPbgsqjfUHl0b6gcmhbUHm0L6g82hdUDm2LrGrUqFG5pqtWyeUoU61ataJ79+7x1FNP5T3/1FNP5f2MHwAAAAAAAAAAQEWr8p/tO/3002PgwIGxzTbbRM+ePeMf//hHfPzxx3HsscdWddEAAAAAAAAAAIB1WJWHpwYMGBDffvttXHTRRTFr1qzYbLPN4vHHH4927dpVddFgjVZYWBhDhw4t8VOWwKrTvqDyaF9QObQtqDzaF1Qe7Qsqh7YFlUf7gsqjfUHl0LagfApSSqmqCwEAAAAAAAAAALC6VavqAgAAAAAAAAAAAFQF4SkAAAAAAAAAACCThKcAAAAAAAAAAIBMEp4CAAAAAAAAAAAySXiKNc6wYcNiq622qupiVLrRo0dH3759q7oYlW7mzJlRUFCwWpY1ePDg2G+//VbLsiqL+l/x2rdvH9dcc02FznPChAnRvn37Cp1n375949RTT63Qea5ORW190qRJVTqPVTF69Oho3Lhxhc+3b9++MXr06FWeT2WVb02jfZVUke3roosuUs/XAJVRz9dUBQUFMXPmzAqb37rQV6qIvkll9G+qSlXv04KCghgzZkyFznNNONdb+nha1ds5a7KyvdeEur46rM5xjeWVoag/OGHChCgoKIg5c+ZUabmqmrZW8daUMZRV2bfFP9vX1bazLpw3VcR5emWc668LY9kVdQ62Loy1V6Q1fdywyLpwnKuIuqd9sTYbPHhwFBQUREFBQdSsWTNatGgRu+66a4wcOTKWLFlS1cWDdZrwFKvFiy++GNWrV4/dd9+9qotSqqr+wr54GZb+O+ywwyp0/lW5jkv785//HNWrV4/LLrtshd63rHW59tprK/REoyKs6XU/Ys2rG7vttltUr149XnrppRV637JOYCdOnBi///3vK6h0y/bMM8/ETjvtFE2bNo26devGxhtvHIMGDYpFixaV6/0PPPBAXHzxxZVcylVX2nFqxx13jLZt28asWbNis802K9d8SjtBXNF5rEr7Km1AeMCAATF9+vQVntfK+vTTT6NWrVqx6aabrrZlrozK+FJ5RWW5fW2xxRax0UYbRd++fVe4fRWv50Xt67TTTlPPS7Em1PNlHV8rcv5VvY4RER988EEcfPDB0bp166hdu3a0adMm9t1333LXyz/84Q8xfvz4Si7lquvbt2+p+3TRokUr1Dep6v5Nea3KZ/Lq2qfL+hJ21qxZsccee1Tqsiv7XK80q7tfkwVr+rndmnBel6Vxjfbt25dYzzZt2lTa8lb0XGltpq2tmLVtDGX06NGlHieK/02YMGGVlrE6PttX1VdffRXHHHNM/OpXv4rCwsJo2bJl9OvXL/773/+W6/1ry+d88S9/i/+9//77K3SevqwwyOo+11/bx7LvvPPOqF69ehx77LGrbZkrqiKDP2vruOEPP/wQZ599dnTo0CFq164dzZo1i759+8ajjz5arvdvv/32MWvWrGjUqFEll3TVDBs2rNTjw9NPP71CbUP7Kr91IViXJbvvvnvMmjUrZs6cGU888UTstNNOccopp8Ree+21zDHxhQsXruZSwrpHeIrVYuTIkXHSSSfFf/7zn/j444+rujiV6ueff16l9z/99NMxa9as3N8NN9xQQSVb84waNSrOOuusGDlyZIXMr1GjRmvcVVdZqvsRq17/P/744/jvf/8bJ554YowYMaJCytSsWbOoW7duhcxrWSZPnhx77LFH9OjRI5577rl4++234/rrr4+aNWuW+0qApk2bRoMGDSq1nBVl1KhRecephx9+OKpXrx4tW7aMGjVqrPR8V3QeFd2+6tSpE82bN1/l+ZTX6NGj48ADD4wff/wxXnjhhdW23KqysseHrLevLbfcMk466aSYOHFifP755ys936L21aBBA/W8Eq3q52Bpx9d1yc8//xy77rprzJs3Lx544IGYNm1a3HPPPbHZZpvF3LlzyzWP+vXrx3rrrVfJJa0YQ4YMydufs2bNiho1alRI32R19G9WxKp8Jlf1Pm3ZsmUUFhaulmWtznO91d2vyYIsndsZ1yifiy66KG8933jjjUpbVkWcb60ttLXyWxvHUAYMGJDXbnr27Fmiz7T99tuv1LyLtmdlf7av6n6LiOjfv3+8+eabceutt8b06dPj4Ycfjr59+8bs2bPL9f616XO+6Mvf4n8bbrhhhZynr+5z/bV9LHvkyJFx1llnxd133x0//vjjaltuVfnnP/+5Vo4bHnvssTFmzJj429/+FlOnTo2xY8dG//7949tvvy3X+2vVqhUtW7as8rtmlkfXrl1LHB969+5dIW1D+6pcQjqVryhcvcEGG0S3bt3i3HPPjYceeiieeOKJXDCwoKAgbrrppth3332jXr16cckll8TixYvjqKOOig033DDq1KkTnTp1imuvvTZv3kUX3v75z3+OFi1aROPGjePCCy+MRYsWxZlnnhlNmzaNNm3alPi8O/vss2OTTTaJunXrRocOHeL8889XF1j3JKhk8+fPTw0aNEhTp05NAwYMSBdeeGHe68OHD0/NmzdP9evXT0ceeWQ6++yz05ZbbplSSmns2LGpsLAwfffdd3nvOemkk1Lv3r1zj1944YXUq1evVLt27dSmTZt00kknpfnz5+deb9euXbr00kvTEUcckerXr5/atm2bbr755tzrEZH316dPn5RSSn369EmnnHJK3rL33XffNGjQoLx5X3zxxWnQoEGpYcOG6fDDDy9XmUaNGpVbTkopffjhhyki0htvvFFiG77//vtpn332Sc2bN0/16tVL22yzTXrqqafyplnZdXzllVfSLrvsktZbb73UsGHD1Lt37/Taa6/lzXvo0KGpbdu2qVatWqlVq1bppJNOSimldOGFF6bNNtusRHm7deuWzj///Lz1WtqECRPSBhtskH7++efUunXr9Oyzz+a9vnjx4nTZZZeljTbaKNWqVSu1bds2XXLJJWWuy6BBg9K+++6bm8dPP/2UTjrppNSsWbNUWFiYdthhh/TKK6/kXn/mmWdSRKSnn346de/ePdWpUyf17NkzTZ06tUR5V8by6n5K6v/Shg0blg466KA0ZcqU1KBBg7z3pJTSd999l4YMGZKaN2+eCgsLU9euXdMjjzyS25fF/4YOHZor49VXX52bx0cffZT22WefVK9evdSgQYP0u9/9Ln3xxRe514cOHZq23HLLdNttt6V27dqlhg0bpgEDBqR58+blpnnmmWdSu3btco+vvvrq1L59+xLrs7T//Oc/qXfv3qlOnTqpcePGabfddkuzZ88udXsvWLAgnXnmmal169apbt26adttt03PPPNM3jZs1KhRGjt2bNp0001TvXr1Ur9+/dLnn3+et8wRI0akLl26pFq1aqWWLVumE044IffanDlz0pAhQ1KzZs1SgwYN0k477ZQmTZpU5jpERHrwwQdLPF/aMeydd95Je+65Z2rQoEGqX79+2nHHHdP777+fhg4dWmJ/PfPMM6XOY8KECalHjx658p999tlp4cKFufbVo0ePtPHGG6cddtghNWnSJLVo0SK37x966KHUvXv3VFhYmNZbb73029/+Nretl15+8W1a3N///vfUoUOHVLNmzbTJJpuk2267rcT2uOWWW9J+++2X6tSpkzp27JgeeuihvGn69OmTRo0alffckiVLUocOHdLYsWPT2WefnY444ogS23TUqFGpbdu2qU6dOmm//fZLf/nLX3Llmzp1aoqINGXKlLz3XHXVValdu3ZpyZIlKaWUJk+enPbYY49Ur1691Lx583TYYYelr7/+Oq9sJ510UjrzzDNLbL+Ufmk/xbdTUb1f+nibUkqnnHJKXrvu06dPOuGEE9Jpp52W1ltvvdxxa3ll0r4ezD0uqudPP/10ioh07LHH5l4ral916tRJ1apVSwUFBalJkyZp0003LVG/i/9deOGFuXpU1L6qV6+eqlevnqpVq5ZXz4vqR0SkunXrpsLCwlSjRg31vBLqeUrLPr5+88036aCDDkobbLBBqlOnTtpss83SnXfemTfNyq5jefqYN9xwQ+rYsWMqLCxMzZs3T/37908ppXTrrbempk2bpp9++ilv+v333z8NHDgwb70+/PDDlFJKb7zxRoqINHPmzBLrWdwnn3ySBgwYkJo0aZLq1q2bunfvnl566aWU0v99Thc3cuTItOmmm6bCwsLUqVOndMMNN+ReK/psuf/++1Pfvn1TnTp10hZbbJFefPHFvHmUdQxZsmRJuvzyy9OGG26YateunbbYYot07733lrkOpfWjiizdN1lT+jcrq6w+b3n620vv06K2d+mll6bmzZunRo0apWHDhqWFCxemP/zhD6lJkyZpgw02SCNGjMgrx1lnnZU23njjVKdOnbThhhumP/3pT+nnn39OKf1yrFl6WxYds5Zue2+99VbaaaedUu3atVPTpk3TkCFD0vfff1+ifFdeeWVq2bJlatq0aTr++ONzyypaXkWf61188cVp4MCBqV69eulXv/pVGjNmTPrqq69y+32zzTZLEydOzCtD8X5N8e387LPPpho1aqRZs2blLef0009PvXr1KlFGjGsY1yg5rrH0cbjIokWL0pFHHpnat2+fateunTbZZJN0zTXX5E2zMse5pbdt0fH1u+++y9XPpT+bHn744VS3bt0KOdavLtpaNsZQiltWn6k8811WX7z4Z3tZbadIeepEafttZX333XcpItKECROWO11p+y+l0scvHn744dStW7dUWFiYNtxww9xxpUh5xi+WNY5TpKx+d2lKO6cqsvS+/+mnn9KZZ56Z2rRpk2rVqpU6duyY/vnPf+b2YfG/ona19Dxmz56dBg4cmBo3bpzq1KmTdt999zR9+vTc6+U5118XxrKLn4MVX686deqkOXPmpO222y7deuutea8vWrQonXbaaalRo0apadOm6cwzz0yHH354rnw33XRTat26dVq8eHHe+/bee++8NrEq9bCsfV3a5+6WW26Zd94bEenGG29M++yzT6pTp06qVatWmjp1aurVq1dq1apViTKtqeOGjRo1SqNHj05lWVZ7SWnlj3NlffalVPZ5ekrL3/dLK+3cvsjSbUP7+sWa0r7q1q2bLrjggnKViZVT1ufnlltumfbYY4+U0i/7pXnz5mnEiBFpxowZaebMmennn39OF1xwQXrllVfSBx98kP71r3+lunXrpnvuuSdv/g0aNEgnnHBCmjp1ahoxYkSKiNSvX7906aWXpunTp6eLL7441axZM3388ce591188cXphRdeSB9++GF6+OGHU4sWLdLll19eqdsCVjfhKSrdiBEj0jbbbJNSSumRRx5J7du3z33Zdc8996RatWqlW265JU2dOjWdd955qUGDBrlO06JFi1KLFi1yHb/izxV13t56661Uv379dPXVV6fp06enF154IW299dZp8ODBufe0a9cuNW3aNN1www3pvffeS8OHD0/VqlXLfRn3yiuv5DpGs2bNSt9++21KqfwDHw0bNkxXXnlleu+999J7771XrjKtyCDjpEmT0k033ZTeeuutNH369HTeeeel2rVrp48++miV13H8+PHp9ttvT++++256991301FHHZVatGiRG4y49957U8OGDdPjjz+ePvroo/Tyyy+nf/zjHymlXzrM1apVy+tkvvnmm6mgoCDNmDEjb72WNnDgwPSHP/whpZTSGWecUWLg4ayzzkpNmjRJo0ePTu+//356/vnn0y233FLmuizdoTj55JNT69at0+OPP54mT56cBg0alJo0aZKbvqhDvN1226UJEyakyZMnp169eqXtt9++RHlXRll1PyX1f+mBvyVLlqR27dqlRx99NKWUUvfu3dPIkSNzry9evDj9+te/Tl27dk3jxo1LM2bMSI888kh6/PHH04IFC9I111yTGjZsmGbNmpVmzZqV+5KreOd/yZIlaeutt0477rhjevXVV9NLL72UunXrlleWoUOHpvr166f9998/vf322+m5555LLVu2TOeee25umqUH/u66665UWFhYYuCkuDfeeCMVFham4447Lk2aNCm988476frrr899mb709j7kkEPS9ttvn5577rn0/vvvpyuvvDIVFhbmBn1GjRqVatasmXbZZZc0ceLE9Nprr6XOnTunQw45JDePv//976l27drpmmuuSdOmTUuvvPJK3rbYYYcd0t57750mTpyYpk+fns4444y03nrr5epAacobnvr0009T06ZN0/77758mTpyYpk2blkaOHJmmTp2avv/++3TggQem3XffPbe/FixYUOo86tatm44//vg0ZcqU9OCDD6b1118/DR06NNe++vTpk/uie9q0aenWW29NBQUF6eKLL07Vq1dPF1xwQXr33XfTpEmT0qWXXppSSunbb79Nbdq0SRdddFFu+UXbtPggyAMPPJBq1qyZbrjhhjRt2rR01VVXperVq6d///vfedujTZs26c4770zvvfdeOvnkk1P9+vXztmFpoZLx48enli1bpkWLFqV33nkn1atXL28Q+KWXXkoFBQVp+PDhadq0aenaa69NjRs3zitf9+7d05/+9Ke8+Xbv3j2dc845KaWUPv/887T++uunc845J02ZMiW9/vrradddd0077bRTXtkaNmyYhg0blqZPn57bfuPGjUsppfTVV1/lvmCeNWtW+uqrr1JK5Q+V1K9fP5155plp6tSpacqUKeUqk/b1YO5xUT0vahutW7dOS5YsybWvnj17purVq6cTTjghXXLJJWnMmDHpggsuSAceeGDaeeedU+vWrdOZZ56ZPvroo9yxvig8VdS+dt9991SzZs30+9//PjVp0iTttttuuXpeVD8iIrVs2TIde+yxKSLSfvvtp54Xm3dF1PPS9n+RTz/9NF155ZXpjTfeSDNmzEjXXXddql69et4g5cqu4/L6mBMnTkzVq1dPd955Z5o5c2Z6/fXX07XXXptSSunHH39MjRo1Sv/7v/+bK8fXX3+datWqVeI4WTSw+Omnn6Zq1aqlv/zlL2nRokUl1jWllL7//vvUoUOH1KtXr/T888+n9957L91zzz25sNPSA6z/+Mc/UqtWrdL999+fPvjgg3T//fenpk2b5gabi9rPpptumh599NE0bdq0dMABB6R27drlBvSWdww599xz06abbprGjh2bZsyYkUaNGpUKCwvL/MKrvOGpNal/s7LK6vOWp79dWniqogfxfvzxx3TGGWekrl275rbljz/+mFLKb3s//PBDat26dW47jR8/Pm244YZ5/d+iL06PPfbYNGXKlPTII4+kunXr5s6RUqq8c72bbropTZ8+PR133HGpQYMGaffdd0//+7//m6ZNm5b222+/1Llz59y2Lys8lVJKm2yySbriiityjxcuXJiaN2+e1//m/xjXMK5R3vBUZX1ZsbwAyJAhQ9Kee+6ZV5bf/va3qxzyWN20tWyMoRRXVnhqefMtrS+e0oqFp8pbJ5beb6ti4cKFqX79+unUU08tcSFCkbL2X0olP+fHjh2bGjZsmEaPHp1mzJiRxo0bl9q3b5+GDRuWm2Z54xdljeOktPx+d2lWJDx14IEHprZt26YHHnggzZgxIz399NPp7rvvTosWLUr3339/iog0bdq0NGvWrDRnzpxS57HPPvukzp07p+eeey5NmjQp9evXL3Xs2DEvUL+8c/11YSy7tHDH+eefnw444ICUUkrXX399Xqg0pZQuv/zy1KhRo3TfffflPksbNGiQK9+3336batWqlZ5++unce2bPnp1q1aqVnnzyyZTSqtfDsvZ1ecMdRSGCyy67LG2xxRZp7NixqU6dOmn99ddP77//fq5MhxxyyBo7btipU6d04IEHlhl+XlZ7SWnlj3NlffYt7zy9PPt+aSsSntK+1qz2VRTSWZn9TvmU9fk5YMCA1Llz55TSL/vl1FNPXe78jj/++NzFkEXzb9euXV5gr1OnTnkXUy1atCjVq1cv3XXXXcuc7xVXXJG6d+++3OXD2kR4ikq3/fbb566yW7hwYVp//fVzVxf27Nkz7y4KKaW03Xbb5XWaTj755LTzzjvnHj/55JOpVq1auSvBBw4cmH7/+9/nzeP5559P1apVS//v//2/lNIvH/6HHXZY7vUlS5ak5s2bpxtvvDGltOwBvvIOfOy3335505SnTMsaZKxTp06qV69e7u/1119PpenSpUu6/vrr88qxMuu4tEWLFqUGDRrkrmS66qqr0iabbJJ3JXVxe+yxRzruuONyj0899dTUt2/fEutV3Ny5c1PdunVzd+B44403Ut26ddPcuXNTSinNmzcvFRYW5jrAS1vWuhTvUMyfPz/VrFkz3XHHHbnXi64MKvqSoPjVBEUee+yxFBG5/bQqyqr7Kan/Sw/8jRs3LjVr1iz3RebVV1+ddthhh7x1r1atWpo2bVoqTWlX/xSVsajzP27cuFS9evW8L9omT56cIiI3WD506NASV+eeeeaZabvttss9Xnrgb9GiRWnw4MG5gMF+++2Xrr/++lydTimlgw8+OG99llZ8e7///vupoKAgffbZZ3nT/OY3v8kFBoruoFD8CsAbbrghtWjRIve4devW6bzzzit1eePHj08NGzYsMVC30UYblbiyqLiISLVr1847Tj344IMl6tE555yTNtxww2UeO0o7AVh6Hueee27q1KlTXujwhhtuSPXr18+1rz59+qQddtghr3316NEjtW7dOh166KHLXI/STgqXrkPbb799GjJkSN40v/vd7/K+lIiIvGDH/PnzU0FBQXriiSdyz5UWKjnkkEPyTmy23HLLvGPewQcfnHbfffe89wwYMCCvfH/9619Thw4dco+nTZuWIiJNnjw5pfTLiftuu+2WN49PPvkkd5JcVLYdd9wxb5oePXqks88+O28dlw50lDdUstVWW+VNU54yaV//176qVauWjjzyyFzbaNy4cXrqqady7evXv/51qfW8aP8Ur+dF8ygKTxW1r+L1vKh9HXDAAWnPPffM1Y/i9bxHjx7ptNNOU8+LrXdF1POiMpR2fC3Nnnvumc4444y8cqzMOpameB/z/vvvTw0bNlzmoO1xxx2Xu9otpZSuueaa1KFDh7zj9tIDi3/7299S3bp1c3dku+iii3JfTqeU0s0335waNGiwzKDh0gOsbdu2LXEnrosvvjj17NkzpfR/db/4F6lFn/1FA8FlHUPmz5+fateuXeJOVUcddVQ6+OCDS31PSr/sk5o1a+btz9NPPz2llP8ZtCb1b1ZWWX3e8vS3SwtPVcYg3rIG54u3jX/84x+pSZMmeVdhP/bYY6latWq5u2wUla94APB3v/tdGjBgQO5xZZ/rzZo1K0VE7q44KaX03//+N0XEMr/cWXr9L7/88tyAa0opjRkzJtWvX7/EXUv4hXGN0suU5XGNdu3apVq1auWtZ1HAeGkV8WXF8gIgL7/8cqpevXquj/v111+nmjVrLvfONmsaba30Mq1rYyjFlRWeWt58S+uLp7Ri4any1oml99uquu+++1KTJk1S7dq10/bbb5/OOeec9Oabb+ZeX9H916tXr/TnP/85b5rbb789tWrVKvd4eeMXyxvHWV6/uzSDBg1K1atXzztWFgUMiu/7ovO8pe9IWKS0O+ksPY/p06eniEgvvPBC7vVvvvkm1alTJ3fBR3nO9deFseylz8EWL16c2rZtm8aMGZNS+r/PiOJBwFatWqXLLrss93jhwoWpTZs2eefE++yzTzryyCNzj2+++ebcBVMpVUw9XNa+Lm+4o2gMoujzpFevXuniiy/O+zy5/fbbU82aNdfYccNnn302tWnTJtWsWTNts8026dRTT03/+c9/cq+vaHupiM++5Z2nl2ffL23o0KGpWrVqeceHHj16pJTy24b2tea1ryIrs98pn7LCUwceeGDq0qVLSumX/fKvf/2rxDQ33nhj6t69e1p//fVTvXr1Us2aNXPtq2j+S1940bt373T88cfnPferX/0q7xzn3nvvTTvssENq0aJFqlevXiosLEzNmjVb2dWENVK1gEo0bdq0eOWVV+Kggw6KiIgaNWrEgAEDcr+TOmXKlOjZs2fee5Z+fOihh8aECRPi888/j4iIO+64I/bcc89o0qRJRES89tprMXr06Khfv37ur1+/frFkyZL48MMPc/PZYostcv8vKCiIli1bxldffVUh67nNNtvkPS5vmUpzzz33xKRJk3J/Xbp0iR9++CHOOuus6NKlSzRu3Djq168fU6dOLfFb3Suzjl999VUce+yxsckmm0SjRo2iUaNGMX/+/Ny8f/e738X/+3//Lzp06BBDhgyJBx98MBYtWpR7/5AhQ+Kuu+6Kn376KRYuXBh33HFHHHnkkWUu884774wOHTrElltuGRERW221VXTo0CHuvvvuiPilXixYsCB+85vflDmfssyYMSMWLlwYO+ywQ+65mjVrxrbbbhtTpkzJm7b4dmvVqlVuu6yK5dX9CPV/aSNGjIgBAwZEjRo1IiLi4IMPjpdffjmmTZsWERGTJk2KNm3axCabbLLSZZ0yZUq0bds22rZtm3uuqF0Vrxft27ePBg0a5B63atWqzO1VvXr1GDVqVHz66adxxRVXROvWrePSSy/N/W57UfnLW6dff/31SCnFJptskrcdn3322ZgxY0Zuurp168ZGG21Uajm/+uqr+Pzzz5e5zNdeey3mz58f6623Xt4yPvzww7xllObqq6/OO07tuuuuJaaZNGlS9OrVK2rWrFmudS5NURspKCjIPbfDDjvE/Pnz89rXlltumde+WrVqFV9++eUqHUOKll/8GFK0/LKOIfXq1YsGDRqUWV/mzJkTDzzwQBx22GG55w477LAVPj4cdNBB8dFHH8VLL70UEb8cH7baaqvo0qVLRPyyj5955pm8/bvppptGROTt4+Llj1h+fV8RpR0fylOm4rLavh544IGoVq1anHfeebnX+vXrFyNHjsy1rzfffHOl63lRHStez4vaV9euXXP1vKh+FP3bqlWrmDNnjnpeTEXU8yKlHV8XL14cl156aWyxxRa5OjVu3Lgy+4ER5VvH5fUxd91112jXrl106NAhBg4cGHfccUf8+OOPufcPGTIkxo0bF5999llERIwaNSoGDx6cd9xe2gknnBBffPFF/Otf/4qePXvGvffeG127do2nnnoqIn5pz1tvvXU0bdq0zLJHRHz99dfxySefxFFHHZW3vS+55JIS27qs/l5Zx5B33303fvrpp9h1113zlnHbbbctd38eeuihefvznHPOKTHNmty/KY/y9HkjVry/3bVr16hW7f+GK1q0aBGbb7557nH16tVjvfXWy5vHfffdFzvuuGO0bNky6tevH+eff36JdrI8U6ZMiS233DLq1auXe26HHXaIJUuW5PqkReWrXr163jqVZ1tW1LleixYtIiLytknRc+Xdp4MHD473338/d3wdOXJkHHjggXnrzi+MaxjXWJYzzzwzbz0PP/zwiIi46aabYptttolmzZpF/fr145ZbbimxnitznCvLtttuG127do3bbrstIiJuv/32+NWvfhW9e/cu1/vXBNpadsZQyqs88116e66o8m7/VV3O0vr37x+ff/55PPzww9GvX7+YMGFCdOvWLUaPHh0RK77/Xnvttbjooovy1mPIkCExa9asvP57WeMXZY3jrEi/e2k77bRT3rHyuuuuKzHNpEmTonr16tGnT59yrW9ppkyZEjVq1Ijtttsu99x6660XnTp1yquvZZ3rL8vaPpY9bty4+OGHH2KPPfaIiIj1118/dtttt9zxde7cuTFr1qy8Y2qNGjVK1PtDDz007r///liwYEFE/HKMPeigg3L94oqoh6tqm222yfs8ee211+LSSy+NOXPmxO67754r08KFC2PHHXdcpWVV1rhh796944MPPojx48dH//79Y/LkydGrV6+4+OKLI2LF20tFfPYt7zy9vPt+aZ06dco7Ptx///0lptG+1qz2VdzK7ndWzZQpU2LDDTfMPV76HP5///d/47TTTosjjzwyxo0bF5MmTYojjjgifv7557zplv68LygoKPW5JUuWRETESy+9FAcddFDsscce8eijj8Ybb7wR5513Xon5wtquRlUXgHXbiBEjYtGiRbHBBhvknkspRc2aNeO7774r1zy23Xbb2GijjeLuu++O4447Lh588MEYNWpU7vUlS5bEMcccEyeffHKJ9/7qV7/K/b+sg/6yVKtWLVJKec8tXLiwxHRLfziVt0yladu2bXTs2DHvudNOOy2efPLJ+Mtf/hIdO3aMOnXqxAEHHFCuD7vlrePgwYPj66+/jmuuuSbatWsXhYWF0bNnz9y827ZtG9OmTYunnnoqnn766Tj++OPjyiuvjGeffTZq1qwZe++9dxQWFsaDDz4YhYWFsWDBgujfv3+Zyxw5cmRMnjw5N8AT8cs2GzFiRPz+97+POnXqlPn+8ijab0t/eZdSKvFc8e1W9NryttvyLK/uFw3cLU9W6v/s2bNjzJgxsXDhwrjxxhtzzy9evDhGjhwZl19+eYXVi9K+0F36+ZXZXhERG2ywQQwcODAGDhwYl1xySWyyySZx0003xYUXXrhC5V+yZElUr149Xnvttbwv5iIi6tevX2Y5i/bZ8pa3ZMmSaNWqVUyYMKHEa40bNy7zvS1btixxnPr666/zHlfW/ipav6L2tXjx4njuuedynfvvvvsuCgoK8o4vq2JFjyFF7ymrvtx5553x008/5Q3opZRiyZIl8e6770aXLl1KtL3StGrVKnbaaae4884749e//nXcddddccwxx+ReX7JkSey9995x+eWXl/relS1/xKodH8pTptJkrX394x//iEWLFuUNlt97771Rs2bNXGBxVdpZ8bpc9G/R+hV/rWg7FP1bVD/U8/9TkfW8tOPrFVdcEVdffXVcc801sfnmm0e9evXi1FNPrZB+4JlnnllmH7NBgwbx+uuvx4QJE2LcuHFxwQUXxLBhw2LixInRuHHj2HrrrWPLLbeM2267Lfr16xdvv/12PPLII2Uus2i+++yzT+yzzz5xySWXRL9+/eKSSy6JXXfddYXbc0TELbfcklfXIqJE+y6rv1fWMoumeeyxx/L6dRERhYWFZZavUaNGJfbn0taG/k1Zynu+t6L97ZUdxLvwwgujX79+0ahRo7j77rvjqquuWqH1Wda2LF7uZZWvPNuyos71lj5GF3+uvPu0efPmsffee8eoUaOiQ4cO8fjjj5f6uYVxDeMay7b++uuXWM+iLyuuuuqq6NmzZzRo0CCuvPLKePnll5e7nqt6nD766KPjb3/7W/zxj3+MUaNGxRFHHFFmoHlNo61lbwxlecoz31UN/ZZ3+1dGuLh27dqx6667xq677hoXXHBBHH300TF06NAYPHjwCu+/JUuWxIUXXhj7779/qcspUtY2LU+fuDz97qXVq1dvtfWJl/X88urr8s5N1/ax7JEjR8bs2bOjbt26eeV/4403coGc8th7771jyZIl8dhjj0WPHj3i+eefj7/+9a9581zVergsK3KMLf55snjx4lxYuUaNGvHss89Go0aNokePHqt0wWfxshdXEeOGRe/p1atX9OrVK/74xz/GJZdcEhdddFGcffbZK3V8WNXPvvKMg5Vn3y+tVq1aq/X4oH2VblX6MCuz31l5//73v+Ptt9+O0047bZnTPP/887H99tvH8ccfn3tueUHn8njhhReiXbt2eRf6fvTRR6s8X1jTCE9RaRYtWhS33XZbXHXVVbHbbrvlvda/f/+44447onPnzvHSSy/lrs6LiNyVr8Udcsghcccdd0SbNm2iWrVq8T//8z+517p16xaTJ09ebierLLVq1YqIXwYZimvWrFnurhZFr7/zzjux0047lTm/iihTcc8//3wMHjw4fvvb30ZExPz582PmzJkrNI9lrePzzz8ff//732PPPfeMiIhPPvkkvvnmm7xp6tSpk/uC64QTTohNN9003n777ejWrVvUqFEjBg0aFKNGjYrCwsI46KCD8jqKS3v77bfj1VdfjQkTJuRdqTBnzpzo3bt3vPPOO7HxxhtHnTp1Yvz48XH00UeXe12K69ixY9SqVSv+85//xCGHHBIRv3T4Xn311Tj11FPL2FKrrjx1/8QTT1T/iylavzFjxuQ9P378+Bg+fHjujhuffvppTJ8+vdQr72rVqlVmnYj45QrJjz/+OD755JPclZPvvvtuzJ07Nzp37lzu8pZHkyZNolWrVvHDDz9ExC9XfYwfPz4uvPDC5b536623jsWLF8dXX30VvXr1WqnlN2jQINq3bx/jx48vdZ9169Ytvvjii6hRo0a0b99+pZZRli222CJuvfXWWLhwYamDEeXdX/fff3/eiezzzz8fBQUFceWVV0a/fv3iiCOOiE6dOsUf//jHXPuK+GX7jx8/Po444ohS512e5Xfu3Dn+85//5LXRF198cZXryogRI+KMM86IwYMH5z1/8sknx8iRI+Mvf/lLdOnSpcTxoLTjw6GHHhpnn312HHzwwTFjxozcVdoRv+zj+++/P9q3b79KYbKaNWuWenx455138p6bNGnScgeeKqpM63r7Wvpz5LPPPovdd9897rnnnjjvvPNi8eLF8fzzz8fmm29eaj0vqt9l1fOi9lW8nr/44ovRoEGDePfdd6Nz584xf/78FS57EfV81ctU5Pnnn4999903dxevJUuWxHvvvbfCx6LS1rE8fcwaNWrELrvsErvssksMHTo0GjduHP/+979zg2NHH310XH311fHZZ5/FLrvskndngvIoKCiITTfdNF588cWI+KU9//Of/4zZs2cv9+5TLVq0iA022CA++OCDOPTQQ1doucWVdQzp0qVLFBYWxscff7xKV8KXtey1qX9TXHn6vJtttlmlLb+48gzilXdb3nrrrfHDDz/kBoZfeOGFqFat2irduaMsFXGut7KOPvroOOigg6JNmzax0UYblbhyHuMaxjVWbj0r48uK8jjssMPirLPOiuuuuy4mT54cgwYNWi3LrQjamjGUqlLRx7pV0aVLl9w+Xd7+W1q3bt1i2rRpq7QeZY3jVFS/e1k233zzWLJkSTz77LOxyy67lHi9PGPBXbp0iUWLFsXLL78c22+/fUREfPvttzF9+vRVqq9r+1j2t99+Gw899FDcfffd0bVr19zzS5YsiV69esUTTzwRe+21V7Rq1Speeuml3B0LFy1aFK+99lp069Yt9546derE/vvvH3fccUe8//77sckmm0T37t1zr1dEPSzvMXbevHml3p1v8eLFeZ8nhx12WHTo0CEuuuii6N+/f/z3v/+NE088Mbbaaqt45pln4qijjlpmOapq3LA0RfX7p59+Wm57WVpFHOeWd55eEft+WbSvX6wJ7WtplbnfiViwYEF88cUXsXjx4vjyyy9j7NixMXz48Nhrr73yjjtL69ixY9x2223x5JNPxoYbbhi33357TJw4Me9uVSujY8eO8fHHH8fdd98dPXr0iMceeywefPDBVZonrIn8bB+V5tFHH43vvvsujjrqqNhss83y/g444IAYMWJEnHLKKTFy5MgYOXJkTJ8+PYYOHRqTJ08uMa9DDz00Xn/99bj00kvjgAMOyEstn3322fHf//43TjjhhJg0aVK899578fDDD8dJJ51U7rI2b9486tSpE2PHjo0vv/wy5s6dGxERO++8czz22GPx2GOPxdSpU+P444+POXPmLHd+FVGm4jp27BgPPPBATJo0Kd5888045JBDVvgKrmWtY8eOHeP222+PKVOmxMsvvxyHHnpoXpp/9OjRMWLEiHjnnXfigw8+iNtvvz3q1KkT7dq1y01z9NFHx7///e944oknlntr+xEjRsS2224bvXv3zqsTO+64Y/Ts2TNGjBgRtWvXjrPPPjvOOuus3E+ivPTSSzFixIgy16W4evXqxXHHHRdnnnlmjB07Nt59990YMmRI/Pjjj8s8Kaoo5an7EaH+FzNixIg44IADSmyvI488MubMmROPPfZY9OnTJ3r37h39+/ePp556Kj788MN44oknYuzYsRHxy+3c58+fH+PHj49vvvmm1FvD7rLLLrHFFlvktukrr7wShx9+ePTp02eVbsF+8803x3HHHRfjxo2LGTNmxOTJk+Pss8+OyZMnx9577x0REeecc05MnDgxjj/++Hjrrbdi6tSpceONN5YY1I+I2GSTTeLQQw+Nww8/PB544IH48MMPY+LEiXH55ZfH448/Xu5yDRs2LK666qq47rrr4r333ovXX389rr/++ty26NmzZ+y3337x5JNPxsyZM+PFF1+MP/3pT/Hqq6+u9LYocuKJJ8a8efPioIMOildffTXee++9uP3223M/IdC+fft46623Ytq0afHNN9+UejXL8ccfH5988kmcdNJJMXXq1HjooYfivPPOi2rVqsXRRx8dm222WdSrVy/WX3/9Eu1ryy23jLvuuiuGDh0aU6ZMibfffjuuuOKK3Lzbt28fzz33XHz22Wel7oOIX+7IMnr06Ljpppvivffei7/+9a/xwAMPxB/+8IeV3i6TJk2K119/PVf+4n8HH3xw3HbbbbFw4cI4+eSTY+zYsXHFFVfE9OnT429/+1uurhe3//77x7x58+K4446LnXbaKe8q7RNOOCFmz54dBx98cLzyyivxwQcfxLhx4+LII49c7gBQcUUhoS+++CJ3xffOO+8cr776atx2223x3nvvxdChQ0uETEqzMmXKYvta+nOkU6dOEfHLZ/YBBxwQn376acybNy+WLFkSd911V5x44olx2WWXxcMPPxxXXHFFrn01a9Ysnn766Zg5c2bMnj07bxlF7atRo0YxevToOO644+JPf/pT9OzZMx588EH1PFZvPS9Lx44d46mnnooXX3wxpkyZEsccc0x88cUXKzyf0tZxeX3MRx99NK677rqYNGlSfPTRR3HbbbfFkiVLcnUy4pd+ymeffRa33HLLcvuBkyZNin333Tfuu+++ePfdd+P999+PESNGxMiRI2PfffeNiF9+cqZly5ax3377xQsvvBAffPBB3H///fHf//631HkOGzYshg8fHtdee21Mnz493n777Rg1alTeFZrLU9YxpEGDBvGHP/whTjvttLj11ltjxowZ8cYbb8QNN9wQt956a7mXsSxrcv9mecrb510dig/izZgxI6677roSg3jt27ePDz/8MCZNmhTffPNN7ucQijv00EOjdu3aMWjQoHjnnXfimWeeiZNOOikGDhyY+1m8yij7qp7rrayiu3RdcsklywycZ51xDeMaK7Oer776ajz55JMxffr0OP/882PixIkrPb8V0aRJk9h///3jzDPPjN122y3atGmzWpZbEbS1bI2hrEkq+lhXHt9++23svPPO8a9//Sveeuut+PDDD+Pee++NK664ItcnXt7+W9oFF1wQt912WwwbNiwmT54cU6ZMiXvuuSf+9Kc/lbtcyxvHqYh+97K0b98+Bg0aFEceeWSMGTMmPvzww5gwYUL87//+b0REtGvXLgoKCuLRRx+Nr7/+utQLfTbeeOPYd999Y8iQIfGf//wn3nzzzTjssMNigw02yG3XlbG2j2Xffvvtsd5668Xvfve7vPJvscUWsddee+WNU1922WXx4IMPlnkMO/TQQ+Oxxx6LkSNH5i7wKVIR9XBZ+3rnnXeO22+/PZ5//vl45513YtCgQaXe9ezVV1/N+zy5/PLL45FHHon77rsv+vTpEzfccEPcc8890aZNmzVy3DAiom/fvnHzzTfHa6+9FjNnzozHH388zj333Nhpp52iYcOGy20vS6uI49zyztMrYt8vi/b1izWhfS2tMvc7EWPHjo1WrVpF+/btY/fdd49nnnkmrrvuunjooYfK3D/HHnts7L///jFgwIDYbrvt4ttvv827sGNl7bvvvnHaaaflAqgvvvhinH/++as8X1jTCE9RaUaMGBG77LJLNGrUqMRr/fv3j0mTJsXGG28cF1xwQZx99tnRvXv3+Oijj+K4444rMf3GG28cPXr0iLfeeqvE1S1bbLFFPPvss/Hee+9Fr169Yuutt47zzz9/uT+LUlyNGjXiuuuui5tvvjlat26dO6E68sgjY9CgQbmBgQ033HC5V4xVVJmKu/rqq6NJkyax/fbbx9577x39+vXLS6WvyjqOHDkyvvvuu9h6661j4MCBcfLJJ0fz5s1z72vcuHHccsstscMOO+Suyn/kkUdivfXWy02z8cYbx/bbbx+dOnUqcevm4n7++ef417/+tczb3/fv3z/+9a9/xc8//xznn39+nHHGGXHBBRdE586dY8CAAbnfZl7Wuiztsssui/79+8fAgQOjW7du8f7778eTTz5Z7p/MW1nlqfuvv/56DBgwQP2PX34b+8033yy1XjRo0CB222233InG/fffHz169IiDDz44unTpEmeddVbui+jtt98+jj322BgwYEA0a9Ys74S3SEFBQYwZMyaaNGkSvXv3jl122SU6dOgQ99xzT7m3V2m23XbbmD9/fhx77LHRtWvX6NOnT7z00ksxZsyY3F0qNtlkkxg3bly8+eabse2220bPnj3joYceWuZdSUaNGhWHH354nHHGGdGpU6fYZ5994uWXX16hO3oMGjQorrnmmvj73/8eXbt2jb322ivee++93LZ4/PHHo3fv3nHkkUfGJptsEgcddFDMnDmzQr4cXG+99eLf//53zJ8/P/r06RPdu3ePW265JXf14pAhQ6JTp06xzTbbRLNmzeKFF14oMY8NNtggHn/88XjllVdiyy23jGOPPTaaN28eu+22W5nta86cOdGyZcu499574+GHH46tttoqdt5557yfyrjoooti5syZsdFGG0WzZs1KXYf99tsvrr322rjyyiuja9eucfPNN8eoUaOib9++K71dRowYEV26dIlNN9201OXNnj07Hnnkkfj1r38d//znP+P666+PrbbaKsaNG1fqiWfDhg1j7733jjfffLPE8aF169bxwgsvxOLFi6Nfv36x2WabxSmnnBKNGjXK3bK8PK666qp46qmnom3btrH11ltHxC9ftp5//vlx1llnRY8ePeL7778v84qXVSlTFtvX8j5H3n777bjhhhuiTp06UaNGjbjxxhvj3HPPjSOOOCJefvnlXPt64403YuzYsSWuVov4v/b1zTffxJIlS+KWW26JuXPnxsyZM9XzKqjnZTn//POjW7du0a9fv+jbt29uwHJFlbaOy+tjNm7cOB544IHYeeedo3PnznHTTTfFXXfdlXdFZcOGDaN///5Rv3795ZarTZs20b59+7jwwgtju+22i27dusW1114bF154Ye6OQbVq1Ypx48ZF8+bNY88994zNN988LrvssmUODB199NHxz3/+M0aPHh2bb7559OnTJ0aPHr1CV9Qt7xhy8cUXxwUXXBDDhw+Pzp07R79+/eKRRx5Z5av2iqyp/ZvlKW+fd3UozyBe//79Y/fdd4+ddtopmjVrFnfddVeJ+dStWzeefPLJmD17dvTo0SMOOOCA+M1vfhN/+9vfKq3sFXGut7KqVasWgwcPjsWLF5fr+JZFxjWMa6yoyvqyoryOOuqo+Pnnn1cpAFYVtLVsjaGsSSr6WFce9evXj+222y6uvvrqXCDn/PPPjyFDhuT1Ocraf0vr169fPProo/HUU09Fjx494te//nX89a9/zQuJLs/yxnEqot9dlhtvvDEOOOCAOP7442PTTTeNIUOG5O42vcEGG8SFF14Yf/zjH6NFixZx4oknljqPUaNGRffu3WOvvfaKnj17RkopHn/88ZX+ebZ1YSx75MiR8dvf/rbUc9H+/fvHo48+Gl9++WWcccYZcfjhh8fgwYNzPztbdLfI4nbeeedo2rRpTJs2LXcHnyIVUQ+Xta/POeec6N27d+y1116x5557xn777RcbbbRRifc//fTTeZ8nxct02223xdSpU+Piiy+O3r17r5HjhkVlvvXWW2O33XaLzp07x0knnRT9+vXLC0eV1V6WVhHHueWdp1fEvi+L9rVmtK+lVfZ+z7LRo0dHSilSSrFw4cL46quv4qmnnoojjjgir76llEqMxRUWFsaoUaNizpw58d1338Xf//73GD58eEyaNClv/kvfwXTChAlxzTXX5D03c+bMvLuzXXHFFfHNN9/E999/H3fffXeceuqp5bpYANYmBWl5P+gMVIrRo0fH6NGjY8KECVVdlFWWUopNN900jjnmmDj99NPzXps5c2ZsuOGGy/3teLJlba//EyZMiMGDB6+2n1Rh7da3b98YPHhwiZ8vo3Ta19pJPV8x61o933XXXaNz585x3XXXlXitoKAgPvzww0r5iVhYU61Nfd0hQ4bEl19+GQ8//HBVF4W10NpU15dnXRnXuOOOO+KUU06Jzz//PPfTLKz91va2tq71fVm3rU3H/GVxDrZ2MZ6ydtG+ANZtpV+OD1BOX331Vdx+++3x2Wef+akHAIAMmT17dowbNy7+/e9/V+qdeYCKN3fu3Jg4cWLccccd8dBDD1V1caBKrQvjGj/++GN8+OGHMXz48DjmmGMEpwAAAGAFCU8Bq6RFixax/vrrxz/+8Y9K/zk8AADWHN26dYvvvvsuLr/88ujUqVNVFwdYAfvuu2+88sorccwxx8Suu+5a1cWBKrUujGtcccUVcemll0bv3r3jnHPOqeriAAAAwFpHeAqqyFZbbbVO3Ip1ebcwbty4cQwdOnQ1lYa1xdpe/9u3b5/3W89QlsGDB8dWW21V1cVYa2hfayf1fMWsK/W8PD+9MnTo0GjcuHGllwXWJGtDX3dt/ekn1ixrQ10vj3VhXGPYsGExbNiwqi4GlWRtb2vrSt+XbFgbjvnL4xxs7WI8Ze2ifQGs2wrS2vzjzQAAAAAAAAAAACupWlUXAAAAAAAAAAAAoCoITwEAAAAAAAAAAJkkPAUAAAAAAAAAAGSS8BQAAAAAAAAAAJBJwlMAAAAArHZffPFFnHLKKdGxY8eoXbt2tGjRInbccce46aab4scff6zq4gEAAACQETWqugAAAAAAZMsHH3wQO+ywQzRu3Dj+/Oc/x+abbx6LFi2K6dOnx8iRI6N169axzz77VMqyf/7556hVq1alzBsAAACAtY87TwEAAACwWh1//PFRo0aNePXVV+PAAw+Mzp07x+abbx79+/ePxx57LPbee++IiJg7d278/ve/j+bNm0fDhg1j5513jjfffDM3n2HDhsVWW20Vt99+e7Rv3z4aNWoUBx10UHz//fe5afr27RsnnnhinH766bH++uvHrrvuGhER7777buy5555Rv379aNGiRQwcODC++eab3Pvuu+++2HzzzaNOnTqx3nrrxS677BI//PDDatpCAAAAAKwuwlMAAAAArDbffvttjBs3Lk444YSoV69eqdMUFBRESin+53/+J7744ot4/PHH47XXXotu3brFb37zm5g9e3Zu2hkzZsSYMWPi0UcfjUcffTSeffbZuOyyy/Lmd+utt0aNGjXihRdeiJtvvjlmzZoVffr0ia222ipeffXVGDt2bHz55Zdx4IEHRkTErFmz4uCDD44jjzwypkyZEhMmTIj9998/UkqVt2EAAAAAqBJ+tg8AAACA1eb999+PlFJ06tQp7/n1118/fvrpp4iIOOGEE6Jfv37x9ttvx1dffRWFhYUREfGXv/wlxowZE/fdd1/8/ve/j4iIJUuWxOjRo6NBgwYRETFw4MAYP358XHrppbl5d+zYMa644orc4wsuuCC6desWf/7zn3PPjRw5Mtq2bRvTp0+P+fPnx6JFi2L//fePdu3aRUTE5ptvXglbAwAAAICqJjwF/P/27tglqy6OA/j3qhlBSKJgT4taLgkt4iKBS6k1CA0t4eZYaxBhS4vQIAhGf0FLi21BNiiBgqI4RToYEQ2R4CBKCPrY8PIGzysvvLyGCffzgQv3nHvvOb9z5i/3AAAAwIkriqKmvbS0lGq1mpGRkezt7WVlZSU7OztpaWmpee/Hjx/Z2Nj41e7o6PgVnEqSSqWS79+/13zT29tb015ZWcns7GzOnz9/pK6NjY0MDg7mxo0buXbtWoaGhjI4OJi7d++mubn5f68XAAAAgNNJeAoAAACAE9PV1ZWiKLK2tlbTf/ny5STJuXPnkvz1R6lKpZK5ubkjY1y4cOHX/ZkzZ2qeFUWRarVa0/fP4wGr1WqGh4fz7NmzI2NXKpXU19fn3bt3WVhYyMzMTKampjI2NpbFxcV0dnb+57UCAAAAcPrV/ekCAAAAACiPlpaWDAwM5Pnz59nd3f3X93p6evLt27c0NDSkq6ur5mptbT1WDT09Pfnw4UM6OjqOjP130Kooily/fj1Pnz7N6upqGhsb8/r162PNCwAAAMDpIzwFAAAAwIl68eJF9vf309vbm1evXuXjx49ZX1/Py5cvs7a2lvr6+ty8eTN9fX25c+dO3r59m8+fP2dhYSFPnjzJ8vLyseZ/8OBBtra2cu/evSwtLeXTp0+ZmZnJ6OhoDg4Osri4mPHx8SwvL+fLly+Znp7O5uZmrl69+pt2AAAAAIDTwrF9AAAAAJyoK1euZHV1NePj43n8+HG+fv2as2fPpru7Ow8fPsz9+/dTFEXevHmTsbGxjI6OZnNzMxcvXkx/f3/a2tqONf+lS5cyPz+fR48eZWhoKHt7e2lvb8+tW7dSV1eXpqamvH//PpOTk9ne3k57e3smJiZy+/bt37QDAAAAAJwWxeHh4eGfLgIAAAAAAAAAAOCkObYPAAAAAAAAAAAoJeEpAAAAAAAAAACglISnAAAAAAAAAACAUhKeAgAAAAAAAAAASkl4CgAAAAAAAAAAKCXhKQAAAAAAAAAAoJSEpwAAAAAAAAAAgFISngIAAAAAAAAAAEpJeAoAAAAAAAAAACgl4SkAAAAAAAAAAKCUhKcAAAAAAAAAAIBSEp4CAAAAAAAAAABK6SeRB57ItO3Y7QAAAABJRU5ErkJggg==\n",
      "text/plain": [
       "<Figure size 3000x1500 with 1 Axes>"
      ]
     },
     "metadata": {},
     "output_type": "display_data"
    }
   ],
   "source": [
    "#customize function for bar func \n",
    "\n",
    "def bar_chart(df_name,col1,col2,title,color):\n",
    "    plt.figure(figsize=(30, 15))\n",
    "    plt.bar(df_name[col1], df_name[col2], color=color)\n",
    "    plt.title(title)\n",
    "    plt.xlabel(col1)\n",
    "    plt.ylabel(col2)\n",
    "    plt.show()\n",
    "print(plt_genres_revenue.value_counts())    \n",
    "#recall bar_chart to visualize top 10 revenue categories based on genres\n",
    "bar_chart(plt_genres_revenue,'Genres','Total_Revenue','Total Revenue by Genre','skyblue')"
   ]
  },
  {
   "cell_type": "markdown",
   "id": "cc269340",
   "metadata": {},
   "source": [
    " ## What are the top 10 revenue categories based on genres??\n",
    "> #### Action                                              \n",
    "> #### Action|Adventure                                      \n",
    "> #### Action|Adventure|Animation                                    \n",
    "> #### Action|Adventure|Animation|Family                             \n",
    "> #### Action|Adventure|Animation|Family|Science Fiction     \n",
    "> #### War|Drama|History|Action                           \n",
    "> #### War|Drama|History|Thriller                                    \n",
    "> #### Western                                               \n",
    "> #### Western|Animation|Family|Comedy|Music                 \n",
    "> #### Western|Drama|Adventure|Thriller   \n",
    " "
   ]
  },
  {
   "cell_type": "code",
   "execution_count": 101,
   "id": "cca7cceb",
   "metadata": {},
   "outputs": [
    {
     "data": {
      "text/html": [
       "<div>\n",
       "<style scoped>\n",
       "    .dataframe tbody tr th:only-of-type {\n",
       "        vertical-align: middle;\n",
       "    }\n",
       "\n",
       "    .dataframe tbody tr th {\n",
       "        vertical-align: top;\n",
       "    }\n",
       "\n",
       "    .dataframe thead th {\n",
       "        text-align: right;\n",
       "    }\n",
       "</style>\n",
       "<table border=\"1\" class=\"dataframe\">\n",
       "  <thead>\n",
       "    <tr style=\"text-align: right;\">\n",
       "      <th></th>\n",
       "      <th>Genres</th>\n",
       "      <th>Total_Revenue</th>\n",
       "    </tr>\n",
       "  </thead>\n",
       "  <tbody>\n",
       "    <tr>\n",
       "      <th>192</th>\n",
       "      <td>Adventure|Fantasy|Action</td>\n",
       "      <td>7380147493</td>\n",
       "    </tr>\n",
       "  </tbody>\n",
       "</table>\n",
       "</div>"
      ],
      "text/plain": [
       "                       Genres  Total_Revenue\n",
       "192  Adventure|Fantasy|Action     7380147493"
      ]
     },
     "execution_count": 101,
     "metadata": {},
     "output_type": "execute_result"
    }
   ],
   "source": [
    "plt_genres_revenue.head(1)"
   ]
  },
  {
   "cell_type": "markdown",
   "id": "2d708015",
   "metadata": {},
   "source": [
    "## What are the top 10 movies in terms of revenue from ten years ago?\n",
    "> ## Adventure|Fantasy|Action"
   ]
  },
  {
   "cell_type": "markdown",
   "id": "ae3f5f0d",
   "metadata": {},
   "source": [
    "### What are the top 10 movies in terms of revenue from ten years ago?"
   ]
  },
  {
   "cell_type": "code",
   "execution_count": 102,
   "id": "d58724cb",
   "metadata": {},
   "outputs": [
    {
     "name": "stdout",
     "output_type": "stream",
     "text": [
      "<class 'pandas.core.frame.DataFrame'>\n",
      "Int64Index: 2413 entries, 0 to 10819\n",
      "Data columns (total 18 columns):\n",
      " #   Column                Non-Null Count  Dtype         \n",
      "---  ------                --------------  -----         \n",
      " 0   id                    2413 non-null   int64         \n",
      " 1   imdb_id               2413 non-null   object        \n",
      " 2   popularity            2413 non-null   float64       \n",
      " 3   budget                2413 non-null   int64         \n",
      " 4   revenue               2413 non-null   int64         \n",
      " 5   original_title        2413 non-null   object        \n",
      " 6   homepage              2413 non-null   object        \n",
      " 7   director              2413 non-null   object        \n",
      " 8   keywords              2413 non-null   object        \n",
      " 9   runtime               2413 non-null   int8          \n",
      " 10  genres                2413 non-null   category      \n",
      " 11  production_companies  2413 non-null   category      \n",
      " 12  release_date          2413 non-null   datetime64[ns]\n",
      " 13  vote_count            2413 non-null   int32         \n",
      " 14  vote_average          2413 non-null   float32       \n",
      " 15  release_year          2413 non-null   int64         \n",
      " 16  budget_adj            2413 non-null   float64       \n",
      " 17  revenue_adj           2413 non-null   float64       \n",
      "dtypes: category(2), datetime64[ns](1), float32(1), float64(3), int32(1), int64(4), int8(1), object(5)\n",
      "memory usage: 397.8+ KB\n"
     ]
    }
   ],
   "source": [
    "df.info()"
   ]
  },
  {
   "cell_type": "code",
   "execution_count": 103,
   "id": "3b361d8f",
   "metadata": {},
   "outputs": [
    {
     "data": {
      "text/html": [
       "<div>\n",
       "<style scoped>\n",
       "    .dataframe tbody tr th:only-of-type {\n",
       "        vertical-align: middle;\n",
       "    }\n",
       "\n",
       "    .dataframe tbody tr th {\n",
       "        vertical-align: top;\n",
       "    }\n",
       "\n",
       "    .dataframe thead th {\n",
       "        text-align: right;\n",
       "    }\n",
       "</style>\n",
       "<table border=\"1\" class=\"dataframe\">\n",
       "  <thead>\n",
       "    <tr style=\"text-align: right;\">\n",
       "      <th></th>\n",
       "      <th>id</th>\n",
       "      <th>imdb_id</th>\n",
       "      <th>release_year</th>\n",
       "      <th>original_title</th>\n",
       "      <th>revenue</th>\n",
       "    </tr>\n",
       "  </thead>\n",
       "  <tbody>\n",
       "    <tr>\n",
       "      <th>6190</th>\n",
       "      <td>674</td>\n",
       "      <td>tt0330373</td>\n",
       "      <td>2005</td>\n",
       "      <td>Harry Potter and the Goblet of Fire</td>\n",
       "      <td>895921036</td>\n",
       "    </tr>\n",
       "    <tr>\n",
       "      <th>6196</th>\n",
       "      <td>1895</td>\n",
       "      <td>tt0121766</td>\n",
       "      <td>2005</td>\n",
       "      <td>Star Wars: Episode III - Revenge of the Sith</td>\n",
       "      <td>850000000</td>\n",
       "    </tr>\n",
       "    <tr>\n",
       "      <th>6191</th>\n",
       "      <td>272</td>\n",
       "      <td>tt0372784</td>\n",
       "      <td>2005</td>\n",
       "      <td>Batman Begins</td>\n",
       "      <td>374218673</td>\n",
       "    </tr>\n",
       "    <tr>\n",
       "      <th>6208</th>\n",
       "      <td>9982</td>\n",
       "      <td>tt0371606</td>\n",
       "      <td>2005</td>\n",
       "      <td>Chicken Little</td>\n",
       "      <td>314432665</td>\n",
       "    </tr>\n",
       "    <tr>\n",
       "      <th>6201</th>\n",
       "      <td>561</td>\n",
       "      <td>tt0360486</td>\n",
       "      <td>2005</td>\n",
       "      <td>Constantine</td>\n",
       "      <td>230427240</td>\n",
       "    </tr>\n",
       "    <tr>\n",
       "      <th>6213</th>\n",
       "      <td>1495</td>\n",
       "      <td>tt0320661</td>\n",
       "      <td>2005</td>\n",
       "      <td>Kingdom of Heaven</td>\n",
       "      <td>211643158</td>\n",
       "    </tr>\n",
       "    <tr>\n",
       "      <th>6280</th>\n",
       "      <td>7552</td>\n",
       "      <td>tt0369441</td>\n",
       "      <td>2005</td>\n",
       "      <td>Fun with Dick and Jane</td>\n",
       "      <td>202026112</td>\n",
       "    </tr>\n",
       "    <tr>\n",
       "      <th>6232</th>\n",
       "      <td>533</td>\n",
       "      <td>tt0312004</td>\n",
       "      <td>2005</td>\n",
       "      <td>The Curse of the Were-Rabbit</td>\n",
       "      <td>192452832</td>\n",
       "    </tr>\n",
       "    <tr>\n",
       "      <th>6219</th>\n",
       "      <td>142</td>\n",
       "      <td>tt0388795</td>\n",
       "      <td>2005</td>\n",
       "      <td>Brokeback Mountain</td>\n",
       "      <td>178043761</td>\n",
       "    </tr>\n",
       "    <tr>\n",
       "      <th>6198</th>\n",
       "      <td>1635</td>\n",
       "      <td>tt0399201</td>\n",
       "      <td>2005</td>\n",
       "      <td>The Island</td>\n",
       "      <td>162949164</td>\n",
       "    </tr>\n",
       "  </tbody>\n",
       "</table>\n",
       "</div>"
      ],
      "text/plain": [
       "        id    imdb_id  release_year  \\\n",
       "6190   674  tt0330373          2005   \n",
       "6196  1895  tt0121766          2005   \n",
       "6191   272  tt0372784          2005   \n",
       "6208  9982  tt0371606          2005   \n",
       "6201   561  tt0360486          2005   \n",
       "6213  1495  tt0320661          2005   \n",
       "6280  7552  tt0369441          2005   \n",
       "6232   533  tt0312004          2005   \n",
       "6219   142  tt0388795          2005   \n",
       "6198  1635  tt0399201          2005   \n",
       "\n",
       "                                    original_title    revenue  \n",
       "6190           Harry Potter and the Goblet of Fire  895921036  \n",
       "6196  Star Wars: Episode III - Revenge of the Sith  850000000  \n",
       "6191                                 Batman Begins  374218673  \n",
       "6208                                Chicken Little  314432665  \n",
       "6201                                   Constantine  230427240  \n",
       "6213                             Kingdom of Heaven  211643158  \n",
       "6280                        Fun with Dick and Jane  202026112  \n",
       "6232                  The Curse of the Were-Rabbit  192452832  \n",
       "6219                            Brokeback Mountain  178043761  \n",
       "6198                                    The Island  162949164  "
      ]
     },
     "execution_count": 103,
     "metadata": {},
     "output_type": "execute_result"
    }
   ],
   "source": [
    "#target year in df.year columns befor ten years from now \n",
    "current_year=2015\n",
    "target_year=current_year-10\n",
    "df_ten_years_movies=df[df['release_year']==target_year]\n",
    "#make dataframe for id ,imdb_id,original_title and revenue\n",
    "selected_columns_of_ten_movies=df_ten_years_movies[['id','imdb_id','release_year','original_title','revenue']]\n",
    "df_ten_years_movies_result=selected_columns_of_ten_movies.sort_values(by='revenue',ascending=False).head(10) # sort_values => to get revenue from highest value\n",
    "df_ten_years_movies_result"
   ]
  },
  {
   "cell_type": "markdown",
   "id": "22b78757",
   "metadata": {},
   "source": [
    "## Frozen Movie was the highest revenue in 2013"
   ]
  },
  {
   "cell_type": "code",
   "execution_count": 104,
   "id": "5afa2386",
   "metadata": {},
   "outputs": [
    {
     "data": {
      "image/png": "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\n",
      "text/plain": [
       "<Figure size 3000x1500 with 1 Axes>"
      ]
     },
     "metadata": {},
     "output_type": "display_data"
    }
   ],
   "source": [
    "#we will recall bar_chart func to visualize the top ten movies revenue in 2005\n",
    "\n",
    "bar_chart(df_ten_years_movies_result,'original_title','revenue','Distribution of Revenue for Top 10 Movies from Ten Years Ago','blue')\n",
    "\n"
   ]
  },
  {
   "cell_type": "markdown",
   "id": "107d8afb",
   "metadata": {},
   "source": [
    "## How does the result from the previous question compare to the revenue of ?\n"
   ]
  },
  {
   "cell_type": "code",
   "execution_count": 105,
   "id": "8193c77e",
   "metadata": {
    "scrolled": true
   },
   "outputs": [
    {
     "data": {
      "text/html": [
       "<div>\n",
       "<style scoped>\n",
       "    .dataframe tbody tr th:only-of-type {\n",
       "        vertical-align: middle;\n",
       "    }\n",
       "\n",
       "    .dataframe tbody tr th {\n",
       "        vertical-align: top;\n",
       "    }\n",
       "\n",
       "    .dataframe thead th {\n",
       "        text-align: right;\n",
       "    }\n",
       "</style>\n",
       "<table border=\"1\" class=\"dataframe\">\n",
       "  <thead>\n",
       "    <tr style=\"text-align: right;\">\n",
       "      <th></th>\n",
       "      <th>id</th>\n",
       "      <th>imdb_id</th>\n",
       "      <th>release_year</th>\n",
       "      <th>original_title</th>\n",
       "      <th>revenue</th>\n",
       "    </tr>\n",
       "  </thead>\n",
       "  <tbody>\n",
       "    <tr>\n",
       "      <th>3</th>\n",
       "      <td>140607</td>\n",
       "      <td>tt2488496</td>\n",
       "      <td>2015</td>\n",
       "      <td>Star Wars: The Force Awakens</td>\n",
       "      <td>2068178225</td>\n",
       "    </tr>\n",
       "    <tr>\n",
       "      <th>0</th>\n",
       "      <td>135397</td>\n",
       "      <td>tt0369610</td>\n",
       "      <td>2015</td>\n",
       "      <td>Jurassic World</td>\n",
       "      <td>1513528810</td>\n",
       "    </tr>\n",
       "    <tr>\n",
       "      <th>4</th>\n",
       "      <td>168259</td>\n",
       "      <td>tt2820852</td>\n",
       "      <td>2015</td>\n",
       "      <td>Furious 7</td>\n",
       "      <td>1506249360</td>\n",
       "    </tr>\n",
       "    <tr>\n",
       "      <th>14</th>\n",
       "      <td>99861</td>\n",
       "      <td>tt2395427</td>\n",
       "      <td>2015</td>\n",
       "      <td>Avengers: Age of Ultron</td>\n",
       "      <td>1405035767</td>\n",
       "    </tr>\n",
       "    <tr>\n",
       "      <th>8</th>\n",
       "      <td>211672</td>\n",
       "      <td>tt2293640</td>\n",
       "      <td>2015</td>\n",
       "      <td>Minions</td>\n",
       "      <td>1156730962</td>\n",
       "    </tr>\n",
       "    <tr>\n",
       "      <th>10</th>\n",
       "      <td>206647</td>\n",
       "      <td>tt2379713</td>\n",
       "      <td>2015</td>\n",
       "      <td>Spectre</td>\n",
       "      <td>880674609</td>\n",
       "    </tr>\n",
       "    <tr>\n",
       "      <th>9</th>\n",
       "      <td>150540</td>\n",
       "      <td>tt2096673</td>\n",
       "      <td>2015</td>\n",
       "      <td>Inside Out</td>\n",
       "      <td>853708609</td>\n",
       "    </tr>\n",
       "    <tr>\n",
       "      <th>25</th>\n",
       "      <td>177677</td>\n",
       "      <td>tt2381249</td>\n",
       "      <td>2015</td>\n",
       "      <td>Mission: Impossible - Rogue Nation</td>\n",
       "      <td>682330139</td>\n",
       "    </tr>\n",
       "    <tr>\n",
       "      <th>19</th>\n",
       "      <td>131634</td>\n",
       "      <td>tt1951266</td>\n",
       "      <td>2015</td>\n",
       "      <td>The Hunger Games: Mockingjay - Part 2</td>\n",
       "      <td>650523427</td>\n",
       "    </tr>\n",
       "    <tr>\n",
       "      <th>7</th>\n",
       "      <td>286217</td>\n",
       "      <td>tt3659388</td>\n",
       "      <td>2015</td>\n",
       "      <td>The Martian</td>\n",
       "      <td>595380321</td>\n",
       "    </tr>\n",
       "  </tbody>\n",
       "</table>\n",
       "</div>"
      ],
      "text/plain": [
       "        id    imdb_id  release_year                         original_title  \\\n",
       "3   140607  tt2488496          2015           Star Wars: The Force Awakens   \n",
       "0   135397  tt0369610          2015                         Jurassic World   \n",
       "4   168259  tt2820852          2015                              Furious 7   \n",
       "14   99861  tt2395427          2015                Avengers: Age of Ultron   \n",
       "8   211672  tt2293640          2015                                Minions   \n",
       "10  206647  tt2379713          2015                                Spectre   \n",
       "9   150540  tt2096673          2015                             Inside Out   \n",
       "25  177677  tt2381249          2015     Mission: Impossible - Rogue Nation   \n",
       "19  131634  tt1951266          2015  The Hunger Games: Mockingjay - Part 2   \n",
       "7   286217  tt3659388          2015                            The Martian   \n",
       "\n",
       "       revenue  \n",
       "3   2068178225  \n",
       "0   1513528810  \n",
       "4   1506249360  \n",
       "14  1405035767  \n",
       "8   1156730962  \n",
       "10   880674609  \n",
       "9    853708609  \n",
       "25   682330139  \n",
       "19   650523427  \n",
       "7    595380321  "
      ]
     },
     "execution_count": 105,
     "metadata": {},
     "output_type": "execute_result"
    }
   ],
   "source": [
    "#we will repeat the last Question and do it for last year 2015 in datasets\n",
    "df_movies_2015=df[df['release_year']==2015]\n",
    "selected_columns_of_ten_movies_last_year=df_movies_2015[['id','imdb_id','release_year','original_title','revenue']]\n",
    "df_ten_years_movies_result_2015=selected_columns_of_ten_movies_last_year.sort_values(by='revenue',ascending=False).head(10)\n",
    "df_ten_years_movies_result_2015\n"
   ]
  },
  {
   "cell_type": "code",
   "execution_count": 106,
   "id": "a0526a38",
   "metadata": {},
   "outputs": [
    {
     "data": {
      "text/html": [
       "<div>\n",
       "<style scoped>\n",
       "    .dataframe tbody tr th:only-of-type {\n",
       "        vertical-align: middle;\n",
       "    }\n",
       "\n",
       "    .dataframe tbody tr th {\n",
       "        vertical-align: top;\n",
       "    }\n",
       "\n",
       "    .dataframe thead th {\n",
       "        text-align: right;\n",
       "    }\n",
       "</style>\n",
       "<table border=\"1\" class=\"dataframe\">\n",
       "  <thead>\n",
       "    <tr style=\"text-align: right;\">\n",
       "      <th></th>\n",
       "      <th>release_year</th>\n",
       "      <th>revenue</th>\n",
       "    </tr>\n",
       "  </thead>\n",
       "  <tbody>\n",
       "    <tr>\n",
       "      <th>0</th>\n",
       "      <td>2005</td>\n",
       "      <td>3612114641</td>\n",
       "    </tr>\n",
       "    <tr>\n",
       "      <th>1</th>\n",
       "      <td>2015</td>\n",
       "      <td>11312340229</td>\n",
       "    </tr>\n",
       "  </tbody>\n",
       "</table>\n",
       "</div>"
      ],
      "text/plain": [
       "   release_year      revenue\n",
       "0          2005   3612114641\n",
       "1          2015  11312340229"
      ]
     },
     "execution_count": 106,
     "metadata": {},
     "output_type": "execute_result"
    }
   ],
   "source": [
    "#we need to concat the two dataframe\n",
    "\n",
    "merged_df=pd.concat([df_ten_years_movies_result,df_ten_years_movies_result_2015])\n",
    "merged_df_sum=pd.DataFrame(merged_df.groupby('release_year')['revenue'].sum(),columns=['revenue']).reset_index()\n",
    "\n",
    "merged_df_sum"
   ]
  },
  {
   "cell_type": "code",
   "execution_count": 107,
   "id": "754c8269",
   "metadata": {},
   "outputs": [
    {
     "data": {
      "image/png": "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\n",
      "text/plain": [
       "<Figure size 3000x1500 with 1 Axes>"
      ]
     },
     "metadata": {},
     "output_type": "display_data"
    }
   ],
   "source": [
    "# now we will compare the 20 by recall chart_bar \n",
    "\n",
    "bar_chart(merged_df_sum,'release_year','revenue','chart To Compare revenue between 2005 VS 2015','skyblue')\n"
   ]
  },
  {
   "cell_type": "markdown",
   "id": "17c05655",
   "metadata": {},
   "source": [
    ">> #### An insightful observation is evident in the data, revealing a remarkable increase of over one billion dollars in total revenue for the top 10 movies in 2015. This substantial rise underscores the considerable success and financial impact of these films during that particular year "
   ]
  },
  {
   "cell_type": "markdown",
   "id": "7421d2e6",
   "metadata": {},
   "source": [
    "## How do budget and revenue compare over the last ten years?"
   ]
  },
  {
   "cell_type": "code",
   "execution_count": 108,
   "id": "90bb0593",
   "metadata": {},
   "outputs": [
    {
     "data": {
      "text/plain": [
       "Index(['budget', 'revenue'], dtype='object')"
      ]
     },
     "execution_count": 108,
     "metadata": {},
     "output_type": "execute_result"
    }
   ],
   "source": [
    "\n",
    "# Assuming you have already filtered the data for the last ten years\n",
    "\n",
    "\n",
    "merged_df_budget_revenue=df.groupby(by='release_year')[['budget','revenue']].sum()\n",
    "merged_df_budget_revenue\n",
    "merged_compare=merged_df_budget_revenue.sort_values(by='release_year',ascending=False).head(10)\n",
    "merged_compare.columns\n",
    "\n"
   ]
  },
  {
   "cell_type": "code",
   "execution_count": 111,
   "id": "a7d33984",
   "metadata": {},
   "outputs": [
    {
     "data": {
      "image/png": "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\n",
      "text/plain": [
       "<Figure size 640x480 with 1 Axes>"
      ]
     },
     "metadata": {},
     "output_type": "display_data"
    }
   ],
   "source": [
    "#blot revenue over ten years 2005-2015 and visualize bivariate data\n",
    "plt.bar(merged_compare.index,merged_compare['budget'], edgecolor='blue',alpha=0.7);\n",
    "plt.bar(merged_compare.index,merged_compare['revenue'], edgecolor='skyblue',alpha=0.7);\n",
    "plt.title('chart To Compare revenue between 2005 To 2015');\n",
    "plt.xlabel('release_year');\n",
    "plt.ylabel('revenue');\n",
    "\n",
    "plt.show();"
   ]
  },
  {
   "cell_type": "code",
   "execution_count": null,
   "id": "f0e542ca",
   "metadata": {},
   "outputs": [],
   "source": []
  },
  {
   "cell_type": "markdown",
   "id": "928e413c",
   "metadata": {},
   "source": [
    ">> #### The observed upward trend in revenue from 2005 to 2015 highlights a substantial increase. Unlike revenue, which depicts a positive trajectory, the budget appears to be independent of costs and not directly related to revenue.\n",
    "\n",
    ">> #### A closer examination of the budget data for 2014 and 2013 reveals an interesting pattern. The budget in 2013 is higher than that in 2014, indicating fluctuations in investment decisions over these two years.\n",
    "\n",
    ">> #### It's noteworthy that the budget represents only a quarter of the revenue, suggesting that movies' investments have proven to be sound choices. This further emphasizes the profitability and success of these cinematic ventures."
   ]
  },
  {
   "cell_type": "markdown",
   "id": "adcc5810",
   "metadata": {},
   "source": [
    "## Is there any correlation between vote_count and budget_ads, reflecting people's satisfaction?"
   ]
  },
  {
   "cell_type": "code",
   "execution_count": null,
   "id": "266fa08e",
   "metadata": {},
   "outputs": [],
<<<<<<< HEAD
   "source": [
    "\n",
    "\n",
    "\n",
    "\n",
    "\n",
    "# Scatter plot\n",
    "scatter_chart('budget_adj','revenue_adj','Scatter Plot of budget_adj vs. revenue_adj')\n",
    "\n",
    "# Insert interpretation\n",
    "correlation = 0.6816177552284475\n",
    "difference_magnitude = 84162243.91391516\n",
    "\n",
    "# Scatter plot interpretation\n",
    "if correlation > 0:\n",
    "    interpretation = f\"The positive correlation of {correlation:.2f} suggests a generally favorable relationship, where higher investments tend to yield higher returns.\"\n",
    "elif correlation < 0:\n",
    "    interpretation = f\"The negative correlation of {correlation:.2f} indicates a potentially challenging dynamic, where higher investments may not necessarily lead to higher returns.\"\n",
    "else:\n",
    "    interpretation = \"There is no significant correlation between `budget_adj` and `revenue_adj`.\"\n",
    "\n",
    "# Magnitude of the difference interpretation\n",
    "magnitude_interpretation = f\"The magnitude of the difference between `budget_adj` and `revenue_adj` averages at {difference_magnitude:.2f}, highlighting the financial dynamics between budget and revenue.\"\n",
    "\n",
    "# Print the interpretations\n",
    "print(interpretation)\n",
    "print(magnitude_interpretation)\n"
   ]
  },
  {
   "cell_type": "markdown",
   "id": "cd98306e",
   "metadata": {},
   "source": [
    "#### After analyzing the data, we found a positive correlation of approximately 0.68 between budget_adj and revenue_adj, suggesting a generally favorable relationship. This implies that, on average, higher investments in movies tend to correspond with higher returns. Additionally, the magnitude of the difference between budget_adj and revenue_adj averages at approximately $84.16 million, highlighting the financial dynamics between budget and revenue. These insights provide valuable information for decision-making in budget planning and revenue forecasting within the context of the analyzed dataset."
   ]
  },
  {
   "cell_type": "markdown",
   "id": "5ce3063d",
   "metadata": {},
   "source": [
    "# Conclusion\n",
    "#### In conclusion, the primary objective of this project was to identify trends and patterns between movie budgets, revenues, advertising strategies, and genres. Through a comprehensive analysis of the provided dataset, we have uncovered several key insights that contribute to a deeper understanding of the relationships among these variables in the movie industry.\n",
    "\n",
    "## Key Findings:\n",
    "\n",
    "### Revenue:\n",
    "#### The observed upward trend in revenue from 2005 to 2015 highlights a substantial increase\n",
    "\n",
    "### budget ads: \n",
    "#### higher investments in movies tend to correspond with higher returns\n",
    "\n",
    "### profitable movies:\n",
    "#### the genre Adventure|Fantasy|Action is the higher revenue from others \tin 2005 and 2015\n",
    "\n",
    "\n",
    "\n",
    "## Limitations:\n",
    "#### while our analysis provides valuable insights, it is crucial to acknowledge certain limitations that may impact the interpretation of the results. These limitations include:\n",
    "\n",
    "1. **Data Quality:**\n",
    "   - The dataset used for this analysis contain a lot of  missing or inaccurate data. Incomplete or erroneous information could affect the accuracy of our findings.\n",
    "\n",
    "2. **Scope and Context:**\n",
    "   - Our analysis is based on a specific time period (2005-2015) and may not capture broader trends or changes over time. The findings may not be generalizable beyond the specified timeframe.\n",
    "\n",
    "3. **Genre Categorization:**\n",
    "   - The categorization of genres is subjective and may vary across different sources. The dataset relies on provided genre labels, which might not fully capture the complexity of movie genres.\n",
    "\n",
    "4. **External Factors:**\n",
    "   - External factors such as economic conditions, cultural trends, or major industry events are not explicitly considered in our analysis. These factors could have influenced movie performance.\n",
    "   \n",
    "   \n",
    "## Recommendations\n",
    "\n",
    "In light of the key findings and limitations, we propose the following recommendations for decision-makers and future analyses:\n",
    "\n",
    "1. **Data Quality Enhancement:**\n",
    "   - Improve data quality through rigorous validation and cleaning processes to ensure more accurate analyses.\n",
    "\n",
    "2. **Advertising Strategy Optimization:**\n",
    "   - Further investigate and optimize advertising strategies to maximize their impact on movie revenues.\n",
    "\n",
    "3. **Genre-Based Decision Support:**\n",
    "   - Utilize genre-specific insights to inform decision-making processes related to movie production and distribution.\n",
    "\n",
    "\n",
    "\n",
    "\n",
    "\n",
    "\n",
    "\n",
    "\n"
   ]
=======
   "source": []
>>>>>>> c80783df9a01ec299e7d3275f4c1b4676de3a744
>>>>>>> 4079c0ad63675620bce988b983472ebd33a1b993
  }
 ],
 "metadata": {
  "kernelspec": {
   "display_name": "Python 3 (ipykernel)",
   "language": "python",
   "name": "python3"
  },
  "language_info": {
   "codemirror_mode": {
    "name": "ipython",
    "version": 3
   },
   "file_extension": ".py",
   "mimetype": "text/x-python",
   "name": "python",
   "nbconvert_exporter": "python",
   "pygments_lexer": "ipython3",
   "version": "3.9.13"
  }
 },
 "nbformat": 4,
 "nbformat_minor": 5
}
