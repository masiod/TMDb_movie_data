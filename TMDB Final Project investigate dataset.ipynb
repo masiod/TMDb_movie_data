{
 "cells": [
  {
   "cell_type": "markdown",
   "id": "5cc3a1c7",
   "metadata": {},
   "source": [
    "## Gathering Data form External CSV File "
   ]
  },
  {
   "cell_type": "code",
   "execution_count": 244,
   "id": "d3602d3b",
   "metadata": {},
   "outputs": [],
   "source": [
    "#import libraries and load dataset\n",
    "\n",
    "import pandas as pd\n",
    "import numpy as np\n",
    "%matplotlib inline\n",
    "import matplotlib.pylab as plt\n",
    "import seaborn as sns\n",
    "\n",
    "df=pd.read_csv('./tmdb-movies.csv')\n",
    "\n",
    "    "
   ]
  },
  {
   "cell_type": "markdown",
   "id": "187f30a2",
   "metadata": {},
   "source": [
    "# Define Question\n",
    ">> #### Is there any correlation between budget and revenue?\n",
    "\n",
    ">> #### What are the top 10 revenue categories based on genres?\n",
    "\n",
    ">> #### What are the top 10 movies in terms of revenue from ten years ago?\n",
    "\n",
    ">> #### How does the result from the previous question compare to the revenue of the same movies in the last year?\n",
    "\n",
    ">> #### How do budget and revenue compare over the last ten years?\n",
    "\n",
    ">> #### Is there any correlation between vote_count and budget_ads, reflecting people's satisfaction?\n",
    "\n",
    ">> #### Is there any correlation between budget_adj and revenue_adj, and what is the magnitude of the difference?\n",
    "\n"
   ]
  },
  {
   "cell_type": "code",
   "execution_count": 245,
   "id": "7882ca87",
   "metadata": {},
   "outputs": [
    {
     "data": {
      "text/html": [
       "<div>\n",
       "<style scoped>\n",
       "    .dataframe tbody tr th:only-of-type {\n",
       "        vertical-align: middle;\n",
       "    }\n",
       "\n",
       "    .dataframe tbody tr th {\n",
       "        vertical-align: top;\n",
       "    }\n",
       "\n",
       "    .dataframe thead th {\n",
       "        text-align: right;\n",
       "    }\n",
       "</style>\n",
       "<table border=\"1\" class=\"dataframe\">\n",
       "  <thead>\n",
       "    <tr style=\"text-align: right;\">\n",
       "      <th></th>\n",
       "      <th>id</th>\n",
       "      <th>imdb_id</th>\n",
       "      <th>popularity</th>\n",
       "      <th>budget</th>\n",
       "      <th>revenue</th>\n",
       "      <th>original_title</th>\n",
       "      <th>cast</th>\n",
       "      <th>homepage</th>\n",
       "      <th>director</th>\n",
       "      <th>tagline</th>\n",
       "      <th>...</th>\n",
       "      <th>overview</th>\n",
       "      <th>runtime</th>\n",
       "      <th>genres</th>\n",
       "      <th>production_companies</th>\n",
       "      <th>release_date</th>\n",
       "      <th>vote_count</th>\n",
       "      <th>vote_average</th>\n",
       "      <th>release_year</th>\n",
       "      <th>budget_adj</th>\n",
       "      <th>revenue_adj</th>\n",
       "    </tr>\n",
       "  </thead>\n",
       "  <tbody>\n",
       "    <tr>\n",
       "      <th>0</th>\n",
       "      <td>135397</td>\n",
       "      <td>tt0369610</td>\n",
       "      <td>32.985763</td>\n",
       "      <td>150000000</td>\n",
       "      <td>1513528810</td>\n",
       "      <td>Jurassic World</td>\n",
       "      <td>Chris Pratt|Bryce Dallas Howard|Irrfan Khan|Vi...</td>\n",
       "      <td>http://www.jurassicworld.com/</td>\n",
       "      <td>Colin Trevorrow</td>\n",
       "      <td>The park is open.</td>\n",
       "      <td>...</td>\n",
       "      <td>Twenty-two years after the events of Jurassic ...</td>\n",
       "      <td>124</td>\n",
       "      <td>Action|Adventure|Science Fiction|Thriller</td>\n",
       "      <td>Universal Studios|Amblin Entertainment|Legenda...</td>\n",
       "      <td>6/9/15</td>\n",
       "      <td>5562</td>\n",
       "      <td>6.5</td>\n",
       "      <td>2015</td>\n",
       "      <td>1.379999e+08</td>\n",
       "      <td>1.392446e+09</td>\n",
       "    </tr>\n",
       "    <tr>\n",
       "      <th>1</th>\n",
       "      <td>76341</td>\n",
       "      <td>tt1392190</td>\n",
       "      <td>28.419936</td>\n",
       "      <td>150000000</td>\n",
       "      <td>378436354</td>\n",
       "      <td>Mad Max: Fury Road</td>\n",
       "      <td>Tom Hardy|Charlize Theron|Hugh Keays-Byrne|Nic...</td>\n",
       "      <td>http://www.madmaxmovie.com/</td>\n",
       "      <td>George Miller</td>\n",
       "      <td>What a Lovely Day.</td>\n",
       "      <td>...</td>\n",
       "      <td>An apocalyptic story set in the furthest reach...</td>\n",
       "      <td>120</td>\n",
       "      <td>Action|Adventure|Science Fiction|Thriller</td>\n",
       "      <td>Village Roadshow Pictures|Kennedy Miller Produ...</td>\n",
       "      <td>5/13/15</td>\n",
       "      <td>6185</td>\n",
       "      <td>7.1</td>\n",
       "      <td>2015</td>\n",
       "      <td>1.379999e+08</td>\n",
       "      <td>3.481613e+08</td>\n",
       "    </tr>\n",
       "    <tr>\n",
       "      <th>2</th>\n",
       "      <td>262500</td>\n",
       "      <td>tt2908446</td>\n",
       "      <td>13.112507</td>\n",
       "      <td>110000000</td>\n",
       "      <td>295238201</td>\n",
       "      <td>Insurgent</td>\n",
       "      <td>Shailene Woodley|Theo James|Kate Winslet|Ansel...</td>\n",
       "      <td>http://www.thedivergentseries.movie/#insurgent</td>\n",
       "      <td>Robert Schwentke</td>\n",
       "      <td>One Choice Can Destroy You</td>\n",
       "      <td>...</td>\n",
       "      <td>Beatrice Prior must confront her inner demons ...</td>\n",
       "      <td>119</td>\n",
       "      <td>Adventure|Science Fiction|Thriller</td>\n",
       "      <td>Summit Entertainment|Mandeville Films|Red Wago...</td>\n",
       "      <td>3/18/15</td>\n",
       "      <td>2480</td>\n",
       "      <td>6.3</td>\n",
       "      <td>2015</td>\n",
       "      <td>1.012000e+08</td>\n",
       "      <td>2.716190e+08</td>\n",
       "    </tr>\n",
       "    <tr>\n",
       "      <th>3</th>\n",
       "      <td>140607</td>\n",
       "      <td>tt2488496</td>\n",
       "      <td>11.173104</td>\n",
       "      <td>200000000</td>\n",
       "      <td>2068178225</td>\n",
       "      <td>Star Wars: The Force Awakens</td>\n",
       "      <td>Harrison Ford|Mark Hamill|Carrie Fisher|Adam D...</td>\n",
       "      <td>http://www.starwars.com/films/star-wars-episod...</td>\n",
       "      <td>J.J. Abrams</td>\n",
       "      <td>Every generation has a story.</td>\n",
       "      <td>...</td>\n",
       "      <td>Thirty years after defeating the Galactic Empi...</td>\n",
       "      <td>136</td>\n",
       "      <td>Action|Adventure|Science Fiction|Fantasy</td>\n",
       "      <td>Lucasfilm|Truenorth Productions|Bad Robot</td>\n",
       "      <td>12/15/15</td>\n",
       "      <td>5292</td>\n",
       "      <td>7.5</td>\n",
       "      <td>2015</td>\n",
       "      <td>1.839999e+08</td>\n",
       "      <td>1.902723e+09</td>\n",
       "    </tr>\n",
       "    <tr>\n",
       "      <th>4</th>\n",
       "      <td>168259</td>\n",
       "      <td>tt2820852</td>\n",
       "      <td>9.335014</td>\n",
       "      <td>190000000</td>\n",
       "      <td>1506249360</td>\n",
       "      <td>Furious 7</td>\n",
       "      <td>Vin Diesel|Paul Walker|Jason Statham|Michelle ...</td>\n",
       "      <td>http://www.furious7.com/</td>\n",
       "      <td>James Wan</td>\n",
       "      <td>Vengeance Hits Home</td>\n",
       "      <td>...</td>\n",
       "      <td>Deckard Shaw seeks revenge against Dominic Tor...</td>\n",
       "      <td>137</td>\n",
       "      <td>Action|Crime|Thriller</td>\n",
       "      <td>Universal Pictures|Original Film|Media Rights ...</td>\n",
       "      <td>4/1/15</td>\n",
       "      <td>2947</td>\n",
       "      <td>7.3</td>\n",
       "      <td>2015</td>\n",
       "      <td>1.747999e+08</td>\n",
       "      <td>1.385749e+09</td>\n",
       "    </tr>\n",
       "  </tbody>\n",
       "</table>\n",
       "<p>5 rows × 21 columns</p>\n",
       "</div>"
      ],
      "text/plain": [
       "       id    imdb_id  popularity     budget     revenue  \\\n",
       "0  135397  tt0369610   32.985763  150000000  1513528810   \n",
       "1   76341  tt1392190   28.419936  150000000   378436354   \n",
       "2  262500  tt2908446   13.112507  110000000   295238201   \n",
       "3  140607  tt2488496   11.173104  200000000  2068178225   \n",
       "4  168259  tt2820852    9.335014  190000000  1506249360   \n",
       "\n",
       "                 original_title  \\\n",
       "0                Jurassic World   \n",
       "1            Mad Max: Fury Road   \n",
       "2                     Insurgent   \n",
       "3  Star Wars: The Force Awakens   \n",
       "4                     Furious 7   \n",
       "\n",
       "                                                cast  \\\n",
       "0  Chris Pratt|Bryce Dallas Howard|Irrfan Khan|Vi...   \n",
       "1  Tom Hardy|Charlize Theron|Hugh Keays-Byrne|Nic...   \n",
       "2  Shailene Woodley|Theo James|Kate Winslet|Ansel...   \n",
       "3  Harrison Ford|Mark Hamill|Carrie Fisher|Adam D...   \n",
       "4  Vin Diesel|Paul Walker|Jason Statham|Michelle ...   \n",
       "\n",
       "                                            homepage          director  \\\n",
       "0                      http://www.jurassicworld.com/   Colin Trevorrow   \n",
       "1                        http://www.madmaxmovie.com/     George Miller   \n",
       "2     http://www.thedivergentseries.movie/#insurgent  Robert Schwentke   \n",
       "3  http://www.starwars.com/films/star-wars-episod...       J.J. Abrams   \n",
       "4                           http://www.furious7.com/         James Wan   \n",
       "\n",
       "                         tagline  ...  \\\n",
       "0              The park is open.  ...   \n",
       "1             What a Lovely Day.  ...   \n",
       "2     One Choice Can Destroy You  ...   \n",
       "3  Every generation has a story.  ...   \n",
       "4            Vengeance Hits Home  ...   \n",
       "\n",
       "                                            overview runtime  \\\n",
       "0  Twenty-two years after the events of Jurassic ...     124   \n",
       "1  An apocalyptic story set in the furthest reach...     120   \n",
       "2  Beatrice Prior must confront her inner demons ...     119   \n",
       "3  Thirty years after defeating the Galactic Empi...     136   \n",
       "4  Deckard Shaw seeks revenge against Dominic Tor...     137   \n",
       "\n",
       "                                      genres  \\\n",
       "0  Action|Adventure|Science Fiction|Thriller   \n",
       "1  Action|Adventure|Science Fiction|Thriller   \n",
       "2         Adventure|Science Fiction|Thriller   \n",
       "3   Action|Adventure|Science Fiction|Fantasy   \n",
       "4                      Action|Crime|Thriller   \n",
       "\n",
       "                                production_companies release_date vote_count  \\\n",
       "0  Universal Studios|Amblin Entertainment|Legenda...       6/9/15       5562   \n",
       "1  Village Roadshow Pictures|Kennedy Miller Produ...      5/13/15       6185   \n",
       "2  Summit Entertainment|Mandeville Films|Red Wago...      3/18/15       2480   \n",
       "3          Lucasfilm|Truenorth Productions|Bad Robot     12/15/15       5292   \n",
       "4  Universal Pictures|Original Film|Media Rights ...       4/1/15       2947   \n",
       "\n",
       "   vote_average  release_year    budget_adj   revenue_adj  \n",
       "0           6.5          2015  1.379999e+08  1.392446e+09  \n",
       "1           7.1          2015  1.379999e+08  3.481613e+08  \n",
       "2           6.3          2015  1.012000e+08  2.716190e+08  \n",
       "3           7.5          2015  1.839999e+08  1.902723e+09  \n",
       "4           7.3          2015  1.747999e+08  1.385749e+09  \n",
       "\n",
       "[5 rows x 21 columns]"
      ]
     },
     "execution_count": 245,
     "metadata": {},
     "output_type": "execute_result"
    }
   ],
   "source": [
    "df.head()"
   ]
  },
  {
   "cell_type": "markdown",
   "id": "669684e8",
   "metadata": {},
   "source": [
    "#  data Wrangling >  data Gathering >  data Assessting > data cleaning \n",
    "\n",
    "\n"
   ]
  },
  {
   "cell_type": "code",
   "execution_count": 246,
   "id": "41fc65b0",
   "metadata": {
    "scrolled": true
   },
   "outputs": [],
   "source": [
    "#deleted columns that's we don't need it \n",
    "df.drop(['cast','overview','tagline'],axis=1,inplace=True)"
   ]
  },
  {
   "cell_type": "code",
   "execution_count": 247,
   "id": "69d86762",
   "metadata": {},
   "outputs": [
    {
     "data": {
      "text/html": [
       "<div>\n",
       "<style scoped>\n",
       "    .dataframe tbody tr th:only-of-type {\n",
       "        vertical-align: middle;\n",
       "    }\n",
       "\n",
       "    .dataframe tbody tr th {\n",
       "        vertical-align: top;\n",
       "    }\n",
       "\n",
       "    .dataframe thead th {\n",
       "        text-align: right;\n",
       "    }\n",
       "</style>\n",
       "<table border=\"1\" class=\"dataframe\">\n",
       "  <thead>\n",
       "    <tr style=\"text-align: right;\">\n",
       "      <th></th>\n",
       "      <th>id</th>\n",
       "      <th>imdb_id</th>\n",
       "      <th>popularity</th>\n",
       "      <th>budget</th>\n",
       "      <th>revenue</th>\n",
       "      <th>original_title</th>\n",
       "      <th>homepage</th>\n",
       "      <th>director</th>\n",
       "      <th>keywords</th>\n",
       "      <th>runtime</th>\n",
       "      <th>genres</th>\n",
       "      <th>production_companies</th>\n",
       "      <th>release_date</th>\n",
       "      <th>vote_count</th>\n",
       "      <th>vote_average</th>\n",
       "      <th>release_year</th>\n",
       "      <th>budget_adj</th>\n",
       "      <th>revenue_adj</th>\n",
       "    </tr>\n",
       "  </thead>\n",
       "  <tbody>\n",
       "    <tr>\n",
       "      <th>0</th>\n",
       "      <td>135397</td>\n",
       "      <td>tt0369610</td>\n",
       "      <td>32.985763</td>\n",
       "      <td>150000000</td>\n",
       "      <td>1513528810</td>\n",
       "      <td>Jurassic World</td>\n",
       "      <td>http://www.jurassicworld.com/</td>\n",
       "      <td>Colin Trevorrow</td>\n",
       "      <td>monster|dna|tyrannosaurus rex|velociraptor|island</td>\n",
       "      <td>124</td>\n",
       "      <td>Action|Adventure|Science Fiction|Thriller</td>\n",
       "      <td>Universal Studios|Amblin Entertainment|Legenda...</td>\n",
       "      <td>6/9/15</td>\n",
       "      <td>5562</td>\n",
       "      <td>6.5</td>\n",
       "      <td>2015</td>\n",
       "      <td>1.379999e+08</td>\n",
       "      <td>1.392446e+09</td>\n",
       "    </tr>\n",
       "    <tr>\n",
       "      <th>1</th>\n",
       "      <td>76341</td>\n",
       "      <td>tt1392190</td>\n",
       "      <td>28.419936</td>\n",
       "      <td>150000000</td>\n",
       "      <td>378436354</td>\n",
       "      <td>Mad Max: Fury Road</td>\n",
       "      <td>http://www.madmaxmovie.com/</td>\n",
       "      <td>George Miller</td>\n",
       "      <td>future|chase|post-apocalyptic|dystopia|australia</td>\n",
       "      <td>120</td>\n",
       "      <td>Action|Adventure|Science Fiction|Thriller</td>\n",
       "      <td>Village Roadshow Pictures|Kennedy Miller Produ...</td>\n",
       "      <td>5/13/15</td>\n",
       "      <td>6185</td>\n",
       "      <td>7.1</td>\n",
       "      <td>2015</td>\n",
       "      <td>1.379999e+08</td>\n",
       "      <td>3.481613e+08</td>\n",
       "    </tr>\n",
       "    <tr>\n",
       "      <th>2</th>\n",
       "      <td>262500</td>\n",
       "      <td>tt2908446</td>\n",
       "      <td>13.112507</td>\n",
       "      <td>110000000</td>\n",
       "      <td>295238201</td>\n",
       "      <td>Insurgent</td>\n",
       "      <td>http://www.thedivergentseries.movie/#insurgent</td>\n",
       "      <td>Robert Schwentke</td>\n",
       "      <td>based on novel|revolution|dystopia|sequel|dyst...</td>\n",
       "      <td>119</td>\n",
       "      <td>Adventure|Science Fiction|Thriller</td>\n",
       "      <td>Summit Entertainment|Mandeville Films|Red Wago...</td>\n",
       "      <td>3/18/15</td>\n",
       "      <td>2480</td>\n",
       "      <td>6.3</td>\n",
       "      <td>2015</td>\n",
       "      <td>1.012000e+08</td>\n",
       "      <td>2.716190e+08</td>\n",
       "    </tr>\n",
       "    <tr>\n",
       "      <th>3</th>\n",
       "      <td>140607</td>\n",
       "      <td>tt2488496</td>\n",
       "      <td>11.173104</td>\n",
       "      <td>200000000</td>\n",
       "      <td>2068178225</td>\n",
       "      <td>Star Wars: The Force Awakens</td>\n",
       "      <td>http://www.starwars.com/films/star-wars-episod...</td>\n",
       "      <td>J.J. Abrams</td>\n",
       "      <td>android|spaceship|jedi|space opera|3d</td>\n",
       "      <td>136</td>\n",
       "      <td>Action|Adventure|Science Fiction|Fantasy</td>\n",
       "      <td>Lucasfilm|Truenorth Productions|Bad Robot</td>\n",
       "      <td>12/15/15</td>\n",
       "      <td>5292</td>\n",
       "      <td>7.5</td>\n",
       "      <td>2015</td>\n",
       "      <td>1.839999e+08</td>\n",
       "      <td>1.902723e+09</td>\n",
       "    </tr>\n",
       "    <tr>\n",
       "      <th>4</th>\n",
       "      <td>168259</td>\n",
       "      <td>tt2820852</td>\n",
       "      <td>9.335014</td>\n",
       "      <td>190000000</td>\n",
       "      <td>1506249360</td>\n",
       "      <td>Furious 7</td>\n",
       "      <td>http://www.furious7.com/</td>\n",
       "      <td>James Wan</td>\n",
       "      <td>car race|speed|revenge|suspense|car</td>\n",
       "      <td>137</td>\n",
       "      <td>Action|Crime|Thriller</td>\n",
       "      <td>Universal Pictures|Original Film|Media Rights ...</td>\n",
       "      <td>4/1/15</td>\n",
       "      <td>2947</td>\n",
       "      <td>7.3</td>\n",
       "      <td>2015</td>\n",
       "      <td>1.747999e+08</td>\n",
       "      <td>1.385749e+09</td>\n",
       "    </tr>\n",
       "  </tbody>\n",
       "</table>\n",
       "</div>"
      ],
      "text/plain": [
       "       id    imdb_id  popularity     budget     revenue  \\\n",
       "0  135397  tt0369610   32.985763  150000000  1513528810   \n",
       "1   76341  tt1392190   28.419936  150000000   378436354   \n",
       "2  262500  tt2908446   13.112507  110000000   295238201   \n",
       "3  140607  tt2488496   11.173104  200000000  2068178225   \n",
       "4  168259  tt2820852    9.335014  190000000  1506249360   \n",
       "\n",
       "                 original_title  \\\n",
       "0                Jurassic World   \n",
       "1            Mad Max: Fury Road   \n",
       "2                     Insurgent   \n",
       "3  Star Wars: The Force Awakens   \n",
       "4                     Furious 7   \n",
       "\n",
       "                                            homepage          director  \\\n",
       "0                      http://www.jurassicworld.com/   Colin Trevorrow   \n",
       "1                        http://www.madmaxmovie.com/     George Miller   \n",
       "2     http://www.thedivergentseries.movie/#insurgent  Robert Schwentke   \n",
       "3  http://www.starwars.com/films/star-wars-episod...       J.J. Abrams   \n",
       "4                           http://www.furious7.com/         James Wan   \n",
       "\n",
       "                                            keywords  runtime  \\\n",
       "0  monster|dna|tyrannosaurus rex|velociraptor|island      124   \n",
       "1   future|chase|post-apocalyptic|dystopia|australia      120   \n",
       "2  based on novel|revolution|dystopia|sequel|dyst...      119   \n",
       "3              android|spaceship|jedi|space opera|3d      136   \n",
       "4                car race|speed|revenge|suspense|car      137   \n",
       "\n",
       "                                      genres  \\\n",
       "0  Action|Adventure|Science Fiction|Thriller   \n",
       "1  Action|Adventure|Science Fiction|Thriller   \n",
       "2         Adventure|Science Fiction|Thriller   \n",
       "3   Action|Adventure|Science Fiction|Fantasy   \n",
       "4                      Action|Crime|Thriller   \n",
       "\n",
       "                                production_companies release_date  vote_count  \\\n",
       "0  Universal Studios|Amblin Entertainment|Legenda...       6/9/15        5562   \n",
       "1  Village Roadshow Pictures|Kennedy Miller Produ...      5/13/15        6185   \n",
       "2  Summit Entertainment|Mandeville Films|Red Wago...      3/18/15        2480   \n",
       "3          Lucasfilm|Truenorth Productions|Bad Robot     12/15/15        5292   \n",
       "4  Universal Pictures|Original Film|Media Rights ...       4/1/15        2947   \n",
       "\n",
       "   vote_average  release_year    budget_adj   revenue_adj  \n",
       "0           6.5          2015  1.379999e+08  1.392446e+09  \n",
       "1           7.1          2015  1.379999e+08  3.481613e+08  \n",
       "2           6.3          2015  1.012000e+08  2.716190e+08  \n",
       "3           7.5          2015  1.839999e+08  1.902723e+09  \n",
       "4           7.3          2015  1.747999e+08  1.385749e+09  "
      ]
     },
     "execution_count": 247,
     "metadata": {},
     "output_type": "execute_result"
    }
   ],
   "source": [
    "df.head()"
   ]
  },
  {
   "cell_type": "code",
   "execution_count": 248,
   "id": "7c14f660",
   "metadata": {},
   "outputs": [
    {
     "data": {
      "text/plain": [
       "(10866, 18)"
      ]
     },
     "execution_count": 248,
     "metadata": {},
     "output_type": "execute_result"
    }
   ],
   "source": [
    "#counts rows and columns \n",
    "df.shape"
   ]
  },
  {
   "cell_type": "code",
   "execution_count": 249,
   "id": "6b692e5a",
   "metadata": {},
   "outputs": [
    {
     "name": "stdout",
     "output_type": "stream",
     "text": [
      "<class 'pandas.core.frame.DataFrame'>\n",
      "RangeIndex: 10866 entries, 0 to 10865\n",
      "Data columns (total 18 columns):\n",
      " #   Column                Non-Null Count  Dtype  \n",
      "---  ------                --------------  -----  \n",
      " 0   id                    10866 non-null  int64  \n",
      " 1   imdb_id               10856 non-null  object \n",
      " 2   popularity            10866 non-null  float64\n",
      " 3   budget                10866 non-null  int64  \n",
      " 4   revenue               10866 non-null  int64  \n",
      " 5   original_title        10866 non-null  object \n",
      " 6   homepage              2936 non-null   object \n",
      " 7   director              10822 non-null  object \n",
      " 8   keywords              9373 non-null   object \n",
      " 9   runtime               10866 non-null  int64  \n",
      " 10  genres                10843 non-null  object \n",
      " 11  production_companies  9836 non-null   object \n",
      " 12  release_date          10866 non-null  object \n",
      " 13  vote_count            10866 non-null  int64  \n",
      " 14  vote_average          10866 non-null  float64\n",
      " 15  release_year          10866 non-null  int64  \n",
      " 16  budget_adj            10866 non-null  float64\n",
      " 17  revenue_adj           10866 non-null  float64\n",
      "dtypes: float64(4), int64(6), object(8)\n",
      "memory usage: 1.5+ MB\n"
     ]
    }
   ],
   "source": [
    "#info for check datatype incorrect and misssing data\n",
    "df.info()"
   ]
  },
  {
   "cell_type": "markdown",
   "id": "7d9af928",
   "metadata": {},
   "source": [
    "### data cleaning\n",
    "\n",
    "> * there is missing data in ['homepage','tagline','keywords','production_companies','genres','director','imdb_id']\n",
    " \n",
    "> * we have to optimize the dataset its 1.6+ MB like ['runtime','vote_count','vote_average']\n",
    " \n",
    "> * to more optimize dataset we have to change datatype of some column to category datatype like ['geners','production_companies']\n",
    " \n",
    "> * we have to change incorrect datatype like ['release_date']"
   ]
  },
  {
   "cell_type": "code",
   "execution_count": 250,
   "id": "c7df33d5",
   "metadata": {},
   "outputs": [
    {
     "data": {
      "text/plain": [
       "array(['http://www.jurassicworld.com/', 'http://www.madmaxmovie.com/',\n",
       "       'http://www.thedivergentseries.movie/#insurgent', ...,\n",
       "       'http://www.animalhouse.com/',\n",
       "       'http://www.mgm.com/#/our-titles/1092/The-Last-Waltz/',\n",
       "       'http://en.wikipedia.org/wiki/Hooper_(film)'], dtype=object)"
      ]
     },
     "execution_count": 250,
     "metadata": {},
     "output_type": "execute_result"
    }
   ],
   "source": [
    "df.homepage.unique()"
   ]
  },
  {
   "cell_type": "code",
   "execution_count": 251,
   "id": "848f011a",
   "metadata": {},
   "outputs": [
    {
     "data": {
      "text/plain": [
       "1"
      ]
     },
     "execution_count": 251,
     "metadata": {},
     "output_type": "execute_result"
    }
   ],
   "source": [
    "#first remove duplecates rows \n",
    "df.duplicated().sum()"
   ]
  },
  {
   "cell_type": "code",
   "execution_count": 252,
   "id": "3782f53d",
   "metadata": {},
   "outputs": [],
   "source": [
    "#remove duplicated data\n",
    "df.drop_duplicates(inplace=True)"
   ]
  },
  {
   "cell_type": "code",
   "execution_count": 253,
   "id": "d91fed07",
   "metadata": {},
   "outputs": [
    {
     "data": {
      "text/plain": [
       "0"
      ]
     },
     "execution_count": 253,
     "metadata": {},
     "output_type": "execute_result"
    }
   ],
   "source": [
    "#recheck if we removed duplecates rows \n",
    "df.duplicated().sum()"
   ]
  },
  {
   "cell_type": "code",
   "execution_count": 254,
   "id": "b24272ef",
   "metadata": {},
   "outputs": [],
   "source": [
    "#dealing with missing data  \n",
    "df.dropna(how='any',axis=0,inplace=True)"
   ]
  },
  {
   "cell_type": "code",
   "execution_count": 255,
   "id": "3cd11e29",
   "metadata": {},
   "outputs": [],
   "source": [
    "#change datatype for incorrct datatype columns and optimize dataset to reduce the size of dataset\n",
    "df['genres']= df['genres'].astype('category')\n",
    "df['production_companies']= df['production_companies'].astype('category')\n",
    "df['release_date'] = pd.to_datetime(df['release_date'])\n"
   ]
  },
  {
   "cell_type": "code",
   "execution_count": 256,
   "id": "55cfb1ec",
   "metadata": {},
   "outputs": [],
   "source": [
    "#optimize more column from int64 and float64\n",
    "df['runtime']= df['runtime'].astype('int8')\n",
    "df['vote_count']= df['vote_count'].astype('int32')\n",
    "df['vote_average']= df['vote_average'].astype('float32')\n"
   ]
  },
  {
   "cell_type": "markdown",
   "id": "13777499",
   "metadata": {},
   "source": [
    "df.info()"
   ]
  },
  {
   "cell_type": "markdown",
   "id": "54718d98",
   "metadata": {},
   "source": [
    "## Exploratory Data Analysis (EDA)\n"
   ]
  },
  {
   "cell_type": "code",
   "execution_count": 257,
   "id": "c4e3170a",
   "metadata": {},
   "outputs": [
    {
     "data": {
      "text/html": [
       "<div>\n",
       "<style scoped>\n",
       "    .dataframe tbody tr th:only-of-type {\n",
       "        vertical-align: middle;\n",
       "    }\n",
       "\n",
       "    .dataframe tbody tr th {\n",
       "        vertical-align: top;\n",
       "    }\n",
       "\n",
       "    .dataframe thead th {\n",
       "        text-align: right;\n",
       "    }\n",
       "</style>\n",
       "<table border=\"1\" class=\"dataframe\">\n",
       "  <thead>\n",
       "    <tr style=\"text-align: right;\">\n",
       "      <th></th>\n",
       "      <th>id</th>\n",
       "      <th>imdb_id</th>\n",
       "      <th>popularity</th>\n",
       "      <th>budget</th>\n",
       "      <th>revenue</th>\n",
       "      <th>original_title</th>\n",
       "      <th>homepage</th>\n",
       "      <th>director</th>\n",
       "      <th>keywords</th>\n",
       "      <th>runtime</th>\n",
       "      <th>genres</th>\n",
       "      <th>production_companies</th>\n",
       "      <th>release_date</th>\n",
       "      <th>vote_count</th>\n",
       "      <th>vote_average</th>\n",
       "      <th>release_year</th>\n",
       "      <th>budget_adj</th>\n",
       "      <th>revenue_adj</th>\n",
       "    </tr>\n",
       "  </thead>\n",
       "  <tbody>\n",
       "    <tr>\n",
       "      <th>0</th>\n",
       "      <td>135397</td>\n",
       "      <td>tt0369610</td>\n",
       "      <td>32.985763</td>\n",
       "      <td>150000000</td>\n",
       "      <td>1513528810</td>\n",
       "      <td>Jurassic World</td>\n",
       "      <td>http://www.jurassicworld.com/</td>\n",
       "      <td>Colin Trevorrow</td>\n",
       "      <td>monster|dna|tyrannosaurus rex|velociraptor|island</td>\n",
       "      <td>124</td>\n",
       "      <td>Action|Adventure|Science Fiction|Thriller</td>\n",
       "      <td>Universal Studios|Amblin Entertainment|Legenda...</td>\n",
       "      <td>2015-06-09</td>\n",
       "      <td>5562</td>\n",
       "      <td>6.5</td>\n",
       "      <td>2015</td>\n",
       "      <td>1.379999e+08</td>\n",
       "      <td>1.392446e+09</td>\n",
       "    </tr>\n",
       "    <tr>\n",
       "      <th>1</th>\n",
       "      <td>76341</td>\n",
       "      <td>tt1392190</td>\n",
       "      <td>28.419936</td>\n",
       "      <td>150000000</td>\n",
       "      <td>378436354</td>\n",
       "      <td>Mad Max: Fury Road</td>\n",
       "      <td>http://www.madmaxmovie.com/</td>\n",
       "      <td>George Miller</td>\n",
       "      <td>future|chase|post-apocalyptic|dystopia|australia</td>\n",
       "      <td>120</td>\n",
       "      <td>Action|Adventure|Science Fiction|Thriller</td>\n",
       "      <td>Village Roadshow Pictures|Kennedy Miller Produ...</td>\n",
       "      <td>2015-05-13</td>\n",
       "      <td>6185</td>\n",
       "      <td>7.1</td>\n",
       "      <td>2015</td>\n",
       "      <td>1.379999e+08</td>\n",
       "      <td>3.481613e+08</td>\n",
       "    </tr>\n",
       "    <tr>\n",
       "      <th>2</th>\n",
       "      <td>262500</td>\n",
       "      <td>tt2908446</td>\n",
       "      <td>13.112507</td>\n",
       "      <td>110000000</td>\n",
       "      <td>295238201</td>\n",
       "      <td>Insurgent</td>\n",
       "      <td>http://www.thedivergentseries.movie/#insurgent</td>\n",
       "      <td>Robert Schwentke</td>\n",
       "      <td>based on novel|revolution|dystopia|sequel|dyst...</td>\n",
       "      <td>119</td>\n",
       "      <td>Adventure|Science Fiction|Thriller</td>\n",
       "      <td>Summit Entertainment|Mandeville Films|Red Wago...</td>\n",
       "      <td>2015-03-18</td>\n",
       "      <td>2480</td>\n",
       "      <td>6.3</td>\n",
       "      <td>2015</td>\n",
       "      <td>1.012000e+08</td>\n",
       "      <td>2.716190e+08</td>\n",
       "    </tr>\n",
       "    <tr>\n",
       "      <th>3</th>\n",
       "      <td>140607</td>\n",
       "      <td>tt2488496</td>\n",
       "      <td>11.173104</td>\n",
       "      <td>200000000</td>\n",
       "      <td>2068178225</td>\n",
       "      <td>Star Wars: The Force Awakens</td>\n",
       "      <td>http://www.starwars.com/films/star-wars-episod...</td>\n",
       "      <td>J.J. Abrams</td>\n",
       "      <td>android|spaceship|jedi|space opera|3d</td>\n",
       "      <td>-120</td>\n",
       "      <td>Action|Adventure|Science Fiction|Fantasy</td>\n",
       "      <td>Lucasfilm|Truenorth Productions|Bad Robot</td>\n",
       "      <td>2015-12-15</td>\n",
       "      <td>5292</td>\n",
       "      <td>7.5</td>\n",
       "      <td>2015</td>\n",
       "      <td>1.839999e+08</td>\n",
       "      <td>1.902723e+09</td>\n",
       "    </tr>\n",
       "    <tr>\n",
       "      <th>4</th>\n",
       "      <td>168259</td>\n",
       "      <td>tt2820852</td>\n",
       "      <td>9.335014</td>\n",
       "      <td>190000000</td>\n",
       "      <td>1506249360</td>\n",
       "      <td>Furious 7</td>\n",
       "      <td>http://www.furious7.com/</td>\n",
       "      <td>James Wan</td>\n",
       "      <td>car race|speed|revenge|suspense|car</td>\n",
       "      <td>-119</td>\n",
       "      <td>Action|Crime|Thriller</td>\n",
       "      <td>Universal Pictures|Original Film|Media Rights ...</td>\n",
       "      <td>2015-04-01</td>\n",
       "      <td>2947</td>\n",
       "      <td>7.3</td>\n",
       "      <td>2015</td>\n",
       "      <td>1.747999e+08</td>\n",
       "      <td>1.385749e+09</td>\n",
       "    </tr>\n",
       "  </tbody>\n",
       "</table>\n",
       "</div>"
      ],
      "text/plain": [
       "       id    imdb_id  popularity     budget     revenue  \\\n",
       "0  135397  tt0369610   32.985763  150000000  1513528810   \n",
       "1   76341  tt1392190   28.419936  150000000   378436354   \n",
       "2  262500  tt2908446   13.112507  110000000   295238201   \n",
       "3  140607  tt2488496   11.173104  200000000  2068178225   \n",
       "4  168259  tt2820852    9.335014  190000000  1506249360   \n",
       "\n",
       "                 original_title  \\\n",
       "0                Jurassic World   \n",
       "1            Mad Max: Fury Road   \n",
       "2                     Insurgent   \n",
       "3  Star Wars: The Force Awakens   \n",
       "4                     Furious 7   \n",
       "\n",
       "                                            homepage          director  \\\n",
       "0                      http://www.jurassicworld.com/   Colin Trevorrow   \n",
       "1                        http://www.madmaxmovie.com/     George Miller   \n",
       "2     http://www.thedivergentseries.movie/#insurgent  Robert Schwentke   \n",
       "3  http://www.starwars.com/films/star-wars-episod...       J.J. Abrams   \n",
       "4                           http://www.furious7.com/         James Wan   \n",
       "\n",
       "                                            keywords  runtime  \\\n",
       "0  monster|dna|tyrannosaurus rex|velociraptor|island      124   \n",
       "1   future|chase|post-apocalyptic|dystopia|australia      120   \n",
       "2  based on novel|revolution|dystopia|sequel|dyst...      119   \n",
       "3              android|spaceship|jedi|space opera|3d     -120   \n",
       "4                car race|speed|revenge|suspense|car     -119   \n",
       "\n",
       "                                      genres  \\\n",
       "0  Action|Adventure|Science Fiction|Thriller   \n",
       "1  Action|Adventure|Science Fiction|Thriller   \n",
       "2         Adventure|Science Fiction|Thriller   \n",
       "3   Action|Adventure|Science Fiction|Fantasy   \n",
       "4                      Action|Crime|Thriller   \n",
       "\n",
       "                                production_companies release_date  vote_count  \\\n",
       "0  Universal Studios|Amblin Entertainment|Legenda...   2015-06-09        5562   \n",
       "1  Village Roadshow Pictures|Kennedy Miller Produ...   2015-05-13        6185   \n",
       "2  Summit Entertainment|Mandeville Films|Red Wago...   2015-03-18        2480   \n",
       "3          Lucasfilm|Truenorth Productions|Bad Robot   2015-12-15        5292   \n",
       "4  Universal Pictures|Original Film|Media Rights ...   2015-04-01        2947   \n",
       "\n",
       "   vote_average  release_year    budget_adj   revenue_adj  \n",
       "0           6.5          2015  1.379999e+08  1.392446e+09  \n",
       "1           7.1          2015  1.379999e+08  3.481613e+08  \n",
       "2           6.3          2015  1.012000e+08  2.716190e+08  \n",
       "3           7.5          2015  1.839999e+08  1.902723e+09  \n",
       "4           7.3          2015  1.747999e+08  1.385749e+09  "
      ]
     },
     "execution_count": 257,
     "metadata": {},
     "output_type": "execute_result"
    }
   ],
   "source": [
    "df.head()"
   ]
  },
  {
   "cell_type": "markdown",
   "id": "9c80a5e8",
   "metadata": {},
   "source": [
    "> ## Is there any correlation between budget and revenue?"
   ]
  },
  {
   "cell_type": "code",
   "execution_count": 258,
   "id": "9e41dcd1",
   "metadata": {},
   "outputs": [
    {
     "data": {
      "text/plain": [
       "0.7556517416104743"
      ]
     },
     "execution_count": 258,
     "metadata": {},
     "output_type": "execute_result"
    }
   ],
   "source": [
    "#calculate Correltion between budget and revenue \n",
    "correlation_matrix=df['budget'].corr(df['revenue'])\n",
    "correlation_matrix"
   ]
  },
  {
   "cell_type": "code",
   "execution_count": 259,
   "id": "4d030479",
   "metadata": {},
   "outputs": [
    {
     "data": {
      "image/png": "[encoded data removed]",
      "text/plain": [
       "<Figure size 1000x600 with 1 Axes>"
      ]
     },
     "metadata": {},
     "output_type": "display_data"
    }
   ],
   "source": [
    "#visualize the relationship between budget and revenue \n",
    "plt.figure(figsize=(10,6))\n",
    "plt.scatter(df['budget'],df['revenue'])\n",
    "plt.xlabel('budget')\n",
    "plt.ylabel('revenue')\n",
    "plt.title('Scatter Plot between budget and revenue')\n",
    "plt.show()"
   ]
  },
  {
   "cell_type": "code",
   "execution_count": 260,
   "id": "3fd18d94",
   "metadata": {},
   "outputs": [
    {
     "data": {
      "text/plain": [
       "\"There is a positive correlation of 0.76 between 'budget' and 'revenue'. This suggests that, on average, higher budget allocations are associated with higher revenue.\""
      ]
     },
     "execution_count": 260,
     "metadata": {},
     "output_type": "execute_result"
    }
   ],
   "source": [
    "\n",
    "\n",
    "# Calculate the correlation\n",
    "correlation_value = df['budget'].corr(df['revenue'])\n",
    "\n",
    "# Insert the conclusion based on the correlation\n",
    "if correlation_value > 0:\n",
    "    conclusion = f\"There is a positive correlation of {correlation_value:.2f} between 'budget' and 'revenue'. This suggests that, on average, higher budget allocations are associated with higher revenue.\"\n",
    "elif correlation_value < 0:\n",
    "    conclusion = f\"There is a negative correlation of {correlation_value:.2f} between 'budget' and 'revenue'. This suggests that, on average, higher budget allocations are associated with lower revenue.\"\n",
    "else:\n",
    "    conclusion = \"There is no significant correlation between 'budget' and 'revenue'. This suggests that the budget allocations and revenue are not strongly related.\"\n",
    "\n",
    "\n",
    "conclusion\n"
   ]
  },
  {
   "cell_type": "code",
   "execution_count": 261,
   "id": "0cad32a0",
   "metadata": {},
   "outputs": [
    {
     "data": {
      "image/png": "[encoded data removed]",
      "text/plain": [
       "<Figure size 640x480 with 1 Axes>"
      ]
     },
     "metadata": {},
     "output_type": "display_data"
    }
   ],
   "source": [
    "# Scatter plot\n",
    "plt.scatter(df['budget'], df['revenue'], alpha=0.5)\n",
    "plt.title('Scatter Plot of Budget vs. Revenue')\n",
    "plt.xlabel('Budget')\n",
    "plt.ylabel('Revenue')\n",
    "plt.grid(True)\n",
    "plt.show()"
   ]
  },
  {
   "cell_type": "markdown",
   "id": "74abd4cf",
   "metadata": {},
   "source": [
    "### answer Q1 : is there any correlation between budget and revenue?\n",
    ">> #### There is a positive correlation of 0.76 between 'budget' and 'revenue'. This suggests that, on average, higher budget allocations are associated with higher revenue."
   ]
  },
  {
   "cell_type": "markdown",
   "id": "5284883b",
   "metadata": {},
   "source": [
    "> ## What are the top 10 revenue categories based on genres?"
   ]
  },
  {
   "cell_type": "code",
   "execution_count": 262,
   "id": "71a39601",
   "metadata": {},
   "outputs": [
    {
     "data": {
      "text/html": [
       "<div>\n",
       "<style scoped>\n",
       "    .dataframe tbody tr th:only-of-type {\n",
       "        vertical-align: middle;\n",
       "    }\n",
       "\n",
       "    .dataframe tbody tr th {\n",
       "        vertical-align: top;\n",
       "    }\n",
       "\n",
       "    .dataframe thead th {\n",
       "        text-align: right;\n",
       "    }\n",
       "</style>\n",
       "<table border=\"1\" class=\"dataframe\">\n",
       "  <thead>\n",
       "    <tr style=\"text-align: right;\">\n",
       "      <th></th>\n",
       "      <th>genres</th>\n",
       "      <th>level_1</th>\n",
       "      <th>revenue</th>\n",
       "    </tr>\n",
       "  </thead>\n",
       "  <tbody>\n",
       "    <tr>\n",
       "      <th>0</th>\n",
       "      <td>Action</td>\n",
       "      <td>25</td>\n",
       "      <td>682330139</td>\n",
       "    </tr>\n",
       "    <tr>\n",
       "      <th>1</th>\n",
       "      <td>Action</td>\n",
       "      <td>1938</td>\n",
       "      <td>310669540</td>\n",
       "    </tr>\n",
       "    <tr>\n",
       "      <th>2</th>\n",
       "      <td>Action</td>\n",
       "      <td>6260</td>\n",
       "      <td>162944923</td>\n",
       "    </tr>\n",
       "    <tr>\n",
       "      <th>3</th>\n",
       "      <td>Action</td>\n",
       "      <td>1975</td>\n",
       "      <td>136000000</td>\n",
       "    </tr>\n",
       "    <tr>\n",
       "      <th>4</th>\n",
       "      <td>Action</td>\n",
       "      <td>1456</td>\n",
       "      <td>87784194</td>\n",
       "    </tr>\n",
       "    <tr>\n",
       "      <th>...</th>\n",
       "      <td>...</td>\n",
       "      <td>...</td>\n",
       "      <td>...</td>\n",
       "    </tr>\n",
       "    <tr>\n",
       "      <th>1660</th>\n",
       "      <td>War|Drama|History|Action</td>\n",
       "      <td>715</td>\n",
       "      <td>154984035</td>\n",
       "    </tr>\n",
       "    <tr>\n",
       "      <th>1661</th>\n",
       "      <td>War|Drama|History|Thriller</td>\n",
       "      <td>1563</td>\n",
       "      <td>0</td>\n",
       "    </tr>\n",
       "    <tr>\n",
       "      <th>1662</th>\n",
       "      <td>Western</td>\n",
       "      <td>7443</td>\n",
       "      <td>70016220</td>\n",
       "    </tr>\n",
       "    <tr>\n",
       "      <th>1663</th>\n",
       "      <td>Western|Animation|Family|Comedy|Music</td>\n",
       "      <td>7046</td>\n",
       "      <td>103951461</td>\n",
       "    </tr>\n",
       "    <tr>\n",
       "      <th>1664</th>\n",
       "      <td>Western|Drama|Adventure|Thriller</td>\n",
       "      <td>5</td>\n",
       "      <td>532950503</td>\n",
       "    </tr>\n",
       "  </tbody>\n",
       "</table>\n",
       "<p>1665 rows × 3 columns</p>\n",
       "</div>"
      ],
      "text/plain": [
       "                                     genres  level_1    revenue\n",
       "0                                    Action       25  682330139\n",
       "1                                    Action     1938  310669540\n",
       "2                                    Action     6260  162944923\n",
       "3                                    Action     1975  136000000\n",
       "4                                    Action     1456   87784194\n",
       "...                                     ...      ...        ...\n",
       "1660               War|Drama|History|Action      715  154984035\n",
       "1661             War|Drama|History|Thriller     1563          0\n",
       "1662                                Western     7443   70016220\n",
       "1663  Western|Animation|Family|Comedy|Music     7046  103951461\n",
       "1664       Western|Drama|Adventure|Thriller        5  532950503\n",
       "\n",
       "[1665 rows x 3 columns]"
      ]
     },
     "execution_count": 262,
     "metadata": {},
     "output_type": "execute_result"
    }
   ],
   "source": [
    "df_sorted_revenue=df.groupby('genres')['revenue'].nlargest(10).reset_index()\n",
    "df_sorted_revenue_d=pd.DataFrame(df_sorted_revenue)\n",
    "df_sorted_revenue_d\n"
   ]
  },
  {
   "cell_type": "code",
   "execution_count": 263,
   "id": "de3d2b46",
   "metadata": {
    "scrolled": true
   },
   "outputs": [
    {
     "data": {
      "text/plain": [
       "genres\n",
       "Action                                               1567297806\n",
       "Action|Adventure                                        7500000\n",
       "Action|Adventure|Animation                                    0\n",
       "Action|Adventure|Animation|Family                             0\n",
       "Action|Adventure|Animation|Family|Science Fiction     631442092\n",
       "                                                        ...    \n",
       "War|Drama|History|Action                              154984035\n",
       "War|Drama|History|Thriller                                    0\n",
       "Western                                                70016220\n",
       "Western|Animation|Family|Comedy|Music                 103951461\n",
       "Western|Drama|Adventure|Thriller                      532950503\n",
       "Name: revenue, Length: 774, dtype: int64"
      ]
     },
     "execution_count": 263,
     "metadata": {},
     "output_type": "execute_result"
    }
   ],
   "source": [
    "#now sum the value group by genres to find the highest revenue and use idxmax \n",
    "total_revenue_by_genre=df_sorted_revenue_d.groupby('genres')['revenue'].sum()\n",
    "total_revenue_by_genre"
   ]
  },
  {
   "cell_type": "code",
   "execution_count": 264,
   "id": "3a40543f",
   "metadata": {},
   "outputs": [
    {
     "data": {
      "text/html": [
       "<div>\n",
       "<style scoped>\n",
       "    .dataframe tbody tr th:only-of-type {\n",
       "        vertical-align: middle;\n",
       "    }\n",
       "\n",
       "    .dataframe tbody tr th {\n",
       "        vertical-align: top;\n",
       "    }\n",
       "\n",
       "    .dataframe thead th {\n",
       "        text-align: right;\n",
       "    }\n",
       "</style>\n",
       "<table border=\"1\" class=\"dataframe\">\n",
       "  <thead>\n",
       "    <tr style=\"text-align: right;\">\n",
       "      <th></th>\n",
       "      <th>Genres</th>\n",
       "      <th>Total_Revenue</th>\n",
       "    </tr>\n",
       "  </thead>\n",
       "  <tbody>\n",
       "    <tr>\n",
       "      <th>192</th>\n",
       "      <td>Adventure|Fantasy|Action</td>\n",
       "      <td>7380147493</td>\n",
       "    </tr>\n",
       "    <tr>\n",
       "      <th>143</th>\n",
       "      <td>Adventure|Action|Science Fiction</td>\n",
       "      <td>4839902747</td>\n",
       "    </tr>\n",
       "    <tr>\n",
       "      <th>33</th>\n",
       "      <td>Action|Adventure|Science Fiction</td>\n",
       "      <td>4657777088</td>\n",
       "    </tr>\n",
       "    <tr>\n",
       "      <th>29</th>\n",
       "      <td>Action|Adventure|Fantasy|Science Fiction</td>\n",
       "      <td>4474490465</td>\n",
       "    </tr>\n",
       "    <tr>\n",
       "      <th>244</th>\n",
       "      <td>Animation|Family</td>\n",
       "      <td>3981404005</td>\n",
       "    </tr>\n",
       "    <tr>\n",
       "      <th>204</th>\n",
       "      <td>Adventure|Fantasy|Family</td>\n",
       "      <td>3801753979</td>\n",
       "    </tr>\n",
       "    <tr>\n",
       "      <th>145</th>\n",
       "      <td>Adventure|Action|Thriller</td>\n",
       "      <td>3612469413</td>\n",
       "    </tr>\n",
       "    <tr>\n",
       "      <th>659</th>\n",
       "      <td>Science Fiction|Action|Adventure</td>\n",
       "      <td>3245494492</td>\n",
       "    </tr>\n",
       "    <tr>\n",
       "      <th>107</th>\n",
       "      <td>Action|Science Fiction|Adventure</td>\n",
       "      <td>3234256634</td>\n",
       "    </tr>\n",
       "    <tr>\n",
       "      <th>382</th>\n",
       "      <td>Drama</td>\n",
       "      <td>2993328535</td>\n",
       "    </tr>\n",
       "  </tbody>\n",
       "</table>\n",
       "</div>"
      ],
      "text/plain": [
       "                                       Genres  Total_Revenue\n",
       "192                  Adventure|Fantasy|Action     7380147493\n",
       "143          Adventure|Action|Science Fiction     4839902747\n",
       "33           Action|Adventure|Science Fiction     4657777088\n",
       "29   Action|Adventure|Fantasy|Science Fiction     4474490465\n",
       "244                          Animation|Family     3981404005\n",
       "204                  Adventure|Fantasy|Family     3801753979\n",
       "145                 Adventure|Action|Thriller     3612469413\n",
       "659          Science Fiction|Action|Adventure     3245494492\n",
       "107          Action|Science Fiction|Adventure     3234256634\n",
       "382                                     Drama     2993328535"
      ]
     },
     "execution_count": 264,
     "metadata": {},
     "output_type": "execute_result"
    }
   ],
   "source": [
    "#new dataframe to plot the date from series total_revenue_by_genres\n",
    "\n",
    "plt_total_revenue_by_genre=pd.DataFrame(total_revenue_by_genre).reset_index()\n",
    "plt_total_revenue_by_genre.columns=['Genres','Total_Revenue']\n",
    "plt_genres_revenue=plt_total_revenue_by_genre.sort_values(by='Total_Revenue',ascending=False).head(10)\n",
    "plt_genres_revenue\n"
   ]
  },
  {
   "cell_type": "code",
   "execution_count": 265,
   "id": "ebe4ad83",
   "metadata": {},
   "outputs": [
    {
     "name": "stdout",
     "output_type": "stream",
     "text": [
      "Genres                                    Total_Revenue\n",
      "Action|Adventure|Fantasy|Science Fiction  4474490465       1\n",
      "Action|Adventure|Science Fiction          4657777088       1\n",
      "Action|Science Fiction|Adventure          3234256634       1\n",
      "Adventure|Action|Science Fiction          4839902747       1\n",
      "Adventure|Action|Thriller                 3612469413       1\n",
      "Adventure|Fantasy|Action                  7380147493       1\n",
      "Adventure|Fantasy|Family                  3801753979       1\n",
      "Animation|Family                          3981404005       1\n",
      "Drama                                     2993328535       1\n",
      "Science Fiction|Action|Adventure          3245494492       1\n",
      "dtype: int64\n"
     ]
    },
    {
     "data": {
      "image/png": "[encoded data removed]",
      "text/plain": [
       "<Figure size 3000x1500 with 1 Axes>"
      ]
     },
     "metadata": {},
     "output_type": "display_data"
    }
   ],
   "source": [
    "print(plt_genres_revenue.value_counts())\n",
    "plt.figure(figsize=(30, 15))\n",
    "plt.bar(plt_genres_revenue['Genres'], plt_genres_revenue['Total_Revenue'], color='skyblue')\n",
    "plt.title('Total Revenue by Genre')\n",
    "plt.xlabel('Genres')\n",
    "plt.ylabel('Total_Revenue')\n",
    "plt.show()"
   ]
  },
  {
   "cell_type": "markdown",
   "id": "cc269340",
   "metadata": {},
   "source": [
    " ## What are the top 10 revenue categories based on genres??\n",
    "> #### Action                                              \n",
    "> #### Action|Adventure                                      \n",
    "> #### Action|Adventure|Animation                                    \n",
    "> #### Action|Adventure|Animation|Family                             \n",
    "> #### Action|Adventure|Animation|Family|Science Fiction     \n",
    "> #### War|Drama|History|Action                           \n",
    "> #### War|Drama|History|Thriller                                    \n",
    "> #### Western                                               \n",
    "> #### Western|Animation|Family|Comedy|Music                 \n",
    "> #### Western|Drama|Adventure|Thriller   \n",
    " "
   ]
  },
  {
   "cell_type": "code",
   "execution_count": 266,
   "id": "cca7cceb",
   "metadata": {},
   "outputs": [
    {
     "data": {
      "text/html": [
       "<div>\n",
       "<style scoped>\n",
       "    .dataframe tbody tr th:only-of-type {\n",
       "        vertical-align: middle;\n",
       "    }\n",
       "\n",
       "    .dataframe tbody tr th {\n",
       "        vertical-align: top;\n",
       "    }\n",
       "\n",
       "    .dataframe thead th {\n",
       "        text-align: right;\n",
       "    }\n",
       "</style>\n",
       "<table border=\"1\" class=\"dataframe\">\n",
       "  <thead>\n",
       "    <tr style=\"text-align: right;\">\n",
       "      <th></th>\n",
       "      <th>Genres</th>\n",
       "      <th>Total_Revenue</th>\n",
       "    </tr>\n",
       "  </thead>\n",
       "  <tbody>\n",
       "    <tr>\n",
       "      <th>192</th>\n",
       "      <td>Adventure|Fantasy|Action</td>\n",
       "      <td>7380147493</td>\n",
       "    </tr>\n",
       "  </tbody>\n",
       "</table>\n",
       "</div>"
      ],
      "text/plain": [
       "                       Genres  Total_Revenue\n",
       "192  Adventure|Fantasy|Action     7380147493"
      ]
     },
     "execution_count": 266,
     "metadata": {},
     "output_type": "execute_result"
    }
   ],
   "source": [
    "plt_genres_revenue.head(1)"
   ]
  },
  {
   "cell_type": "markdown",
   "id": "2d708015",
   "metadata": {},
   "source": [
    "## What are the top 10 movies in terms of revenue from ten years ago?\n",
    "> ## Adventure|Fantasy|Action"
   ]
  },
  {
   "cell_type": "markdown",
   "id": "ae3f5f0d",
   "metadata": {},
   "source": [
    "### What are the top 10 movies in terms of revenue from ten years ago?"
   ]
  },
  {
   "cell_type": "code",
   "execution_count": 267,
   "id": "d58724cb",
   "metadata": {},
   "outputs": [
    {
     "name": "stdout",
     "output_type": "stream",
     "text": [
      "<class 'pandas.core.frame.DataFrame'>\n",
      "Int64Index: 2413 entries, 0 to 10819\n",
      "Data columns (total 18 columns):\n",
      " #   Column                Non-Null Count  Dtype         \n",
      "---  ------                --------------  -----         \n",
      " 0   id                    2413 non-null   int64         \n",
      " 1   imdb_id               2413 non-null   object        \n",
      " 2   popularity            2413 non-null   float64       \n",
      " 3   budget                2413 non-null   int64         \n",
      " 4   revenue               2413 non-null   int64         \n",
      " 5   original_title        2413 non-null   object        \n",
      " 6   homepage              2413 non-null   object        \n",
      " 7   director              2413 non-null   object        \n",
      " 8   keywords              2413 non-null   object        \n",
      " 9   runtime               2413 non-null   int8          \n",
      " 10  genres                2413 non-null   category      \n",
      " 11  production_companies  2413 non-null   category      \n",
      " 12  release_date          2413 non-null   datetime64[ns]\n",
      " 13  vote_count            2413 non-null   int32         \n",
      " 14  vote_average          2413 non-null   float32       \n",
      " 15  release_year          2413 non-null   int64         \n",
      " 16  budget_adj            2413 non-null   float64       \n",
      " 17  revenue_adj           2413 non-null   float64       \n",
      "dtypes: category(2), datetime64[ns](1), float32(1), float64(3), int32(1), int64(4), int8(1), object(5)\n",
      "memory usage: 397.8+ KB\n"
     ]
    }
   ],
   "source": [
    "df.info()"
   ]
  },
  {
   "cell_type": "code",
   "execution_count": 268,
   "id": "3b361d8f",
   "metadata": {},
   "outputs": [
    {
     "data": {
      "text/html": [
       "<div>\n",
       "<style scoped>\n",
       "    .dataframe tbody tr th:only-of-type {\n",
       "        vertical-align: middle;\n",
       "    }\n",
       "\n",
       "    .dataframe tbody tr th {\n",
       "        vertical-align: top;\n",
       "    }\n",
       "\n",
       "    .dataframe thead th {\n",
       "        text-align: right;\n",
       "    }\n",
       "</style>\n",
       "<table border=\"1\" class=\"dataframe\">\n",
       "  <thead>\n",
       "    <tr style=\"text-align: right;\">\n",
       "      <th></th>\n",
       "      <th>id</th>\n",
       "      <th>imdb_id</th>\n",
       "      <th>release_year</th>\n",
       "      <th>original_title</th>\n",
       "      <th>revenue</th>\n",
       "    </tr>\n",
       "  </thead>\n",
       "  <tbody>\n",
       "    <tr>\n",
       "      <th>6190</th>\n",
       "      <td>674</td>\n",
       "      <td>tt0330373</td>\n",
       "      <td>2005</td>\n",
       "      <td>Harry Potter and the Goblet of Fire</td>\n",
       "      <td>895921036</td>\n",
       "    </tr>\n",
       "    <tr>\n",
       "      <th>6196</th>\n",
       "      <td>1895</td>\n",
       "      <td>tt0121766</td>\n",
       "      <td>2005</td>\n",
       "      <td>Star Wars: Episode III - Revenge of the Sith</td>\n",
       "      <td>850000000</td>\n",
       "    </tr>\n",
       "    <tr>\n",
       "      <th>6191</th>\n",
       "      <td>272</td>\n",
       "      <td>tt0372784</td>\n",
       "      <td>2005</td>\n",
       "      <td>Batman Begins</td>\n",
       "      <td>374218673</td>\n",
       "    </tr>\n",
       "    <tr>\n",
       "      <th>6208</th>\n",
       "      <td>9982</td>\n",
       "      <td>tt0371606</td>\n",
       "      <td>2005</td>\n",
       "      <td>Chicken Little</td>\n",
       "      <td>314432665</td>\n",
       "    </tr>\n",
       "    <tr>\n",
       "      <th>6201</th>\n",
       "      <td>561</td>\n",
       "      <td>tt0360486</td>\n",
       "      <td>2005</td>\n",
       "      <td>Constantine</td>\n",
       "      <td>230427240</td>\n",
       "    </tr>\n",
       "    <tr>\n",
       "      <th>6213</th>\n",
       "      <td>1495</td>\n",
       "      <td>tt0320661</td>\n",
       "      <td>2005</td>\n",
       "      <td>Kingdom of Heaven</td>\n",
       "      <td>211643158</td>\n",
       "    </tr>\n",
       "    <tr>\n",
       "      <th>6280</th>\n",
       "      <td>7552</td>\n",
       "      <td>tt0369441</td>\n",
       "      <td>2005</td>\n",
       "      <td>Fun with Dick and Jane</td>\n",
       "      <td>202026112</td>\n",
       "    </tr>\n",
       "    <tr>\n",
       "      <th>6232</th>\n",
       "      <td>533</td>\n",
       "      <td>tt0312004</td>\n",
       "      <td>2005</td>\n",
       "      <td>The Curse of the Were-Rabbit</td>\n",
       "      <td>192452832</td>\n",
       "    </tr>\n",
       "    <tr>\n",
       "      <th>6219</th>\n",
       "      <td>142</td>\n",
       "      <td>tt0388795</td>\n",
       "      <td>2005</td>\n",
       "      <td>Brokeback Mountain</td>\n",
       "      <td>178043761</td>\n",
       "    </tr>\n",
       "    <tr>\n",
       "      <th>6198</th>\n",
       "      <td>1635</td>\n",
       "      <td>tt0399201</td>\n",
       "      <td>2005</td>\n",
       "      <td>The Island</td>\n",
       "      <td>162949164</td>\n",
       "    </tr>\n",
       "  </tbody>\n",
       "</table>\n",
       "</div>"
      ],
      "text/plain": [
       "        id    imdb_id  release_year  \\\n",
       "6190   674  tt0330373          2005   \n",
       "6196  1895  tt0121766          2005   \n",
       "6191   272  tt0372784          2005   \n",
       "6208  9982  tt0371606          2005   \n",
       "6201   561  tt0360486          2005   \n",
       "6213  1495  tt0320661          2005   \n",
       "6280  7552  tt0369441          2005   \n",
       "6232   533  tt0312004          2005   \n",
       "6219   142  tt0388795          2005   \n",
       "6198  1635  tt0399201          2005   \n",
       "\n",
       "                                    original_title    revenue  \n",
       "6190           Harry Potter and the Goblet of Fire  895921036  \n",
       "6196  Star Wars: Episode III - Revenge of the Sith  850000000  \n",
       "6191                                 Batman Begins  374218673  \n",
       "6208                                Chicken Little  314432665  \n",
       "6201                                   Constantine  230427240  \n",
       "6213                             Kingdom of Heaven  211643158  \n",
       "6280                        Fun with Dick and Jane  202026112  \n",
       "6232                  The Curse of the Were-Rabbit  192452832  \n",
       "6219                            Brokeback Mountain  178043761  \n",
       "6198                                    The Island  162949164  "
      ]
     },
     "execution_count": 268,
     "metadata": {},
     "output_type": "execute_result"
    }
   ],
   "source": [
    "#target year in df.year columns befor ten years from now \n",
    "current_year=2015\n",
    "target_year=current_year-10\n",
    "df_ten_years_movies=df[df['release_year']==target_year]\n",
    "#make dataframe for id ,imdb_id,original_title and revenue\n",
    "selected_columns_of_ten_movies=df_ten_years_movies[['id','imdb_id','release_year','original_title','revenue']]\n",
    "df_ten_years_movies_result=selected_columns_of_ten_movies.sort_values(by='revenue',ascending=False).head(10) # sort_values => to get revenue from highest value\n",
    "df_ten_years_movies_result"
   ]
  },
  {
   "cell_type": "markdown",
   "id": "22b78757",
   "metadata": {},
   "source": [
    "## Frozen Movie was the highest revenue in 2013"
   ]
  },
  {
   "cell_type": "code",
   "execution_count": 269,
   "id": "5afa2386",
   "metadata": {},
   "outputs": [
    {
     "data": {
      "image/png": "[encoded data removed]",
      "text/plain": [
       "<Figure size 2000x800 with 1 Axes>"
      ]
     },
     "metadata": {},
     "output_type": "display_data"
    }
   ],
   "source": [
    "\n",
    "plt.figure(figsize=(20, 8));\n",
    "plt.bar(df_ten_years_movies_result['original_title'],df_ten_years_movies_result['revenue'], edgecolor='skyblue');\n",
    "plt.title('Distribution of Revenue for Top 10 Movies from Ten Years Ago');\n",
    "plt.xlabel('otiginal_title',fontsize=8);\n",
    "plt.ylabel('revenue');\n",
    "plt.show();\n"
   ]
  },
  {
   "cell_type": "markdown",
   "id": "107d8afb",
   "metadata": {},
   "source": [
    "## How does the result from the previous question compare to the revenue of ?\n"
   ]
  },
  {
   "cell_type": "code",
   "execution_count": 270,
   "id": "8193c77e",
   "metadata": {},
   "outputs": [
    {
     "data": {
      "text/html": [
       "<div>\n",
       "<style scoped>\n",
       "    .dataframe tbody tr th:only-of-type {\n",
       "        vertical-align: middle;\n",
       "    }\n",
       "\n",
       "    .dataframe tbody tr th {\n",
       "        vertical-align: top;\n",
       "    }\n",
       "\n",
       "    .dataframe thead th {\n",
       "        text-align: right;\n",
       "    }\n",
       "</style>\n",
       "<table border=\"1\" class=\"dataframe\">\n",
       "  <thead>\n",
       "    <tr style=\"text-align: right;\">\n",
       "      <th></th>\n",
       "      <th>id</th>\n",
       "      <th>imdb_id</th>\n",
       "      <th>release_year</th>\n",
       "      <th>original_title</th>\n",
       "      <th>revenue</th>\n",
       "    </tr>\n",
       "  </thead>\n",
       "  <tbody>\n",
       "    <tr>\n",
       "      <th>3</th>\n",
       "      <td>140607</td>\n",
       "      <td>tt2488496</td>\n",
       "      <td>2015</td>\n",
       "      <td>Star Wars: The Force Awakens</td>\n",
       "      <td>2068178225</td>\n",
       "    </tr>\n",
       "    <tr>\n",
       "      <th>0</th>\n",
       "      <td>135397</td>\n",
       "      <td>tt0369610</td>\n",
       "      <td>2015</td>\n",
       "      <td>Jurassic World</td>\n",
       "      <td>1513528810</td>\n",
       "    </tr>\n",
       "    <tr>\n",
       "      <th>4</th>\n",
       "      <td>168259</td>\n",
       "      <td>tt2820852</td>\n",
       "      <td>2015</td>\n",
       "      <td>Furious 7</td>\n",
       "      <td>1506249360</td>\n",
       "    </tr>\n",
       "    <tr>\n",
       "      <th>14</th>\n",
       "      <td>99861</td>\n",
       "      <td>tt2395427</td>\n",
       "      <td>2015</td>\n",
       "      <td>Avengers: Age of Ultron</td>\n",
       "      <td>1405035767</td>\n",
       "    </tr>\n",
       "    <tr>\n",
       "      <th>8</th>\n",
       "      <td>211672</td>\n",
       "      <td>tt2293640</td>\n",
       "      <td>2015</td>\n",
       "      <td>Minions</td>\n",
       "      <td>1156730962</td>\n",
       "    </tr>\n",
       "    <tr>\n",
       "      <th>10</th>\n",
       "      <td>206647</td>\n",
       "      <td>tt2379713</td>\n",
       "      <td>2015</td>\n",
       "      <td>Spectre</td>\n",
       "      <td>880674609</td>\n",
       "    </tr>\n",
       "    <tr>\n",
       "      <th>9</th>\n",
       "      <td>150540</td>\n",
       "      <td>tt2096673</td>\n",
       "      <td>2015</td>\n",
       "      <td>Inside Out</td>\n",
       "      <td>853708609</td>\n",
       "    </tr>\n",
       "    <tr>\n",
       "      <th>25</th>\n",
       "      <td>177677</td>\n",
       "      <td>tt2381249</td>\n",
       "      <td>2015</td>\n",
       "      <td>Mission: Impossible - Rogue Nation</td>\n",
       "      <td>682330139</td>\n",
       "    </tr>\n",
       "    <tr>\n",
       "      <th>19</th>\n",
       "      <td>131634</td>\n",
       "      <td>tt1951266</td>\n",
       "      <td>2015</td>\n",
       "      <td>The Hunger Games: Mockingjay - Part 2</td>\n",
       "      <td>650523427</td>\n",
       "    </tr>\n",
       "    <tr>\n",
       "      <th>7</th>\n",
       "      <td>286217</td>\n",
       "      <td>tt3659388</td>\n",
       "      <td>2015</td>\n",
       "      <td>The Martian</td>\n",
       "      <td>595380321</td>\n",
       "    </tr>\n",
       "  </tbody>\n",
       "</table>\n",
       "</div>"
      ],
      "text/plain": [
       "        id    imdb_id  release_year                         original_title  \\\n",
       "3   140607  tt2488496          2015           Star Wars: The Force Awakens   \n",
       "0   135397  tt0369610          2015                         Jurassic World   \n",
       "4   168259  tt2820852          2015                              Furious 7   \n",
       "14   99861  tt2395427          2015                Avengers: Age of Ultron   \n",
       "8   211672  tt2293640          2015                                Minions   \n",
       "10  206647  tt2379713          2015                                Spectre   \n",
       "9   150540  tt2096673          2015                             Inside Out   \n",
       "25  177677  tt2381249          2015     Mission: Impossible - Rogue Nation   \n",
       "19  131634  tt1951266          2015  The Hunger Games: Mockingjay - Part 2   \n",
       "7   286217  tt3659388          2015                            The Martian   \n",
       "\n",
       "       revenue  \n",
       "3   2068178225  \n",
       "0   1513528810  \n",
       "4   1506249360  \n",
       "14  1405035767  \n",
       "8   1156730962  \n",
       "10   880674609  \n",
       "9    853708609  \n",
       "25   682330139  \n",
       "19   650523427  \n",
       "7    595380321  "
      ]
     },
     "execution_count": 270,
     "metadata": {},
     "output_type": "execute_result"
    }
   ],
   "source": [
    "#we will repeat the last Question and do it for last year 2015 in datasets\n",
    "df_movies_2015=df[df['release_year']==2015]\n",
    "selected_columns_of_ten_movies_last_year=df_movies_2015[['id','imdb_id','release_year','original_title','revenue']]\n",
    "df_ten_years_movies_result_2015=selected_columns_of_ten_movies_last_year.sort_values(by='revenue',ascending=False).head(10)\n",
    "df_ten_years_movies_result_2015\n"
   ]
  },
  {
   "cell_type": "code",
   "execution_count": 271,
   "id": "a0526a38",
   "metadata": {},
   "outputs": [
    {
     "data": {
      "text/html": [
       "<div>\n",
       "<style scoped>\n",
       "    .dataframe tbody tr th:only-of-type {\n",
       "        vertical-align: middle;\n",
       "    }\n",
       "\n",
       "    .dataframe tbody tr th {\n",
       "        vertical-align: top;\n",
       "    }\n",
       "\n",
       "    .dataframe thead th {\n",
       "        text-align: right;\n",
       "    }\n",
       "</style>\n",
       "<table border=\"1\" class=\"dataframe\">\n",
       "  <thead>\n",
       "    <tr style=\"text-align: right;\">\n",
       "      <th></th>\n",
       "      <th>release_year</th>\n",
       "      <th>revenue</th>\n",
       "    </tr>\n",
       "  </thead>\n",
       "  <tbody>\n",
       "    <tr>\n",
       "      <th>0</th>\n",
       "      <td>2005</td>\n",
       "      <td>3612114641</td>\n",
       "    </tr>\n",
       "    <tr>\n",
       "      <th>1</th>\n",
       "      <td>2015</td>\n",
       "      <td>11312340229</td>\n",
       "    </tr>\n",
       "  </tbody>\n",
       "</table>\n",
       "</div>"
      ],
      "text/plain": [
       "   release_year      revenue\n",
       "0          2005   3612114641\n",
       "1          2015  11312340229"
      ]
     },
     "execution_count": 271,
     "metadata": {},
     "output_type": "execute_result"
    }
   ],
   "source": [
    "#we need to concat the two dataframe\n",
    "\n",
    "merged_df=pd.concat([df_ten_years_movies_result,df_ten_years_movies_result_2015])\n",
    "merged_df_sum=pd.DataFrame(merged_df.groupby('release_year')['revenue'].sum(),columns=['revenue']).reset_index()\n",
    "\n",
    "merged_df_sum"
   ]
  },
  {
   "cell_type": "code",
   "execution_count": 272,
   "id": "754c8269",
   "metadata": {},
   "outputs": [
    {
     "data": {
      "image/png": "[encoded data removed]",
      "text/plain": [
       "<Figure size 1000x500 with 1 Axes>"
      ]
     },
     "metadata": {},
     "output_type": "display_data"
    }
   ],
   "source": [
    "# now we will compare the 20\n",
    "plt.figure(figsize=(10,5));\n",
    "plt.bar(merged_df_sum['release_year'],merged_df_sum['revenue'], edgecolor='skyblue');\n",
    "plt.title('chart To Compare revenue between 2005 VS 2015');\n",
    "plt.xlabel('release_year');\n",
    "plt.ylabel('revenue');\n",
    "plt.show();"
   ]
  },
  {
   "cell_type": "markdown",
   "id": "17c05655",
   "metadata": {},
   "source": [
    ">> #### An insightful observation is evident in the data, revealing a remarkable increase of over one billion dollars in total revenue for the top 10 movies in 2015. This substantial rise underscores the considerable success and financial impact of these films during that particular year "
   ]
  },
  {
   "cell_type": "markdown",
   "id": "7421d2e6",
   "metadata": {},
   "source": [
    "## How do budget and revenue compare over the last ten years?"
   ]
  },
  {
   "cell_type": "code",
   "execution_count": 273,
   "id": "90bb0593",
   "metadata": {},
   "outputs": [
    {
     "data": {
      "text/plain": [
       "Index(['budget', 'revenue'], dtype='object')"
      ]
     },
     "execution_count": 273,
     "metadata": {},
     "output_type": "execute_result"
    }
   ],
   "source": [
    "\n",
    "# Assuming you have already filtered the data for the last ten years\n",
    "\n",
    "\n",
    "merged_df_budget_revenue=df.groupby(by='release_year')[['budget','revenue']].sum()\n",
    "merged_df_budget_revenue\n",
    "merged_compare=merged_df_budget_revenue.sort_values(by='release_year',ascending=False).head(10)\n",
    "merged_compare.columns\n",
    "\n"
   ]
  },
  {
   "cell_type": "code",
   "execution_count": 274,
   "id": "a7d33984",
   "metadata": {},
   "outputs": [
    {
     "name": "stderr",
     "output_type": "stream",
     "text": [
      "No artists with labels found to put in legend.  Note that artists whose label start with an underscore are ignored when legend() is called with no argument.\n"
     ]
    },
    {
     "data": {
      "image/png": "[encoded data removed]",
      "text/plain": [
       "<Figure size 640x480 with 1 Axes>"
      ]
     },
     "metadata": {},
     "output_type": "display_data"
    }
   ],
   "source": [
    "\n",
    "plt.bar(merged_compare.index,merged_compare['budget'], edgecolor='blue',alpha=0.7);\n",
    "plt.bar(merged_compare.index,merged_compare['revenue'], edgecolor='skyblue',alpha=0.7);\n",
    "plt.title('chart To Compare revenue between 2005 To 2015');\n",
    "plt.xlabel('release_year');\n",
    "plt.ylabel('revenue');\n",
    "plt.legend()\n",
    "plt.show();"
   ]
  },
  {
   "cell_type": "markdown",
   "id": "928e413c",
   "metadata": {},
   "source": [
    ">> #### The observed upward trend in revenue from 2005 to 2015 highlights a substantial increase. Unlike revenue, which depicts a positive trajectory, the budget appears to be independent of costs and not directly related to revenue.\n",
    "\n",
    ">> #### A closer examination of the budget data for 2014 and 2013 reveals an interesting pattern. The budget in 2013 is higher than that in 2014, indicating fluctuations in investment decisions over these two years.\n",
    "\n",
    ">> #### It's noteworthy that the budget represents only a quarter of the revenue, suggesting that movies' investments have proven to be sound choices. This further emphasizes the profitability and success of these cinematic ventures."
   ]
  },
  {
   "cell_type": "markdown",
   "id": "adcc5810",
   "metadata": {},
   "source": [
    "## Is there any correlation between vote_count and budget_ads, reflecting people's satisfaction?"
   ]
  },
  {
   "cell_type": "code",
   "execution_count": 275,
   "id": "266fa08e",
   "metadata": {},
   "outputs": [
    {
     "data": {
      "image/png": "[encoded data removed]",
      "text/plain": [
       "<Figure size 640x480 with 1 Axes>"
      ]
     },
     "metadata": {},
     "output_type": "display_data"
    },
    {
     "name": "stdout",
     "output_type": "stream",
     "text": [
      "The positive correlation of 0.68 suggests a generally favorable relationship, where higher investments tend to yield higher returns.\n",
      "The magnitude of the difference between `budget_adj` and `revenue_adj` averages at 84162243.91, highlighting the financial dynamics between budget and revenue.\n"
     ]
    }
   ],
   "source": [
    "\n",
    "\n",
    "\n",
    "\n",
    "\n",
    "# Scatter plot\n",
    "plt.scatter(df['budget_adj'], df['revenue_adj'], alpha=0.5)\n",
    "plt.title('Scatter Plot of budget_adj vs. revenue_adj')\n",
    "plt.xlabel('budget_adj')\n",
    "plt.ylabel('revenue_adj')\n",
    "plt.grid(True)\n",
    "plt.show()\n",
    "\n",
    "# Insert interpretation\n",
    "correlation = 0.6816177552284475\n",
    "difference_magnitude = 84162243.91391516\n",
    "\n",
    "# Scatter plot interpretation\n",
    "if correlation > 0:\n",
    "    interpretation = f\"The positive correlation of {correlation:.2f} suggests a generally favorable relationship, where higher investments tend to yield higher returns.\"\n",
    "elif correlation < 0:\n",
    "    interpretation = f\"The negative correlation of {correlation:.2f} indicates a potentially challenging dynamic, where higher investments may not necessarily lead to higher returns.\"\n",
    "else:\n",
    "    interpretation = \"There is no significant correlation between `budget_adj` and `revenue_adj`.\"\n",
    "\n",
    "# Magnitude of the difference interpretation\n",
    "magnitude_interpretation = f\"The magnitude of the difference between `budget_adj` and `revenue_adj` averages at {difference_magnitude:.2f}, highlighting the financial dynamics between budget and revenue.\"\n",
    "\n",
    "# Print the interpretations\n",
    "print(interpretation)\n",
    "print(magnitude_interpretation)\n"
   ]
  },
  {
   "cell_type": "markdown",
   "id": "cd98306e",
   "metadata": {},
   "source": [
    ">> ### After analyzing the data, we found a positive correlation of approximately 0.68 between budget_adj and revenue_adj, suggesting a generally favorable relationship. This implies that, on average, higher investments in movies tend to correspond with higher returns. Additionally, the magnitude of the difference between budget_adj and revenue_adj averages at approximately $84.16 million, highlighting the financial dynamics between budget and revenue. These insights provide valuable information for decision-making in budget planning and revenue forecasting within the context of the analyzed dataset."
   ]
  }
 ],
 "metadata": {
  "kernelspec": {
   "display_name": "Python 3 (ipykernel)",
   "language": "python",
   "name": "python3"
  },
  "language_info": {
   "codemirror_mode": {
    "name": "ipython",
    "version": 3
   },
   "file_extension": ".py",
   "mimetype": "text/x-python",
   "name": "python",
   "nbconvert_exporter": "python",
   "pygments_lexer": "ipython3",
   "version": "3.10.11"
  }
 },
 "nbformat": 4,
 "nbformat_minor": 5
}
